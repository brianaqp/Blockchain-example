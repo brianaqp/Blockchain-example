{
 "cells": [
  {
   "cell_type": "markdown",
   "id": "025a4b70-64f9-4921-ba52-c67abe78eb07",
   "metadata": {
    "tags": []
   },
   "source": [
    "### Proof of Work"
   ]
  },
  {
   "cell_type": "markdown",
   "id": "44afddae-c824-4e7a-b1f9-2a8a87c36d5e",
   "metadata": {},
   "source": [
    "Recordemos que Proof of Work, grosso modo, son varios nodos utilizando su poder computacional para ganar una carrera. La carrera se gana resolviendo un \"acertijo matemático\" encontrando un número llamado \"nonce\". Los bloques pasan a ser parte de la red cuando el nonce es encontrado y los demás nodos llegan a un acuerdo.\n",
    "\n",
    "Nos vamos a centrar en acertijo que hay que resolver y el como se halla la solución."
   ]
  },
  {
   "cell_type": "markdown",
   "id": "025b7fae-3f8f-47f7-a712-631988bfb985",
   "metadata": {},
   "source": [
    "#### El acertijo"
   ]
  },
  {
   "cell_type": "markdown",
   "id": "a9933b84-ef3a-4848-8f14-78319c5280b9",
   "metadata": {},
   "source": [
    "Vamos a desarrollar un pequeño ejemplo para visualizar cómo se resuelve un acertijo en Proof of Work."
   ]
  },
  {
   "cell_type": "code",
   "execution_count": 15,
   "id": "9f696658-1bba-42e8-93f7-a7c17f885122",
   "metadata": {},
   "outputs": [
    {
     "data": {
      "text/plain": [
       "'ebd510e521801dc7ab91d89dcbbcd7aa30fd31ff8bb591401b2f8c87f1c2dd4a'"
      ]
     },
     "execution_count": 15,
     "metadata": {},
     "output_type": "execute_result"
    }
   ],
   "source": [
    "from Crypto.Hash import SHA256\n",
    "contenido_a_cifrar = \"ultra secreto\"\n",
    "\n",
    "# De manera normal, si hacemos un hash de lo de arriba se ve asi.\n",
    "hash_normal = SHA256.new(contenido_a_cifrar.encode())\n",
    "hash_normal.hexdigest()"
   ]
  },
  {
   "cell_type": "markdown",
   "id": "614ae697-fefa-4bd9-aef3-043beaa63f8e",
   "metadata": {},
   "source": [
    "El acertijo en Blockchain suele ser encontrar un hash que cumpla ciertas condiciones:\n",
    "1. Que los primeros \"n\" caracteres del hash sea 0. \"n\" podrían ser 3, 5 o 7 ceros.\n",
    "2. Que el valor Hash en decimal, sea mayor a un target.\n",
    "\n",
    "Veámoslo:"
   ]
  },
  {
   "cell_type": "markdown",
   "id": "a464cc5b-1669-4259-a0fb-0b92833b4f76",
   "metadata": {},
   "source": [
    "Si solo hacemos un hash no vamos a resolver nada.\n",
    "Necesitamos iterar muchas veces para encontrar un HASH que cumpla las condiciones. Para ello, existe el nonce.\n",
    "\n",
    "Lo primero sería cifrar lo que sea que queramos cifrar."
   ]
  },
  {
   "cell_type": "code",
   "execution_count": 16,
   "id": "d3ca0c65-119b-4bc2-be3d-99c3296e2123",
   "metadata": {},
   "outputs": [],
   "source": [
    "from Crypto.Hash import SHA256\n",
    "\n",
    "contenido_a_cifrar = { \n",
    "    \"contenido\": \"ultra secreto\",\n",
    "    \"nonce\": 0} # Incluimos el nonce en el contenido a cifrar"
   ]
  },
  {
   "cell_type": "markdown",
   "id": "9119538f-7c50-4f73-87a8-043e95cb5950",
   "metadata": {},
   "source": [
    "Definimos una dificultad \"target\" que nuestro hash debe de igualar o superar para considerar nuestro hash válido. "
   ]
  },
  {
   "cell_type": "code",
   "execution_count": 17,
   "id": "6a444297-8606-4560-8300-daf6b93bcaf1",
   "metadata": {},
   "outputs": [],
   "source": [
    "difficulty_hash = 0x0000FFFFFFFFFFFFFFFFFFFFFFFFFFFFFFFFFFFFFFFFFFFFFFFFFFFFFFFFFFFF\n",
    "difficulty_decimal = 1766847064778384329583297500742918515827483896875618958121606201292619775 # Esto equivale a lo mismo que arriba"
   ]
  },
  {
   "cell_type": "markdown",
   "id": "f9e78cff-2c08-4909-b5d8-34e4e2c6d8c8",
   "metadata": {},
   "source": [
    "difficulty_hash y difficulty_decimal equivalen a lo mismo. \n",
    "\n",
    "En este ejemplo, nuestro hash tiene que tener en sus primeros 4 digitos el número 0."
   ]
  },
  {
   "cell_type": "markdown",
   "id": "23fc10a4-afa9-44ce-a8f2-463f9ec7422b",
   "metadata": {},
   "source": [
    "Obtenemos el primer hash con el nonce en 0."
   ]
  },
  {
   "cell_type": "code",
   "execution_count": 18,
   "id": "9c556e59-c4a8-4d53-80d0-8224fca25301",
   "metadata": {},
   "outputs": [
    {
     "data": {
      "text/plain": [
       "(0, '63c03dc83f41c06e31d8daf87718110fe4b4dc8a6b47f2c9db8b1d2b52e7046f')"
      ]
     },
     "execution_count": 18,
     "metadata": {},
     "output_type": "execute_result"
    }
   ],
   "source": [
    "hash_resultante = SHA256.new(str(contenido_a_cifrar).encode())\n",
    "contenido_a_cifrar[\"nonce\"], hash_resultante.hexdigest()"
   ]
  },
  {
   "cell_type": "markdown",
   "id": "1a1a1b73-8e6c-4ac1-b4eb-94dec509359b",
   "metadata": {},
   "source": [
    "Para nada está cerca. Por lo que vamos a incluir un bucle While que vaya aumentando el nonce y revisando que el hash haya alcanzado el target."
   ]
  },
  {
   "cell_type": "code",
   "execution_count": 19,
   "id": "c80fbf83-a70a-490e-9c3b-ffd1a80f6e55",
   "metadata": {},
   "outputs": [
    {
     "name": "stdout",
     "output_type": "stream",
     "text": [
      "0000882567fe350c0c382ee3d5dd3bf34478069b8508a0e84f6124096949abae , nonce:  159043\n"
     ]
    }
   ],
   "source": [
    "# Solo Si el hash resultante es mayor o igual a el target de dificultad, puedes salir del bucle.\n",
    "# Si no cumple la condicion, se aumenta el valor del nonce, y se vuelve a cifrar el contenido \n",
    "while int(hash_resultante.hexdigest(), 16) >= difficulty_hash: # En vez de difficulty_decimal, podria usarse difficulty_hash\n",
    "    contenido_a_cifrar[\"nonce\"] += 1\n",
    "    hash_resultante = SHA256.new(str(contenido_a_cifrar).encode())\n",
    "print(hash_resultante.hexdigest(), \", nonce: \", contenido_a_cifrar[\"nonce\"]) # El nonce, en este caso, tambien nos indica su propio numero de iteraciones."
   ]
  },
  {
   "cell_type": "markdown",
   "id": "705790c5-e70a-4d4e-a8b8-600089f20b2f",
   "metadata": {},
   "source": [
    "Con el acertijo resuelto, un bloque está listo para ser anexado a la red.\n",
    "\n",
    "El nonce se encuentra después de varias iteraciones. Todos los nodos que están compitiendo para ser los primeros en ganar la carrera buscan este valor, puede que algunos lo intenten con algún algoritmo distinto, pero en esencia es lo mismo. \n",
    "\n",
    "En cadenas de bloques que contienen a muchos mineros en su red (Bitcoin), cuentan con un sistema en el que cada que se mina un bloque se ajusta la dificultad en relación a los mineros trabajando. Por ejemplo, Bitcoin ajusta su dificultad para que cada bloque se mine en aproximados 10 minutos."
   ]
  },
  {
   "cell_type": "markdown",
   "id": "2bb41181-a6f3-423e-a9d4-0eb47360fe7e",
   "metadata": {},
   "source": [
    "La principal desventaja del consenso Proof of Work es el consumo excesivo de energía. \n",
    "Para resolver este problema, se creó un consenso más amigable para el ambiente llamado Proof of Stake. Veámoslo en el siguiente capítulo."
   ]
  }
 ],
 "metadata": {
  "kernelspec": {
   "display_name": "Python 3 (ipykernel)",
   "language": "python",
   "name": "python3"
  },
  "language_info": {
   "codemirror_mode": {
    "name": "ipython",
    "version": 3
   },
   "file_extension": ".py",
   "mimetype": "text/x-python",
   "name": "python",
   "nbconvert_exporter": "python",
   "pygments_lexer": "ipython3",
   "version": "3.10.6"
  }
 },
 "nbformat": 4,
 "nbformat_minor": 5
}
