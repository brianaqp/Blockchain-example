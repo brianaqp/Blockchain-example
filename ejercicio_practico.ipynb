{
 "cells": [
  {
   "cell_type": "markdown",
   "id": "c77206b0-49e1-40cf-a151-9c632882cee9",
   "metadata": {
    "jp-MarkdownHeadingCollapsed": true,
    "tags": []
   },
   "source": [
    "# Requerimientos"
   ]
  },
  {
   "cell_type": "code",
   "execution_count": 106,
   "id": "5d4cad4e-6c7e-4c6a-b66a-079c54ce261e",
   "metadata": {},
   "outputs": [
    {
     "name": "stdout",
     "output_type": "stream",
     "text": [
      "Requirement already satisfied: pycryptodome in c:\\users\\brian\\appdata\\local\\packages\\pythonsoftwarefoundation.python.3.9_qbz5n2kfra8p0\\localcache\\local-packages\\python39\\site-packages (3.14.1)\n"
     ]
    },
    {
     "name": "stderr",
     "output_type": "stream",
     "text": [
      "WARNING: There was an error checking the latest version of pip.\n"
     ]
    }
   ],
   "source": [
    "import sys\n",
    "!{sys.executable} -m pip install pycryptodome"
   ]
  },
  {
   "cell_type": "markdown",
   "id": "1a34110b-1024-4856-9d4a-91addb5cda63",
   "metadata": {
    "tags": []
   },
   "source": [
    "# Ejemplo de una blockchain con Python \n",
    "En este ejemplo se va a desarrollar una cadena de bloques que haga lo siguiente:\n",
    "- Trabaje con el consenso Proof of Work y Proof of Stake\n",
    "- Incluya transacciones entre dos usuarios en la red.\n",
    "- Incluya cifrado asimetrico de un solo camino"
   ]
  },
  {
   "cell_type": "markdown",
   "id": "ff1fe183-3a42-4b94-8e20-bbc2780cae0e",
   "metadata": {},
   "source": [
    "Lo primero es subdivir como lo vamos a desarrollar. \n",
    "(Muy problablemente)\n",
    "Desarrollar una clase:\n",
    "1. Transaction\n",
    "2. Account\n",
    "3. Block\n",
    "4. Blockchain"
   ]
  },
  {
   "cell_type": "markdown",
   "id": "464f7fa8-6dab-4931-9732-8f581f5a2751",
   "metadata": {},
   "source": [
    "Primero desarrollamos los elementos que interactuan dentro de la blockchain, para despues integrarlo todo en una clase Blockchain."
   ]
  },
  {
   "cell_type": "markdown",
   "id": "a7b82c5b-a1ec-40c4-8aa7-576baf3f04b2",
   "metadata": {
    "jp-MarkdownHeadingCollapsed": true,
    "tags": []
   },
   "source": [
    "## Clase Block"
   ]
  },
  {
   "cell_type": "markdown",
   "id": "f04f0b9e-fb5c-4ffd-a1dd-4701732fff16",
   "metadata": {},
   "source": [
    "Una bloque es donde se guarda la informacion en blockchain y se cifra. Los atributos principales, o que tienen mas relevancia serian los siguientes:\n",
    "\n",
    "Numero del bloque: Altura del bloque actual en la cadena.\n",
    "Hash del bloque anterior: Firma digital del bloque anterior en la cadena.\n",
    "Lista de transacciones: Transacciones contenidas y procesadas.\n",
    "Hash del bloque actual: Firma digital del bloque actual."
   ]
  },
  {
   "cell_type": "markdown",
   "id": "29b36b8f-f354-47ea-9e28-9f59c772b009",
   "metadata": {},
   "source": [
    "Aunque tambien tiene otros atributos:\n",
    "- Merkle Root: Hash del estado actual de la blockchain.\n",
    "- Timestamp: Hora en la que el bloque se añadio a la cadena de bloques.\n",
    "- Nonce: Numero magico que resuelve el \"acertijo\" en el consenso Proof of Work."
   ]
  },
  {
   "cell_type": "markdown",
   "id": "a2f75c5d-4b41-4189-9d95-3cf61ba281de",
   "metadata": {},
   "source": [
    "En nuestro directorio de trabajo vamos a crear un archivo llamado block.py. Vamos a añadirle los atributos que necesitamos, y algunos metodos que nos van a ayudar en un futuro con algunas funciones de la blockchain."
   ]
  },
  {
   "cell_type": "code",
   "execution_count": 107,
   "id": "62c12fef-344c-47b3-acf2-6eb6aa51faa1",
   "metadata": {},
   "outputs": [
    {
     "ename": "ModuleNotFoundError",
     "evalue": "No module named 'account'",
     "output_type": "error",
     "traceback": [
      "\u001b[1;31m---------------------------------------------------------------------------\u001b[0m",
      "\u001b[1;31mModuleNotFoundError\u001b[0m                       Traceback (most recent call last)",
      "Cell \u001b[1;32mIn [107], line 2\u001b[0m\n\u001b[0;32m      1\u001b[0m \u001b[38;5;28;01mfrom\u001b[39;00m \u001b[38;5;21;01mdatetime\u001b[39;00m \u001b[38;5;28;01mimport\u001b[39;00m datetime, date\n\u001b[1;32m----> 2\u001b[0m \u001b[38;5;28;01mfrom\u001b[39;00m \u001b[38;5;21;01maccount\u001b[39;00m \u001b[38;5;28;01mimport\u001b[39;00m Account\n\u001b[0;32m      5\u001b[0m \u001b[38;5;28;01mclass\u001b[39;00m \u001b[38;5;21;01mBlock\u001b[39;00m:\n\u001b[0;32m      6\u001b[0m     \u001b[38;5;28;01mdef\u001b[39;00m \u001b[38;5;21m__init__\u001b[39m(\u001b[38;5;28mself\u001b[39m, previous_hash: \u001b[38;5;28mstr\u001b[39m, list_of_transactions: \u001b[38;5;28mlist\u001b[39m, block_number: \u001b[38;5;28mint\u001b[39m) \u001b[38;5;241m-\u001b[39m\u001b[38;5;241m>\u001b[39m \u001b[38;5;28;01mNone\u001b[39;00m:\n\u001b[0;32m      7\u001b[0m \n\u001b[0;32m      8\u001b[0m         \u001b[38;5;66;03m# Atributos de la clase Block\u001b[39;00m\n",
      "\u001b[1;31mModuleNotFoundError\u001b[0m: No module named 'account'"
     ]
    }
   ],
   "source": [
    "from datetime import datetime, date\n",
    "from account import Account\n",
    "\n",
    "\n",
    "class Block:\n",
    "    def __init__(self, previous_hash: str, list_of_transactions: list, block_number: int) -> None:\n",
    "\n",
    "        # Atributos de la clase Block\n",
    "        self.block_number = block_number \n",
    "        self.previous_hash = previous_hash \n",
    "        self.list_of_transactions = list_of_transactions \n",
    "        self.hash = 0 \n",
    "        self.merkle_root = 0 \n",
    "        self.nonce = 0 \n",
    "        \n",
    "        # Bucle for que recorre la list de transacciones y les asigna su numero de bloque\n",
    "        for tx in self.list_of_transactions:\n",
    "            tx.block = block_number\n",
    "\n",
    "        # Hora en la que el bloque es creado\n",
    "        now = datetime.now()\n",
    "        time = now.strftime(\"%H:%M:%S\")\n",
    "        today = str(date.today())\n",
    "        self.time_stamp = time + \" \" + today"
   ]
  },
  {
   "cell_type": "code",
   "execution_count": null,
   "id": "60718e3a-a918-4b32-9822-08c669fc98b2",
   "metadata": {
    "tags": []
   },
   "outputs": [],
   "source": [
    "from datetime import datetime, date\n",
    "from account import Account\n",
    "\n",
    "\n",
    "class Block:\n",
    "    def __init__(self, previous_hash: str, list_of_transactions: list, block_number: int):\n",
    "        # Atributos de la clase Block\n",
    "        self.block_number = block_number\n",
    "        self.previous_hash = previous_hash  \n",
    "        self.list_of_transactions = list_of_transactions\n",
    "        self.nonce = 0\n",
    "        self.hash = 0\n",
    "        self.merkle_root = 0\n",
    "        \n",
    "         # timestamp del bloque\n",
    "        now = datetime.now()\n",
    "        time = now.strftime(\"%H:%M:%S\")\n",
    "        today = str(date.today())\n",
    "        self.time_stamp = time + \" \" + today\n",
    "\n",
    "        # Bucle for que recorre la list de transacciones y les asigna su numero de bloque\n",
    "        for tx in self.list_of_transactions:\n",
    "            tx.block = block_number\n",
    "       \n",
    "\n",
    "    def get_block_header(self) -> dict:\n",
    "        \"\"\"\" Funcion que retorna un diccionario con el encabezado de nuestro bloque.\n",
    "        \"\"\"\n",
    "        return {\n",
    "            'previous_block_hash':self.previous_hash,\n",
    "            'nonce': self.nonce,\n",
    "            'transactions':self.get_tx_in_format()\n",
    "        }\n",
    "\n",
    "    def print_block_info(self) -> None:\n",
    "        \"\"\"Funcion que imprime la informacion del bloque, pero bonito.\"\"\"\n",
    "        print(\"-------------\")\n",
    "        print(\"Bloque No: \", self.block_number)\n",
    "        print(\"Transacciones: \")\n",
    "        self.print_tx_in_format()\n",
    "        print(\"Hash anterior: \", self.previous_hash)\n",
    "        print(\"Hash actual: \", self.hash)\n",
    "        print(\"Time stamp: \", self.time_stamp)\n",
    "\n",
    "    def print_tx_in_format(self) -> None:\n",
    "        \"\"\"Funcion que imprime de manera secuencial, y en formato,\n",
    "        las transacciones del bloque.\"\"\"\n",
    "        for tx in self.list_of_transactions:\n",
    "            print(\n",
    "                f\"- {tx.sender.nickname} send {tx.value} to {tx.recipient.nickname}\")\n",
    "    \n",
    "    def get_tx_in_format(self) -> str:\n",
    "        \"\"\"Funcion que regresa una cadena de caracteres, de una lista que contiene las transacciones\n",
    "        del bloque.\"\"\"\n",
    "        tx_list = []\n",
    "        for tx in self.list_of_transactions:\n",
    "            tx_in_str = f\"{tx.sender.nickname} send {tx.value} to {tx.recipient.nickname}\"\n",
    "            tx_list.append(tx_in_str)\n",
    "        return str(tx_list)\n",
    "\n"
   ]
  },
  {
   "cell_type": "markdown",
   "id": "d5364ac6-d843-4d89-926c-b88e5125345b",
   "metadata": {
    "jp-MarkdownHeadingCollapsed": true,
    "tags": []
   },
   "source": [
    "## Clase Account"
   ]
  },
  {
   "cell_type": "markdown",
   "id": "afad958e-b407-4576-9a59-589d5f5f73c6",
   "metadata": {},
   "source": [
    "Una cuenta es el medio por el que un usuario puede interactuar en la blockchain, tener activos y hacer transacciones hacia otros usuarios. Pueden tener un nickname, tienen un balance y un historial que registra las transacciones que han realizado. En blockchain, las cuentas cuentan con cifrado asimetrico, en otras palabras, con llaves publicas y privadas.\n",
    "\n",
    "Cada objeto Account tendra una llave publica que funge como un identificador publico para la cuenta, y una llave privada para autorizar transacciones de la cuenta. "
   ]
  },
  {
   "cell_type": "markdown",
   "id": "09315c13-f553-49e3-ae07-587bc42851d9",
   "metadata": {},
   "source": [
    "Vamos a añadir un archivo al directorio de trabajo llamado account.py. En el vamos a crear un objeto que nos ayuda a fungir el papel de cuenta en una red blockchain."
   ]
  },
  {
   "cell_type": "code",
   "execution_count": null,
   "id": "de6eedd4-b72c-42e2-8113-fdea21c1f51a",
   "metadata": {},
   "outputs": [],
   "source": [
    "import binascii\n",
    "from Crypto.PublicKey import RSA\n",
    "from Crypto.Signature.pkcs1_15 import PKCS115_SigScheme\n",
    "\n",
    "class Account:\n",
    "    def __init__(self, nickname: str):\n",
    "        self.nickname = nickname\n",
    "        self.balance = 100\n",
    "        self.list_of_all_transactions = []\n",
    "        # Cifrado asimetrico\n",
    "        self.private_key = RSA.generate(1024) # Llave privada con algoritmo RSA de 1024 bites \n",
    "        self.public_key = self.private_key.publickey() # Llave publica \n",
    "        self.signer = PKCS115_SigScheme(self.private_key) # (1)\n",
    "        self.verifier = PKCS115_SigScheme(self.public_key) # (2)\n",
    "\n",
    "    @property\n",
    "    def identity(self):\n",
    "        return binascii.hexlify(self.public_key.exportKey(format=\"DER\")).decode('ascii') # (3)\n"
   ]
  },
  {
   "cell_type": "markdown",
   "id": "69a8f772-fe4d-4668-b410-29049b2ae3ee",
   "metadata": {},
   "source": [
    "A nuestra clase Account le añadimos los atributos nickname, balance y su lista de transacciones. Pero vamos a prestarle mas atencion a los otros conceptos debajo del comentario **# Cifrado asimetrico.**"
   ]
  },
  {
   "cell_type": "markdown",
   "id": "d5fa38fa-eb26-4483-9020-06faa5116117",
   "metadata": {
    "tags": []
   },
   "source": [
    "### Visualizacion de las llaves \n",
    "Primero observaremos las llaves que se instancian por cuenta. Con la bibloteca Crypto podemos usar el modulo PublicKey para tener acceso al algoritmo RSA. \n",
    "\n",
    "El como se visualizan las llaves, lo veran a continuacion."
   ]
  },
  {
   "cell_type": "code",
   "execution_count": null,
   "id": "ce5986b0-101f-4e2f-8333-5818b88bb9d5",
   "metadata": {},
   "outputs": [],
   "source": [
    "from Crypto.PublicKey import RSA\n",
    "private_key = RSA.generate(1024)\n",
    "private_key.exportKey() # LLave privada"
   ]
  },
  {
   "cell_type": "code",
   "execution_count": null,
   "id": "bea6f0fd-4cd7-44e1-95fd-4697dc851df4",
   "metadata": {},
   "outputs": [],
   "source": [
    "private_key.publickey().exportKey() # LLave publica"
   ]
  },
  {
   "cell_type": "markdown",
   "id": "f09ce8df-f707-4fda-941f-87b1f1f1bffe",
   "metadata": {},
   "source": [
    "La llave privada se suele visualizar de otra manera, esta manera la vamos a llamar 'identidad'. "
   ]
  },
  {
   "cell_type": "markdown",
   "id": "6e7101c3-b982-494a-907d-54a2cbdedc6e",
   "metadata": {},
   "source": [
    "### Identidad"
   ]
  },
  {
   "cell_type": "markdown",
   "id": "2e6e7fe3-d0cb-4040-9fc8-24cf7aaf67ed",
   "metadata": {},
   "source": [
    "Las llaves publicas son el identificador de una cuenta, pero no se presentan o se visualizan como se ve arriba. Hay que convertirlo a hexadecimal para que sea visiblemente mas accesible."
   ]
  },
  {
   "cell_type": "code",
   "execution_count": null,
   "id": "2dd5a319-4fb2-4ec1-9fa9-dbedab30cf52",
   "metadata": {},
   "outputs": [],
   "source": [
    "import binascii\n",
    "binascii.hexlify(private_key.publickey().exportKey(format=\"DER\")).decode('ascii') # (3)\n",
    "# este funcion convierte lo que exporta RSA en hexadecimal, haciendolo mas visible."
   ]
  },
  {
   "cell_type": "markdown",
   "id": "bcf70638-bb8b-4f8e-a500-72e3a12ee712",
   "metadata": {},
   "source": [
    "### Signer y Verifier de una cuenta"
   ]
  },
  {
   "cell_type": "markdown",
   "id": "ae080c8d-fcd9-46a4-bf3d-b0272b32fa56",
   "metadata": {},
   "source": [
    "Cada cuenta va a tener, digamos, dos items. Una va a ser una pluma, o una \"firmadora\", que nos ayudara a \"firmar\" las transacciones. Y la otra es una \"verificadora\", que se asegura que esa firma es legitima y que ni el contenido, ni la firma, ni el remitente, hayan cambiado.\n",
    "\n",
    "Derivadas de estas llaves, se obtienen estos items. (1 y 2)\n",
    "- Para crear el signer, se necesita la llave privada de la cuenta para autorizan/firman las transacciones. \n",
    "- Para crear el verifier, se necesita la llave publica de la cuenta para verificar el contenido, autor y firma digital de la transaccion."
   ]
  },
  {
   "cell_type": "markdown",
   "id": "971d9bc3-84f0-42d7-af5a-56f7850c96ff",
   "metadata": {},
   "source": [
    "Con la bibloteca Crypto podemos usar el modulo Signature.pkcs1_15 para obtener un objeto de tipo PKCS115_SigScheme. Con el podemos instanciar nuestra firmadora y nuestra verificadora."
   ]
  },
  {
   "cell_type": "code",
   "execution_count": null,
   "id": "b4870247-775f-4dcd-ba27-9552ed13a8ab",
   "metadata": {},
   "outputs": [],
   "source": [
    "firmadora = PKCS115_SigScheme(private_key)  # Se instancia con la llave privada\n",
    "verificadora = PKCS115_SigScheme(private_key.publickey())  # Se instancia con la llave publica"
   ]
  },
  {
   "cell_type": "markdown",
   "id": "b5b3f7f4-2e8e-4d19-b7bb-8746db720cda",
   "metadata": {},
   "source": [
    "En nuestra clase Account, cada cuenta va a contar con su propio firmador y verificador, mas adelante veremos como se aplican."
   ]
  },
  {
   "cell_type": "markdown",
   "id": "fdfd4d8d-a80e-4512-8730-42df7a0f443b",
   "metadata": {
    "jp-MarkdownHeadingCollapsed": true,
    "tags": []
   },
   "source": [
    "## Clase Transacccion"
   ]
  },
  {
   "cell_type": "markdown",
   "id": "a60f5ab1-c0c5-46cb-a894-971ec45e96c4",
   "metadata": {},
   "source": [
    "Una transaccion en el contexto de blockchain es un cambio de estado en la red. Las transacciones de nuestra blockchain permiten que dos usuarios puedan transferirse dinero virtual.\n",
    "\n",
    "Cada transaccion tiene 3 elementos principales.\n",
    "- Quien manda la transaccion (sender)\n",
    "- Quien la recibe (recipient)\n",
    "- Cuanto dinero es (value)\n",
    "\n",
    "Y elementos \"informativos\", sirven para guardar informacion importante de la transaccion en si misma.\n",
    "\n",
    "- Timestamp: Hora en la que la transaccion fue añadida a la red.\n",
    "- Block: Bloque al que pertenece la transaccion.\n",
    "- Signature: Firma digital de la transaccion. \n",
    "- Status: Estado actual de la transaccion."
   ]
  },
  {
   "cell_type": "code",
   "execution_count": null,
   "id": "6596987d-abc7-44a1-ad48-10a4fa2b7ac9",
   "metadata": {},
   "outputs": [],
   "source": []
  },
  {
   "cell_type": "markdown",
   "id": "19116e66-ea01-45e6-b6bd-cf3a226bf32e",
   "metadata": {},
   "source": [
    "Vamos a crear en nuestro directorio de trabajo un archivo llamado transaction.py. En el escribiremos los atributos y metodos que necesitamos."
   ]
  },
  {
   "cell_type": "code",
   "execution_count": null,
   "id": "ea21c9ee-cd17-419e-b069-14c688854ed3",
   "metadata": {},
   "outputs": [],
   "source": [
    "from Account import Account \n",
    "\n",
    "class Transaction:\n",
    "    def __init__(self, sender: Account, value: int, recipient: Account):\n",
    "        self.sender = sender\n",
    "        self.value = value\n",
    "        self.recipient = recipient\n",
    "        self.time = datetime.now().strftime(\"%d/%m/%Y %H:%M:%S\")\n",
    "        self.block = None\n",
    "        self.signature = None\n",
    "        self.status = TxStatus.PENDIENTE # (1)\n",
    "        # Al instanciarse una tx, esta debe reflejarse en la cuenta que la envia. (Sender)\n",
    "        sender.list_of_all_transactions.append(self) # (2)"
   ]
  },
  {
   "cell_type": "markdown",
   "id": "312de887-9ee8-453f-ae0d-08e91c23f699",
   "metadata": {},
   "source": [
    "Del bloque de codigo anterior vamos a resaltar dos puntos:\n",
    "- (1) Vamos a desarrollar un Enum que nos permita ir haciendo **cambios de estado**.\n",
    "- (2) Esta linea de codigo anexa en la cuenta del remitente la transaccion que se esta realizando. "
   ]
  },
  {
   "cell_type": "markdown",
   "id": "853ccef0-5a9a-4f29-bf83-0435fc8955a1",
   "metadata": {},
   "source": [
    "Un Enum nos ayuda a definir nuestros propios tipos de datos. En este caso, vamos a diseñar uno que nos de 3 casos de una transaccion:\n",
    "- Completada\n",
    "- Rechazada\n",
    "- En espera"
   ]
  },
  {
   "cell_type": "code",
   "execution_count": null,
   "id": "fb124f10-eaca-4050-b410-cd8aa4b69769",
   "metadata": {},
   "outputs": [],
   "source": [
    "from enum import Enum\n",
    "class TxStatus(Enum):\n",
    "    PENDIENTE = 0\n",
    "    CONFIRMADA = 1\n",
    "    DECLINADA = 2"
   ]
  },
  {
   "cell_type": "markdown",
   "id": "396bb6f3-8c5d-4819-b0dd-3d2a3e41eb83",
   "metadata": {},
   "source": [
    "El primer metodo de la clase Account es el siguiente:"
   ]
  },
  {
   "cell_type": "code",
   "execution_count": null,
   "id": "d16b2049-ccbf-4b2c-ba4e-699f71aa7d81",
   "metadata": {},
   "outputs": [],
   "source": [
    "    def to_dict(self):\n",
    "        \"\"\"Exporta la transaccion en formato: dict.\"\"\"\n",
    "        return {\n",
    "            'sender': self.sender.nickname,\n",
    "            'recipient': self.recipient.nickname,\n",
    "            'value': self.value,\n",
    "            'time' : self.time}"
   ]
  },
  {
   "cell_type": "markdown",
   "id": "f75462cd-63ad-4396-9837-a97af69a51ac",
   "metadata": {},
   "source": [
    "Este metodo exporta un diccionario con el \"encabezado\" de la transaccion. Es la informacion que se codifica y pasa a ser el contenido de la transaccion."
   ]
  },
  {
   "cell_type": "markdown",
   "id": "3cba0fde-13ed-47a3-b748-35f28316141a",
   "metadata": {},
   "source": [
    "### Firmado y Verificado de transacciones utilizando una cuenta "
   ]
  },
  {
   "cell_type": "markdown",
   "id": "56c6c83b-634b-4163-ac00-e29dd3244d8f",
   "metadata": {
    "jp-MarkdownHeadingCollapsed": true,
    "tags": []
   },
   "source": [
    "#### Firmado"
   ]
  },
  {
   "cell_type": "markdown",
   "id": "0093f6f4-d077-4613-8892-55cfa8003c45",
   "metadata": {},
   "source": [
    "Digamos que nuestra transaccion es lo siguiente:"
   ]
  },
  {
   "cell_type": "code",
   "execution_count": null,
   "id": "29fd257b-3a77-4235-9e37-f1d768a378dc",
   "metadata": {},
   "outputs": [],
   "source": [
    "transaction = {\n",
    "    \"sender\": \"Pedro\",\n",
    "    \"receiver\": \"maria\",\n",
    "    \"amount\": 10\n",
    "}"
   ]
  },
  {
   "cell_type": "code",
   "execution_count": null,
   "id": "11cfe391-21be-4ccf-9932-e66f2f89fef3",
   "metadata": {},
   "outputs": [],
   "source": [
    "# Si trataramos de ingresar en un hash este contenido pasaria lo siguiente:\n",
    "from Crypto.Hash import SHA256\n",
    "# hash = SHA256.new(transaction) # Sale un errorsaso.\n",
    "\n",
    "# SHA256 solo acepta valores alfanumericos, por lo tanto necesitamos convertir nuestro diccionario en una cadena de bites\n",
    "# Primero: dict -> str\n",
    "transaction_str = str(transaction)\n",
    "\n",
    "# Ya lo convertimos a String, ahora necesitamos convertirlo a bites\n",
    "transaction_byte = transaction_str.encode()\n",
    "type(transaction)"
   ]
  },
  {
   "cell_type": "code",
   "execution_count": null,
   "id": "1e32a5ac-ed6c-45a5-9717-e123f8f21ba4",
   "metadata": {},
   "outputs": [],
   "source": [
    "# Una vez lo tenemos en bytes podemos pasarlo por un algoritmo SHA256 sin problema.\n",
    "tx_hashed = SHA256.new(transaction_byte)\n",
    "\n",
    "# Imprimimos el hash en su version hexadecimal\n",
    "tx_hashed.hexdigest()"
   ]
  },
  {
   "cell_type": "markdown",
   "id": "49856715-44a5-4a66-9d5b-44555470f151",
   "metadata": {},
   "source": [
    "Ya que tenemos el contenido de nuestra transaccion y su hash, podemos obtener su firma."
   ]
  },
  {
   "cell_type": "code",
   "execution_count": null,
   "id": "99cb5b91-a8fc-40f9-aa80-a208bbd15743",
   "metadata": {},
   "outputs": [],
   "source": [
    "# Hagamos el ejemplo completo:\n",
    "# Pedro es el dueno de la transaccion.\n",
    "# Por lo tanto, Pedro tiene una cuenta con sus respectivas llaves.\n",
    "from Account import Account\n",
    "pedro = Account('pedro')\n",
    "\n",
    "# Gracias a que desarrollamos la clase cuenta, podemos utilizarla en este ejemplo.\n",
    "# Pedro tiene su llave privada y pubica, asi como su firmador y su verificador.\n",
    "# Pedro procede a firmar la transaccion\n",
    "signature = pedro.signer.sign(tx_hashed)\n",
    "\n",
    "# Nuestra firma se ve de la siguiente manera\n",
    "signature"
   ]
  },
  {
   "cell_type": "markdown",
   "id": "0aa0efee-d0ad-4045-bb77-5bbebf2e3a8b",
   "metadata": {
    "jp-MarkdownHeadingCollapsed": true,
    "tags": []
   },
   "source": [
    "#### Verificado"
   ]
  },
  {
   "cell_type": "markdown",
   "id": "15157703-70d8-4084-af9b-1d8302b3e4f6",
   "metadata": {
    "jp-MarkdownHeadingCollapsed": true,
    "tags": []
   },
   "source": [
    "Para verificar una transaccion el proceso es muy similar. "
   ]
  },
  {
   "cell_type": "code",
   "execution_count": null,
   "id": "9b00a96b-c487-401b-9af3-6865203ff258",
   "metadata": {},
   "outputs": [],
   "source": [
    "# Necesitamos pasar por un hash el contenido de la transaccion.\n",
    "tx_hashed = SHA256.new(str(transaction).encode()) # Todo el hash en una sola linea de codigo\n",
    "\n",
    "# Ahora, en vez de usar el firmador, vamos a usar el verificador. \n",
    "try:\n",
    "    pedro.verifier.verify(tx_hashed, signature)\n",
    "    print(True)\n",
    "except:\n",
    "    print(False)\n"
   ]
  },
  {
   "cell_type": "markdown",
   "id": "4c07e608-70fb-45f4-8c28-ca98f9a0bb3f",
   "metadata": {},
   "source": [
    "El verificador alza un error si la firma es invalida. Por eso utilizamos try/except"
   ]
  },
  {
   "cell_type": "code",
   "execution_count": null,
   "id": "548494da-6697-44fa-9c3f-ad62966ace0a",
   "metadata": {},
   "outputs": [],
   "source": [
    "# Si lo intentaramos con una firma falsa el resultado seria distinto\n",
    "firma_falsa = SHA256.new('transaccion falsa'.encode())\n",
    "# Ahora, en vez de usar el firmador, vamos a usar el verificador. \n",
    "try:\n",
    "    pedro.verifier.verify(firma_falsa, signature)\n",
    "    print(True)\n",
    "except:\n",
    "    print(False)"
   ]
  },
  {
   "cell_type": "markdown",
   "id": "3153e031-3514-4dfb-8ca5-0f5ee5eaa9ee",
   "metadata": {},
   "source": [
    "Las condiciones para que salga error son:\n",
    "- El contenido de la transaccion haya sido alterado.\n",
    "- La firma es incorrecta.\n",
    "- Quien firma no es el autor de la transaccion."
   ]
  },
  {
   "cell_type": "markdown",
   "id": "7652862a-0ccd-4e2e-a8a1-f53b719524cc",
   "metadata": {},
   "source": [
    "Vamos a anadir estas funciones a los metodos de nuestra clase Transaction. Nuestro codigo completo quedaria asi:"
   ]
  },
  {
   "cell_type": "code",
   "execution_count": null,
   "id": "168d61b0-2440-46ba-9f2e-e3a5bd8af0c7",
   "metadata": {},
   "outputs": [],
   "source": [
    "from datetime import datetime\n",
    "from enum import Enum\n",
    "from Account import Account\n",
    "from Crypto.Signature.pkcs1_15 import PKCS115_SigScheme\n",
    "from Crypto.Hash import SHA256\n",
    "\n",
    "class TxStatus(Enum):\n",
    "    PENDIENTE = 0\n",
    "    CONFIRMADA = 1\n",
    "    DECLINADA = 2\n",
    "\n",
    "class Transaction:\n",
    "    def __init__(self, sender: Account, value: int, recipient: Account):\n",
    "        self.sender = sender\n",
    "        self.value = value\n",
    "        self.recipient = recipient\n",
    "        self.time = datetime.now().strftime(\"%d/%m/%Y %H:%M:%S\")\n",
    "        self.block = None\n",
    "        self.signature = None\n",
    "        self.status = TxStatus.PENDIENTE\n",
    "        # Al instanciarse una tx, esta debe reflejarse en la cuenta que la envia. (Sender)\n",
    "        sender.list_of_all_transactions.append(self)\n",
    "\n",
    "\n",
    "    def to_dict(self):\n",
    "        \"\"\"Exporta la transaccion en formato: dict.\"\"\"\n",
    "        return {\n",
    "            'sender': self.sender.nickname,\n",
    "            'recipient': self.recipient.nickname,\n",
    "            'value': self.value,\n",
    "            'time' : self.time}\n",
    "\n",
    "    def sign_transaction(self): # (1)\n",
    "        \"\"\"Funcion que recibe un objeto transaccion y devuelve \n",
    "        la firma de la transaccion en bytes\"\"\"\n",
    "        print(\"Firmando transaccion...\")\n",
    "        msg = str(self.to_dict()).encode()\n",
    "        hash = SHA256.new(msg)\n",
    "        signer = self.sender.signer\n",
    "        signature = signer.sign(hash)\n",
    "        # print(\"Signature:\", binascii.hexlify(signature))\n",
    "        self.signature = signature\n",
    "\n",
    "    def verify_signature(self) -> bool: # (1)\n",
    "        \"\"\"Aqui se verifican las transacciones\"\"\"\n",
    "        print(\"Verificando la firma de la transaccion...\")\n",
    "        msg = str(self.to_dict()).encode()\n",
    "        hash = SHA256.new(msg)\n",
    "        verifier = self.sender.verifier\n",
    "        try:\n",
    "            verifier.verify(hash, self.signature)\n",
    "            print(\"La firma es valida.\")\n",
    "            return True\n",
    "        except:\n",
    "            print(\"La firma es invalida.\")\n",
    "            return False\n",
    "\n",
    "    def change_status(self, new_status): # (3)\n",
    "        if new_status == 'CONFIRMADA':\n",
    "            self.status = TxStatus.CONFIRMADA\n",
    "        elif new_status == 'PENDIENTE':\n",
    "            self.status = TxStatus.PENDIENTE\n",
    "        elif new_status == 'DECLINADA':\n",
    "            self.status = TxStatus.DECLINADA"
   ]
  },
  {
   "cell_type": "markdown",
   "id": "d0b7114c-cf5e-48eb-810e-b47f42665639",
   "metadata": {},
   "source": [
    "Lo que aplicamos se encuentra en las funciones sign_transaction(), verify_signature() y to_dict(). La unica funcion que nos falto comentar es change_status()"
   ]
  },
  {
   "cell_type": "markdown",
   "id": "109531a6-7ca2-4679-bd65-4c299cdb1f7a",
   "metadata": {
    "jp-MarkdownHeadingCollapsed": true,
    "tags": []
   },
   "source": [
    "#### Funcion change_status()"
   ]
  },
  {
   "cell_type": "markdown",
   "id": "4962a637-b7ef-4770-8a38-078247780ca6",
   "metadata": {},
   "source": [
    "Funcion que cambia el estado de una transaccion. Hay que recordar que los estados cambian dependiendo del evento, por ejemplo:\n",
    "- Cuando una transaccion se crea, empieza siendo Pendiente.\n",
    "- Cuando es parte de la cadena de bloques, pasa a estar confirmada.\n",
    "- Si la red tiene algun error, podria rechazar la transaccion."
   ]
  },
  {
   "cell_type": "markdown",
   "id": "1260bdd1-11d5-47c4-98d9-4176d15529cc",
   "metadata": {},
   "source": [
    "## Clase Blockchain"
   ]
  },
  {
   "cell_type": "markdown",
   "id": "4b78de6e-7f27-4c4e-9cfc-4b7d09533608",
   "metadata": {},
   "source": [
    "Llego la hora de definir nuestra blockchain. Ya estan casi todas la piezas y solo queda ir ensamblando poco. Vayamos a hacerlo."
   ]
  },
  {
   "cell_type": "code",
   "execution_count": null,
   "id": "e7a610c1-1776-48c9-9259-eda6de89a3e2",
   "metadata": {},
   "outputs": [],
   "source": []
  }
 ],
 "metadata": {
  "kernelspec": {
   "display_name": "Python 3 (ipykernel)",
   "language": "python",
   "name": "python3"
  },
  "language_info": {
   "codemirror_mode": {
    "name": "ipython",
    "version": 3
   },
   "file_extension": ".py",
   "mimetype": "text/x-python",
   "name": "python",
   "nbconvert_exporter": "python",
   "pygments_lexer": "ipython3",
   "version": "3.9.13"
  }
 },
 "nbformat": 4,
 "nbformat_minor": 5
}
