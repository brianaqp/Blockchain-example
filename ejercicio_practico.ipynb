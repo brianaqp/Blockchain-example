{
 "cells": [
  {
   "cell_type": "markdown",
   "id": "40c73e2f",
   "metadata": {
    "tags": []
   },
   "source": [
    "# Requerimientos"
   ]
  },
  {
   "cell_type": "code",
   "execution_count": 59,
   "id": "0335c1c9",
   "metadata": {},
   "outputs": [
    {
     "name": "stdout",
     "output_type": "stream",
     "text": [
      "Requirement already satisfied: pycryptodome in c:\\users\\brian\\appdata\\local\\packages\\pythonsoftwarefoundation.python.3.9_qbz5n2kfra8p0\\localcache\\local-packages\\python39\\site-packages (3.14.1)\n"
     ]
    },
    {
     "name": "stderr",
     "output_type": "stream",
     "text": [
      "WARNING: There was an error checking the latest version of pip.\n"
     ]
    }
   ],
   "source": [
    "import sys\n",
    "!{sys.executable} -m pip install pycryptodome"
   ]
  },
  {
   "cell_type": "markdown",
   "id": "438dae21",
   "metadata": {
    "tags": []
   },
   "source": [
    "# Ejemplo de una blockchain con Python \n",
    "En este ejemplo se va a desarrollar una cadena de bloques que haga lo siguiente:\n",
    "- Trabaje con el consenso Proof of Work y Proof of Stake\n",
    "- Incluya transacciones entre dos usuarios en la red.\n",
    "- Incluya cifrado asimetrico de un solo camino"
   ]
  },
  {
   "cell_type": "markdown",
   "id": "5649c0e9",
   "metadata": {},
   "source": [
    "Lo primero es subdivir como lo vamos a desarrollar. \n",
    "(Muy problablemente)\n",
    "Desarrollar una clase:\n",
    "1. Transaction\n",
    "2. Account\n",
    "3. Block\n",
    "4. Consesos \n",
    "    - 4.1 Proof of Work\n",
    "    - 4.2 Proof of Stake\n",
    "5. Blockchain"
   ]
  },
  {
   "cell_type": "markdown",
   "id": "f743dcd9",
   "metadata": {},
   "source": [
    "Primero desarrollamos los elementos que interactuan dentro de la blockchain, para despues integrarlo todo en una clase Blockchain."
   ]
  },
  {
   "cell_type": "markdown",
   "id": "53ab0907",
   "metadata": {},
   "source": [
    "Aunque tambien tiene otros atributos:\n",
    "- Merkle Root: Hash del estado actual de la blockchain.\n",
    "- Timestamp: Hora en la que el bloque se añadio a la cadena de bloques.\n",
    "- Nonce: Numero magico que resuelve el \"acertijo\" en el consenso Proof of Work."
   ]
  },
  {
   "cell_type": "markdown",
   "id": "0d729f1d",
   "metadata": {},
   "source": [
    "En nuestro directorio de trabajo vamos a crear un archivo llamado block.py. Vamos a añadirle los atributos que necesitamos, y algunos metodos que nos van a ayudar en un futuro con algunas funciones de la blockchain."
   ]
  },
  {
   "cell_type": "code",
   "execution_count": null,
   "id": "938d77d4",
   "metadata": {},
   "outputs": [],
   "source": [
    "from datetime import datetime, date\n",
    "from account import Account\n",
    "\n",
    "\n",
    "class Block:\n",
    "    def __init__(self, previous_hash: str, list_of_transactions: list, block_number: int) -> None:\n",
    "\n",
    "        # Atributos de la clase Block\n",
    "        self.block_number = block_number \n",
    "        self.previous_hash = previous_hash \n",
    "        self.list_of_transactions = list_of_transactions \n",
    "        self.hash = 0 \n",
    "        self.merkle_root = 0 \n",
    "        self.nonce = 0 \n",
    "        \n",
    "        # Bucle for que recorre la list de transacciones y les asigna su numero de bloque\n",
    "        for tx in self.list_of_transactions:\n",
    "            tx.block = block_number\n",
    "\n",
    "        # Hora en la que el bloque es creado\n",
    "        now = datetime.now()\n",
    "        time = now.strftime(\"%H:%M:%S\")\n",
    "        today = str(date.today())\n",
    "        self.time_stamp = time + \" \" + today"
   ]
  },
  {
   "cell_type": "code",
   "execution_count": null,
   "id": "4a38f28d",
   "metadata": {
    "tags": []
   },
   "outputs": [],
   "source": [
    "from datetime import datetime, date\n",
    "from account import Account\n",
    "\n",
    "\n",
    "class Block:\n",
    "    def __init__(self, previous_hash: str, list_of_transactions: list, block_number: int):\n",
    "        # Atributos de la clase Block\n",
    "        self.block_number = block_number\n",
    "        self.previous_hash = previous_hash  \n",
    "        self.list_of_transactions = list_of_transactions\n",
    "        self.nonce = 0\n",
    "        self.hash = 0\n",
    "        self.merkle_root = 0\n",
    "        \n",
    "         # timestamp del bloque\n",
    "        now = datetime.now()\n",
    "        time = now.strftime(\"%H:%M:%S\")\n",
    "        today = str(date.today())\n",
    "        self.time_stamp = time + \" \" + today\n",
    "\n",
    "        # Bucle for que recorre la list de transacciones y les asigna su numero de bloque\n",
    "        for tx in self.list_of_transactions:\n",
    "            tx.block = block_number\n",
    "       \n",
    "\n",
    "    def get_block_header(self) -> dict:\n",
    "        \"\"\"\" Funcion que retorna un diccionario con el encabezado de nuestro bloque.\n",
    "        \"\"\"\n",
    "        return {\n",
    "            'previous_block_hash':self.previous_hash,\n",
    "            'nonce': self.nonce,\n",
    "            'transactions':self.get_tx_in_format()\n",
    "        }\n",
    "\n",
    "    def print_block_info(self) -> None:\n",
    "        \"\"\"Funcion que imprime la informacion del bloque, pero bonito.\"\"\"\n",
    "        print(\"-------------\")\n",
    "        print(\"Bloque No: \", self.block_number)\n",
    "        print(\"Transacciones: \")\n",
    "        self.print_tx_in_format()\n",
    "        print(\"Hash anterior: \", self.previous_hash)\n",
    "        print(\"Hash actual: \", self.hash)\n",
    "        print(\"Time stamp: \", self.time_stamp)\n",
    "\n",
    "    def print_tx_in_format(self) -> None:\n",
    "        \"\"\"Funcion que imprime de manera secuencial, y en formato,\n",
    "        las transacciones del bloque.\"\"\"\n",
    "        for tx in self.list_of_transactions:\n",
    "            print(\n",
    "                f\"- {tx.sender.nickname} send {tx.value} to {tx.recipient.nickname}\")\n",
    "    \n",
    "    def get_tx_in_format(self) -> str:\n",
    "        \"\"\"Funcion que regresa una cadena de caracteres, de una lista que contiene las transacciones\n",
    "        del bloque.\"\"\"\n",
    "        tx_list = []\n",
    "        for tx in self.list_of_transactions:\n",
    "            tx_in_str = f\"{tx.sender.nickname} send {tx.value} to {tx.recipient.nickname}\"\n",
    "            tx_list.append(tx_in_str)\n",
    "        return str(tx_list)\n",
    "\n"
   ]
  }
 ],
 "metadata": {
  "kernelspec": {
   "display_name": "Python 3 (ipykernel)",
   "language": "python",
   "name": "python3"
  },
  "language_info": {
   "codemirror_mode": {
    "name": "ipython",
    "version": 3
   },
   "file_extension": ".py",
   "mimetype": "text/x-python",
   "name": "python",
   "nbconvert_exporter": "python",
   "pygments_lexer": "ipython3",
   "version": "3.10.6"
  }
 },
 "nbformat": 4,
 "nbformat_minor": 5
}
