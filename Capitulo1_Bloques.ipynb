{
 "cells": [
  {
   "cell_type": "markdown",
   "id": "a6be1d62-3107-42f4-94be-0003b6ed1e93",
   "metadata": {
    "tags": []
   },
   "source": [
    "## Clase Block"
   ]
  },
  {
   "cell_type": "markdown",
   "id": "fe3331d6-633f-4359-b2b4-80e003b4f1e8",
   "metadata": {},
   "source": [
    "Un bloque es donde se guarda la información en blockchain y se cifra. \n",
    "\n",
    "En nuestro directorio de trabajo vamos a crear un archivo llamado block.py. En él, vamos a crear una nueva clase llamada Block."
   ]
  },
  {
   "cell_type": "code",
   "execution_count": 5,
   "id": "058a22cb-dbfa-4c99-9c85-339180bd8d64",
   "metadata": {},
   "outputs": [],
   "source": [
    "class Block:\n",
    "    pass"
   ]
  },
  {
   "cell_type": "markdown",
   "id": "6de14ff4-3353-4b0c-8fbd-464dfb8be035",
   "metadata": {},
   "source": [
    "Para crear un bloque siempre vamos a necesitar 3 variables iniciales:\n",
    "- El hash del bloque anterior (Con él se hace la vinculación entre bloque).\n",
    "- Una lista que contenga las transacciones pendientes.\n",
    "- El número del bloque."
   ]
  },
  {
   "cell_type": "code",
   "execution_count": 1,
   "id": "43900aa7-46da-4b4e-9afa-fdd82a5415fd",
   "metadata": {},
   "outputs": [],
   "source": [
    "class Block:\n",
    "    def __init__(self, preivious_hash: str, \n",
    "                list_of_transactions: list,\n",
    "                block_number: int):\n",
    "        pass"
   ]
  },
  {
   "cell_type": "markdown",
   "id": "220d315a-ce8f-4836-9992-14af4cb5f3c5",
   "metadata": {},
   "source": [
    "Nuestra clase Block va a contar con los siguientes atributos:\n",
    "- Número del bloque: Altura del bloque actual en la cadena.\n",
    "- Hash del bloque anterior: Firma digital del bloque anterior en la cadena.\n",
    "- Lista de transacciones: Transacciones contenidas y procesadas.\n",
    "- Hash del bloque actual: Firma digital del bloque actual.\n",
    "- Timestamp: Hora en la que el bloque se añadió a la cadena de bloques.\n",
    "- Nonce: Número mágico que resuelve el \"acertijo\" en el consenso Proof of Work."
   ]
  },
  {
   "cell_type": "code",
   "execution_count": 9,
   "id": "ea169f4e-3b8f-49df-94d4-4fb0b155856d",
   "metadata": {},
   "outputs": [],
   "source": [
    "class Block:\n",
    "    def __init__(self, previous_hash: str, list_of_transactions: list, block_number: int):\n",
    "        self.block_number = block_number\n",
    "        self.previous_hash = previous_hash\n",
    "        self.list_of_transactions = list_of_transactions\n",
    "        self.nonce = 0\n",
    "        self.hash = 0\n",
    "        self.time_stamp = datetime.now().strftime(\"%d/%m/%Y %H:%M:%S\")\n",
    "        # Cuando se instancia un bloque, le asigna el blocknumber a cada transaccion.\n",
    "        for tx in self.list_of_transactions:\n",
    "            tx.block = block_number\n",
    "        # atributos utilizados con Proof of Stake.\n",
    "        self.forger = None"
   ]
  },
  {
   "cell_type": "markdown",
   "id": "f6210c9f-e4a4-4b99-af2d-54d9c6e67e65",
   "metadata": {},
   "source": [
    "Los métodos van a darnos utilidad para la blockchain, o para efectos de visualización. La clase Block va a tener los siguientes métodos:"
   ]
  },
  {
   "cell_type": "markdown",
   "id": "c1592217-3fce-441d-9038-0ffd0c85df15",
   "metadata": {},
   "source": []
  },
  {
   "cell_type": "markdown",
   "id": "7d535e6a-deae-46d7-a99c-e2d0511b505c",
   "metadata": {},
   "source": []
  },
  {
   "cell_type": "markdown",
   "id": "447c6cba-91d5-4589-bb94-fa440ef96e8e",
   "metadata": {},
   "source": []
  },
  {
   "cell_type": "markdown",
   "id": "755d8d7b-9d48-4a8d-bd91-ba381219a0a2",
   "metadata": {},
   "source": []
  },
  {
   "cell_type": "markdown",
   "id": "433de781-d86d-44d4-93bf-267bb267f533",
   "metadata": {},
   "source": []
  },
  {
   "cell_type": "markdown",
   "id": "b4dc42d0-e4b9-4726-9279-5ca1b74b8aad",
   "metadata": {},
   "source": []
  },
  {
   "cell_type": "code",
   "execution_count": 2,
   "id": "e84635e9-5290-4654-898c-33c2a21282c8",
   "metadata": {},
   "outputs": [],
   "source": [
    "def get_block_header(self):\n",
    "        \"\"\"Funcion que retorna el encabezado del bloque.\"\"\"\n",
    "        return {\n",
    "            'previous_block_hash':self.previous_hash,\n",
    "            'nonce': self.nonce,\n",
    "            'transactions':self.get_tx_in_format(),\n",
    "        }"
   ]
  },
  {
   "cell_type": "markdown",
   "id": "152e1fe4-2794-416f-984f-0d082d95c1d2",
   "metadata": {},
   "source": [
    "get_block_header regresa un diccionario que se utiliza para conseguir el hash de un bloque."
   ]
  },
  {
   "cell_type": "code",
   "execution_count": 10,
   "id": "cf5a7f86-9fbd-48ba-be86-e66974bcd109",
   "metadata": {},
   "outputs": [],
   "source": [
    "def get_block_header_pos(self):\n",
    "        return {\n",
    "            'previous_block_hash':self.previous_hash,\n",
    "            'nonce': self.nonce,\n",
    "            'transactions':self.get_tx_in_format(),\n",
    "            'forger': self.forger.validator.account.identity\n",
    "            }"
   ]
  },
  {
   "cell_type": "markdown",
   "id": "c50010fa-14f0-47d4-83cb-6d1e0a956fea",
   "metadata": {},
   "source": [
    "get_block_header_pos regresa un diccionario añadiendo al forjador del bloque en el caso de un consenso Proof of Stake. Se utiliza tambien para obtener el hash de un bloque."
   ]
  },
  {
   "cell_type": "code",
   "execution_count": 11,
   "id": "04fe06bf-5bf7-4c26-9d1c-e7b944c2349e",
   "metadata": {},
   "outputs": [],
   "source": [
    "    def print_block_info(self):\n",
    "        print(\"-------------\")\n",
    "        print(\"Bloque No: \", self.block_number)\n",
    "        print(\"Transacciones: \")\n",
    "        self.print_tx_in_format()\n",
    "        print(\"Hash anterior: \", self.previous_hash)\n",
    "        print(\"Hash actual: \", self.hash)\n",
    "        print(\"Time stamp: \", self.time_stamp)\n",
    "\n",
    "    def print_tx_in_format(self):\n",
    "        for tx in self.list_of_transactions:\n",
    "            print(\n",
    "                f\"- {tx.sender.nickname} send {tx.value} to {tx.recipient.nickname}\")\n",
    "    \n",
    "    def get_tx_in_format(self):\n",
    "        tx_list = []\n",
    "        for tx in self.list_of_transactions:\n",
    "            tx_in_str = f\"{tx.sender.nickname} send {tx.value} to {tx.recipient.nickname}\"\n",
    "            tx_list.append(tx_in_str)\n",
    "        return str(tx_list)"
   ]
  },
  {
   "cell_type": "markdown",
   "id": "f3649f50-8753-488d-838b-42d6c8f483f0",
   "metadata": {},
   "source": [
    "Las funciones anteriores solo imprimen información para visualizarla de mejor manera en la práctica."
   ]
  },
  {
   "cell_type": "markdown",
   "id": "d2da4394-da65-4a49-a33d-55b41e73c2b0",
   "metadata": {},
   "source": [
    "El código completo queda de la siguiente manera:"
   ]
  },
  {
   "cell_type": "code",
   "execution_count": 4,
   "id": "dc2a6f84-cc41-4c66-9f7d-72523b670660",
   "metadata": {},
   "outputs": [],
   "source": [
    "from datetime import datetime, date\n",
    "from bin.account import Account\n",
    "\n",
    "\n",
    "class Block:\n",
    "    def __init__(self, previous_hash: str, list_of_transactions: list, block_number: int):\n",
    "        self.block_number = block_number\n",
    "        self.previous_hash = previous_hash\n",
    "        self.list_of_transactions = list_of_transactions\n",
    "        self.nonce = 0\n",
    "        self.hash = 0\n",
    "        self.time_stamp = datetime.now().strftime(\"%d/%m/%Y %H:%M:%S\")\n",
    "        # Cuando se instancia un bloque, le asigna el blocknumber a cada transaccion.\n",
    "        for tx in self.list_of_transactions:\n",
    "            tx.block = block_number\n",
    "        # atributos utilizados con Proof of Stake.\n",
    "        self.forger = None\n",
    "\n",
    "    def get_block_header(self):\n",
    "        \"\"\"Funcion que retorna el encabezado del bloque.\"\"\"\n",
    "        return {\n",
    "            'previous_block_hash':self.previous_hash,\n",
    "            'nonce': self.nonce,\n",
    "            'transactions':self.get_tx_in_format(),\n",
    "        }\n",
    "    \n",
    "    def get_block_header_pos(self):\n",
    "        return {\n",
    "            'previous_block_hash':self.previous_hash,\n",
    "            'nonce': self.nonce,\n",
    "            'transactions':self.get_tx_in_format(),\n",
    "            'forger': self.forger.validator.account.identity\n",
    "            }\n",
    "\n",
    "    def print_block_info(self):\n",
    "        print(\"-------------\")\n",
    "        print(\"Bloque No: \", self.block_number)\n",
    "        print(\"Transacciones: \")\n",
    "        self.print_tx_in_format()\n",
    "        print(\"Hash anterior: \", self.previous_hash)\n",
    "        print(\"Hash actual: \", self.hash)\n",
    "        print(\"Time stamp: \", self.time_stamp)\n",
    "\n",
    "    def print_tx_in_format(self):\n",
    "        for tx in self.list_of_transactions:\n",
    "            print(\n",
    "                f\"- {tx.sender.nickname} send {tx.value} to {tx.recipient.nickname}\")\n",
    "    \n",
    "    def get_tx_in_format(self):\n",
    "        tx_list = []\n",
    "        for tx in self.list_of_transactions:\n",
    "            tx_in_str = f\"{tx.sender.nickname} send {tx.value} to {tx.recipient.nickname}\"\n",
    "            tx_list.append(tx_in_str)\n",
    "        return str(tx_list)"
   ]
  },
  {
   "cell_type": "markdown",
   "id": "782698d4-894b-4523-a232-0ec4002bcb9e",
   "metadata": {},
   "source": [
    "Con la clase Block lista, podemos pasar a la clase Account."
   ]
  }
 ],
 "metadata": {
  "kernelspec": {
   "display_name": "Python 3 (ipykernel)",
   "language": "python",
   "name": "python3"
  },
  "language_info": {
   "codemirror_mode": {
    "name": "ipython",
    "version": 3
   },
   "file_extension": ".py",
   "mimetype": "text/x-python",
   "name": "python",
   "nbconvert_exporter": "python",
   "pygments_lexer": "ipython3",
   "version": "3.9.13"
  }
 },
 "nbformat": 4,
 "nbformat_minor": 5
}
