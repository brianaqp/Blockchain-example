{
 "cells": [
  {
   "cell_type": "markdown",
   "id": "a6be1d62-3107-42f4-94be-0003b6ed1e93",
   "metadata": {
    "tags": []
   },
   "source": [
    "## Clase Block"
   ]
  },
  {
   "cell_type": "markdown",
   "id": "3e943fee-20c5-4398-b3c1-ef031ec74baa",
   "metadata": {},
   "source": [
    "Una bloque es donde se guarda la informacion en blockchain y se cifra. Los atributos principales, o que tienen mas relevancia serian los siguientes:\n",
    "\n",
    "Numero del bloque: Altura del bloque actual en la cadena.\n",
    "Hash del bloque anterior: Firma digital del bloque anterior en la cadena.\n",
    "Lista de transacciones: Transacciones contenidas y procesadas.\n",
    "Hash del bloque actual: Firma digital del bloque actual."
   ]
  },
  {
   "cell_type": "markdown",
   "id": "d8296c89-e04c-48f4-a32e-64e84bdc7cb5",
   "metadata": {},
   "source": [
    "Aunque tambien tiene otros atributos:\n",
    "- Merkle Root: Hash del estado actual de la blockchain.\n",
    "- Timestamp: Hora en la que el bloque se añadio a la cadena de bloques.\n",
    "- Nonce: Numero magico que resuelve el \"acertijo\" en el consenso Proof of Work."
   ]
  },
  {
   "cell_type": "markdown",
   "id": "a18d7abc-96fb-4b7b-8f04-e9e700a3e9c9",
   "metadata": {},
   "source": [
    "En nuestro directorio de trabajo vamos a crear un archivo llamado block.py. Vamos a añadirle los atributos que necesitamos, y algunos metodos que nos van a ayudar en un futuro con algunas funciones de la blockchain."
   ]
  },
  {
   "cell_type": "code",
   "execution_count": 60,
   "id": "0813180f-a183-43bb-808a-c7d2b93960fc",
   "metadata": {},
   "outputs": [],
   "source": [
    "from datetime import datetime, date\n",
    "from account import Account\n",
    "\n",
    "\n",
    "class Block:\n",
    "    def __init__(self, previous_hash: str, list_of_transactions: list, block_number: int) -> None:\n",
    "\n",
    "        # Atributos de la clase Block\n",
    "        self.block_number = block_number \n",
    "        self.previous_hash = previous_hash \n",
    "        self.list_of_transactions = list_of_transactions \n",
    "        self.hash = 0 \n",
    "        self.merkle_root = 0 \n",
    "        self.nonce = 0 \n",
    "        \n",
    "        # Bucle for que recorre la list de transacciones y les asigna su numero de bloque\n",
    "        for tx in self.list_of_transactions:\n",
    "            tx.block = block_number\n",
    "\n",
    "        # Hora en la que el bloque es creado\n",
    "        now = datetime.now()\n",
    "        time = now.strftime(\"%H:%M:%S\")\n",
    "        today = str(date.today())\n",
    "        self.time_stamp = time + \" \" + today"
   ]
  },
  {
   "cell_type": "code",
   "execution_count": 61,
   "id": "8405875e-a8a5-4c93-919d-0230217abb17",
   "metadata": {
    "tags": []
   },
   "outputs": [],
   "source": [
    "from datetime import datetime, date\n",
    "from account import Account\n",
    "\n",
    "\n",
    "class Block:\n",
    "    def __init__(self, previous_hash: str, list_of_transactions: list, block_number: int):\n",
    "        # Atributos de la clase Block\n",
    "        self.block_number = block_number\n",
    "        self.previous_hash = previous_hash  \n",
    "        self.list_of_transactions = list_of_transactions\n",
    "        self.nonce = 0\n",
    "        self.hash = 0\n",
    "        self.merkle_root = 0\n",
    "        \n",
    "         # timestamp del bloque\n",
    "        now = datetime.now()\n",
    "        time = now.strftime(\"%H:%M:%S\")\n",
    "        today = str(date.today())\n",
    "        self.time_stamp = time + \" \" + today\n",
    "\n",
    "        # Bucle for que recorre la list de transacciones y les asigna su numero de bloque\n",
    "        for tx in self.list_of_transactions:\n",
    "            tx.block = block_number\n",
    "       \n",
    "\n",
    "    def get_block_header(self) -> dict:\n",
    "        \"\"\"\" Funcion que retorna un diccionario con el encabezado de nuestro bloque.\n",
    "        \"\"\"\n",
    "        return {\n",
    "            'previous_block_hash':self.previous_hash,\n",
    "            'nonce': self.nonce,\n",
    "            'transactions':self.get_tx_in_format()\n",
    "        }\n",
    "\n",
    "    def print_block_info(self) -> None:\n",
    "        \"\"\"Funcion que imprime la informacion del bloque, pero bonito.\"\"\"\n",
    "        print(\"-------------\")\n",
    "        print(\"Bloque No: \", self.block_number)\n",
    "        print(\"Transacciones: \")\n",
    "        self.print_tx_in_format()\n",
    "        print(\"Hash anterior: \", self.previous_hash)\n",
    "        print(\"Hash actual: \", self.hash)\n",
    "        print(\"Time stamp: \", self.time_stamp)\n",
    "\n",
    "    def print_tx_in_format(self) -> None:\n",
    "        \"\"\"Funcion que imprime de manera secuencial, y en formato,\n",
    "        las transacciones del bloque.\"\"\"\n",
    "        for tx in self.list_of_transactions:\n",
    "            print(\n",
    "                f\"- {tx.sender.nickname} send {tx.value} to {tx.recipient.nickname}\")\n",
    "    \n",
    "    def get_tx_in_format(self) -> str:\n",
    "        \"\"\"Funcion que regresa una cadena de caracteres, de una lista que contiene las transacciones\n",
    "        del bloque.\"\"\"\n",
    "        tx_list = []\n",
    "        for tx in self.list_of_transactions:\n",
    "            tx_in_str = f\"{tx.sender.nickname} send {tx.value} to {tx.recipient.nickname}\"\n",
    "            tx_list.append(tx_in_str)\n",
    "        return str(tx_list)\n",
    "\n"
   ]
  }
 ],
 "metadata": {
  "kernelspec": {
   "display_name": "Python 3 (ipykernel)",
   "language": "python",
   "name": "python3"
  },
  "language_info": {
   "codemirror_mode": {
    "name": "ipython",
    "version": 3
   },
   "file_extension": ".py",
   "mimetype": "text/x-python",
   "name": "python",
   "nbconvert_exporter": "python",
   "pygments_lexer": "ipython3",
   "version": "3.9.13"
  }
 },
 "nbformat": 4,
 "nbformat_minor": 5
}
