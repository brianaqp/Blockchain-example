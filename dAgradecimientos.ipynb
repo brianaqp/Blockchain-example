{
 "cells": [
  {
   "cell_type": "markdown",
   "id": "35d4aecd-f252-43f1-a412-812c3b6def22",
   "metadata": {},
   "source": [
    "# Conclusion"
   ]
  },
  {
   "cell_type": "markdown",
   "id": "ca94043a-d747-4d2f-80d2-9d6a1359398b",
   "metadata": {},
   "source": [
    "¡Muchas gracias por leer mi implementación de una blockchain! Ha sido un camino genial soltar el código y crear algo que pudiera enseñar los conceptos claves de una blockchain.\n",
    "\n",
    "¡Doy gracias por la vida y a quienes me apoyaron a crear este contenido!\n",
    "\n",
    "Espero esta información te haya ayudado a plantar mejor tus bases en blockchain y en programación. El trabajo está acabado, pero hay mucho más que se puede implementar.\n",
    "\n",
    "\"Algo perfecto es algo acabado, y en el crear, la perfección no existe\"."
   ]
  }
 ],
 "metadata": {
  "kernelspec": {
   "display_name": "Python 3 (ipykernel)",
   "language": "python",
   "name": "python3"
  },
  "language_info": {
   "codemirror_mode": {
    "name": "ipython",
    "version": 3
   },
   "file_extension": ".py",
   "mimetype": "text/x-python",
   "name": "python",
   "nbconvert_exporter": "python",
   "pygments_lexer": "ipython3",
   "version": "3.10.6"
  }
 },
 "nbformat": 4,
 "nbformat_minor": 5
}
