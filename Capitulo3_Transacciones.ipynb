{
 "cells": [
  {
   "cell_type": "markdown",
   "id": "5311c9e4-948b-4ee7-adc5-7c16a6585b45",
   "metadata": {
    "tags": []
   },
   "source": [
    "## Clase Transaction"
   ]
  },
  {
   "cell_type": "markdown",
   "id": "714134c2-a0a8-431e-999a-d8d445029323",
   "metadata": {},
   "source": [
    "Una transacción en el contexto de blockchain es un cambio de estado en la red. Las transacciones de nuestra blockchain permiten que dos usuarios puedan transferirse dinero virtual.\n",
    "\n",
    "Vamos a crear un archivo en nuestro directorio de trabajo llamado transaction.py. En él, vamos a instanciar una clase de nombre Transaction."
   ]
  },
  {
   "cell_type": "code",
   "execution_count": 6,
   "id": "53fb7307-3ff7-44d3-842d-797cea18db04",
   "metadata": {},
   "outputs": [],
   "source": [
    "class Transaction():\n",
    "    pass"
   ]
  },
  {
   "cell_type": "markdown",
   "id": "0cf08480-c688-4540-8b0e-517fc3ee604f",
   "metadata": {},
   "source": [
    "Cada transacción tiene 3 elementos principales.\n",
    "- ¿Quién manda la transaccion? (sender)\n",
    "- ¿Quién la recibe? (recipient)\n",
    "- ¿Cuánto dinero es? (value)\n",
    "\n",
    "Cada que se instancie una transacción en local, la vamos a inicializar con sus elementos principales."
   ]
  },
  {
   "cell_type": "code",
   "execution_count": 3,
   "id": "874347bf-1668-4b72-9427-a3b23ef303db",
   "metadata": {},
   "outputs": [],
   "source": [
    "from bin.account import Account\n",
    "\n",
    "class Transaction():\n",
    "    def __init__(self, sender: Account, value: int, recipient: Account):\n",
    "        pass"
   ]
  },
  {
   "cell_type": "markdown",
   "id": "a7d9a4a3-9247-437f-9bfe-518250819ee1",
   "metadata": {},
   "source": [
    "Además, añadiremos atributos \"informativos\" que sirven para guardar información importante de la transaccion.\n",
    "\n",
    "- Timestamp: Hora en la que la transaccion fue añadida a la red.\n",
    "- Block: Bloque al que pertenece la transaccion.\n",
    "- Signature: Firma digital de la transaccion. \n",
    "- Status: Estado actual de la transaccion.\n",
    "\n",
    "Así como añadir a la propia transaccion al historial de transacciones de quien envía la transaccion. Aunque se rechace la transacción, quedara el registro guardado en su cuenta."
   ]
  },
  {
   "cell_type": "code",
   "execution_count": 5,
   "id": "505180e2-56da-4828-9b28-b0a343e1652d",
   "metadata": {},
   "outputs": [],
   "source": [
    "from bin.account import Account \n",
    "\n",
    "class Transaction:\n",
    "    def __init__(self, sender: Account, value: int, recipient: Account):\n",
    "        self.sender = sender\n",
    "        self.value = value\n",
    "        self.recipient = recipient\n",
    "        # Hora en la que la transaccion se instancia\n",
    "        self.time = datetime.now().strftime(\"%d/%m/%Y %H:%M:%S\")\n",
    "        self.block = None\n",
    "        self.signature = None\n",
    "        self.status = TxStatus.PENDIENTE \n",
    "        \n",
    "        # Al instanciarse una tx, esta debe reflejarse en la cuenta que la envia. (Sender)\n",
    "        sender.list_of_all_transactions.append(self) "
   ]
  },
  {
   "cell_type": "markdown",
   "id": "781f90c4-e54a-4a2c-827d-3a3b5b2d8e82",
   "metadata": {},
   "source": [
    "El atributo status lo necesitamos para ir cambiando si nuestra transacción esta en espera, pendiente o aprobada. Para ello, vamos a crear una clase Enum que nos ayude a hacerlo visible."
   ]
  },
  {
   "cell_type": "markdown",
   "id": "9339bfd8-b94c-4356-ae22-7125e7a77939",
   "metadata": {},
   "source": [
    "#### Enum"
   ]
  },
  {
   "cell_type": "markdown",
   "id": "643f4ded-9565-4986-b116-eac0c577b595",
   "metadata": {},
   "source": [
    "Un Enum nos ayuda a definir nuestros propios tipos de datos. En este caso, vamos a diseñar uno que nos dé 3 casos de una transacción:\n",
    "- Completada\n",
    "- Rechazada\n",
    "- En espera\n",
    "\n",
    "La clase TxStatus la vamos a poner antes de nuestra clase Transaction en nuestro archivo transaction.py"
   ]
  },
  {
   "cell_type": "code",
   "execution_count": 23,
   "id": "ae5f20be-75e1-4a3a-a667-5b22926605e7",
   "metadata": {},
   "outputs": [],
   "source": [
    "from enum import Enum\n",
    "from bin.account import Account\n",
    "\n",
    "class TxStatus(Enum):\n",
    "    PENDIENTE = 0\n",
    "    CONFIRMADA = 1\n",
    "    DECLINADA = 2\n",
    "\n",
    "class Transaction():\n",
    "    def __init__(self, sender: Account, value: int, recipient: Account):\n",
    "        ...\n",
    "        self.status = TxStatus.PENDIENTE"
   ]
  },
  {
   "cell_type": "markdown",
   "id": "94e8034e-7d29-4487-b2fa-c8d9c06835a9",
   "metadata": {},
   "source": [
    "Un ejemplo visual de cómo se veria seria el siguiente:"
   ]
  },
  {
   "cell_type": "code",
   "execution_count": 25,
   "id": "bde0ee0e-94be-4c65-840d-f93968ccd0d6",
   "metadata": {},
   "outputs": [
    {
     "data": {
      "text/plain": [
       "<TxStatus.PENDIENTE: 0>"
      ]
     },
     "execution_count": 25,
     "metadata": {},
     "output_type": "execute_result"
    }
   ],
   "source": [
    "tx = Transaction(None, None, None)\n",
    "tx.status"
   ]
  },
  {
   "cell_type": "markdown",
   "id": "0d9ca136-3d76-41de-becc-8bf655081c5e",
   "metadata": {},
   "source": [
    "Hablando de sus métodos..."
   ]
  },
  {
   "cell_type": "markdown",
   "id": "f47b152e-4a7b-4fb6-9f54-6a4f1dec9161",
   "metadata": {},
   "source": [
    "Implementaremos un método llamado **to_dict** que exporte un diccionario con el \"encabezado\" de la transacción. Es la información que se codifica por un hash a la hora de obtener su firma digital."
   ]
  },
  {
   "cell_type": "code",
   "execution_count": 69,
   "id": "ace1883f-b5f9-4e30-a892-f66811e192e4",
   "metadata": {},
   "outputs": [],
   "source": [
    "    def to_dict(self):\n",
    "        \"\"\"Exporta la transaccion en formato: dict.\"\"\"\n",
    "        return {\n",
    "            'sender': self.sender.nickname,\n",
    "            'recipient': self.recipient.nickname,\n",
    "            'value': self.value,\n",
    "            'time' : self.time}"
   ]
  },
  {
   "cell_type": "markdown",
   "id": "2ada1463-3ad9-4265-89a6-fb1d015648c0",
   "metadata": {},
   "source": [
    "Implementaremos dos métodos que nos ayuden a:\n",
    "- Firmar transacciones\n",
    "- Verificar la firma digital"
   ]
  },
  {
   "cell_type": "markdown",
   "id": "611b9bad-4d40-41b9-bfe2-c378736422f8",
   "metadata": {},
   "source": [
    "Pero para ello, primero veamos este ejemplo:"
   ]
  },
  {
   "cell_type": "markdown",
   "id": "88c2ed55-4d5e-42ea-a0bd-bd955ca3336d",
   "metadata": {},
   "source": [
    "### Firmado y Verificado de transacciones utilizando una cuenta "
   ]
  },
  {
   "cell_type": "markdown",
   "id": "7649a489-75a2-4f05-9d02-ce3e601c84ef",
   "metadata": {
    "tags": []
   },
   "source": [
    "#### Firmado"
   ]
  },
  {
   "cell_type": "markdown",
   "id": "348e5791-df51-4cd6-8eff-9080194ee5f1",
   "metadata": {},
   "source": [
    "Digamos que nuestra transacción es lo siguiente:"
   ]
  },
  {
   "cell_type": "code",
   "execution_count": 29,
   "id": "fcd3313a-54f4-4993-9279-159c3f1216cb",
   "metadata": {},
   "outputs": [],
   "source": [
    "transaction = {\n",
    "    \"sender\": \"Pedro\",\n",
    "    \"receiver\": \"maria\",\n",
    "    \"amount\": 10\n",
    "}"
   ]
  },
  {
   "cell_type": "markdown",
   "id": "f80970d9-1ec7-4cad-8111-55ee473a05f1",
   "metadata": {},
   "source": [
    "Si trataramos de ingresar en un hash este contenido pasaría lo siguiente:\n"
   ]
  },
  {
   "cell_type": "code",
   "execution_count": 30,
   "id": "c3707b9f-d40d-4d82-a8b9-b667aeef6ef1",
   "metadata": {},
   "outputs": [
    {
     "ename": "TypeError",
     "evalue": "Object type <class 'dict'> cannot be passed to C code",
     "output_type": "error",
     "traceback": [
      "\u001b[0;31m---------------------------------------------------------------------------\u001b[0m",
      "\u001b[0;31mTypeError\u001b[0m                                 Traceback (most recent call last)",
      "Input \u001b[0;32mIn [30]\u001b[0m, in \u001b[0;36m<cell line: 2>\u001b[0;34m()\u001b[0m\n\u001b[1;32m      1\u001b[0m \u001b[38;5;28;01mfrom\u001b[39;00m \u001b[38;5;21;01mCrypto\u001b[39;00m\u001b[38;5;21;01m.\u001b[39;00m\u001b[38;5;21;01mHash\u001b[39;00m \u001b[38;5;28;01mimport\u001b[39;00m SHA256\n\u001b[0;32m----> 2\u001b[0m \u001b[38;5;28mhash\u001b[39m \u001b[38;5;241m=\u001b[39m \u001b[43mSHA256\u001b[49m\u001b[38;5;241;43m.\u001b[39;49m\u001b[43mnew\u001b[49m\u001b[43m(\u001b[49m\u001b[43mtransaction\u001b[49m\u001b[43m)\u001b[49m\n",
      "File \u001b[0;32m/opt/homebrew/Cellar/jupyterlab/3.4.5/libexec/lib/python3.10/site-packages/Crypto/Hash/SHA256.py:158\u001b[0m, in \u001b[0;36mnew\u001b[0;34m(data)\u001b[0m\n\u001b[1;32m    147\u001b[0m \u001b[38;5;28;01mdef\u001b[39;00m \u001b[38;5;21mnew\u001b[39m(data\u001b[38;5;241m=\u001b[39m\u001b[38;5;28;01mNone\u001b[39;00m):\n\u001b[1;32m    148\u001b[0m     \u001b[38;5;124;03m\"\"\"Create a new hash object.\u001b[39;00m\n\u001b[1;32m    149\u001b[0m \n\u001b[1;32m    150\u001b[0m \u001b[38;5;124;03m    :parameter data:\u001b[39;00m\n\u001b[0;32m   (...)\u001b[0m\n\u001b[1;32m    155\u001b[0m \u001b[38;5;124;03m    :Return: A :class:`SHA256Hash` hash object\u001b[39;00m\n\u001b[1;32m    156\u001b[0m \u001b[38;5;124;03m    \"\"\"\u001b[39;00m\n\u001b[0;32m--> 158\u001b[0m     \u001b[38;5;28;01mreturn\u001b[39;00m \u001b[43mSHA256Hash\u001b[49m\u001b[43m(\u001b[49m\u001b[43m)\u001b[49m\u001b[38;5;241;43m.\u001b[39;49m\u001b[43mnew\u001b[49m\u001b[43m(\u001b[49m\u001b[43mdata\u001b[49m\u001b[43m)\u001b[49m\n",
      "File \u001b[0;32m/opt/homebrew/Cellar/jupyterlab/3.4.5/libexec/lib/python3.10/site-packages/Crypto/Hash/SHA256.py:145\u001b[0m, in \u001b[0;36mSHA256Hash.new\u001b[0;34m(self, data)\u001b[0m\n\u001b[1;32m    142\u001b[0m \u001b[38;5;28;01mdef\u001b[39;00m \u001b[38;5;21mnew\u001b[39m(\u001b[38;5;28mself\u001b[39m, data\u001b[38;5;241m=\u001b[39m\u001b[38;5;28;01mNone\u001b[39;00m):\n\u001b[1;32m    143\u001b[0m     \u001b[38;5;124;03m\"\"\"Create a fresh SHA-256 hash object.\"\"\"\u001b[39;00m\n\u001b[0;32m--> 145\u001b[0m     \u001b[38;5;28;01mreturn\u001b[39;00m \u001b[43mSHA256Hash\u001b[49m\u001b[43m(\u001b[49m\u001b[43mdata\u001b[49m\u001b[43m)\u001b[49m\n",
      "File \u001b[0;32m/opt/homebrew/Cellar/jupyterlab/3.4.5/libexec/lib/python3.10/site-packages/Crypto/Hash/SHA256.py:80\u001b[0m, in \u001b[0;36mSHA256Hash.__init__\u001b[0;34m(self, data)\u001b[0m\n\u001b[1;32m     77\u001b[0m \u001b[38;5;28mself\u001b[39m\u001b[38;5;241m.\u001b[39m_state \u001b[38;5;241m=\u001b[39m SmartPointer(state\u001b[38;5;241m.\u001b[39mget(),\n\u001b[1;32m     78\u001b[0m                            _raw_sha256_lib\u001b[38;5;241m.\u001b[39mSHA256_destroy)\n\u001b[1;32m     79\u001b[0m \u001b[38;5;28;01mif\u001b[39;00m data:\n\u001b[0;32m---> 80\u001b[0m     \u001b[38;5;28;43mself\u001b[39;49m\u001b[38;5;241;43m.\u001b[39;49m\u001b[43mupdate\u001b[49m\u001b[43m(\u001b[49m\u001b[43mdata\u001b[49m\u001b[43m)\u001b[49m\n",
      "File \u001b[0;32m/opt/homebrew/Cellar/jupyterlab/3.4.5/libexec/lib/python3.10/site-packages/Crypto/Hash/SHA256.py:90\u001b[0m, in \u001b[0;36mSHA256Hash.update\u001b[0;34m(self, data)\u001b[0m\n\u001b[1;32m     82\u001b[0m \u001b[38;5;28;01mdef\u001b[39;00m \u001b[38;5;21mupdate\u001b[39m(\u001b[38;5;28mself\u001b[39m, data):\n\u001b[1;32m     83\u001b[0m     \u001b[38;5;124;03m\"\"\"Continue hashing of a message by consuming the next chunk of data.\u001b[39;00m\n\u001b[1;32m     84\u001b[0m \n\u001b[1;32m     85\u001b[0m \u001b[38;5;124;03m    Args:\u001b[39;00m\n\u001b[1;32m     86\u001b[0m \u001b[38;5;124;03m        data (byte string/byte array/memoryview): The next chunk of the message being hashed.\u001b[39;00m\n\u001b[1;32m     87\u001b[0m \u001b[38;5;124;03m    \"\"\"\u001b[39;00m\n\u001b[1;32m     89\u001b[0m     result \u001b[38;5;241m=\u001b[39m _raw_sha256_lib\u001b[38;5;241m.\u001b[39mSHA256_update(\u001b[38;5;28mself\u001b[39m\u001b[38;5;241m.\u001b[39m_state\u001b[38;5;241m.\u001b[39mget(),\n\u001b[0;32m---> 90\u001b[0m                                            \u001b[43mc_uint8_ptr\u001b[49m\u001b[43m(\u001b[49m\u001b[43mdata\u001b[49m\u001b[43m)\u001b[49m,\n\u001b[1;32m     91\u001b[0m                                            c_size_t(\u001b[38;5;28mlen\u001b[39m(data)))\n\u001b[1;32m     92\u001b[0m     \u001b[38;5;28;01mif\u001b[39;00m result:\n\u001b[1;32m     93\u001b[0m         \u001b[38;5;28;01mraise\u001b[39;00m \u001b[38;5;167;01mValueError\u001b[39;00m(\u001b[38;5;124m\"\u001b[39m\u001b[38;5;124mError \u001b[39m\u001b[38;5;132;01m%d\u001b[39;00m\u001b[38;5;124m while hashing data with SHA256\u001b[39m\u001b[38;5;124m\"\u001b[39m\n\u001b[1;32m     94\u001b[0m                          \u001b[38;5;241m%\u001b[39m result)\n",
      "File \u001b[0;32m/opt/homebrew/Cellar/jupyterlab/3.4.5/libexec/lib/python3.10/site-packages/Crypto/Util/_raw_api.py:143\u001b[0m, in \u001b[0;36mc_uint8_ptr\u001b[0;34m(data)\u001b[0m\n\u001b[1;32m    141\u001b[0m     \u001b[38;5;28;01mreturn\u001b[39;00m data\n\u001b[1;32m    142\u001b[0m \u001b[38;5;28;01melse\u001b[39;00m:\n\u001b[0;32m--> 143\u001b[0m     \u001b[38;5;28;01mraise\u001b[39;00m \u001b[38;5;167;01mTypeError\u001b[39;00m(\u001b[38;5;124m\"\u001b[39m\u001b[38;5;124mObject type \u001b[39m\u001b[38;5;132;01m%s\u001b[39;00m\u001b[38;5;124m cannot be passed to C code\u001b[39m\u001b[38;5;124m\"\u001b[39m \u001b[38;5;241m%\u001b[39m \u001b[38;5;28mtype\u001b[39m(data))\n",
      "\u001b[0;31mTypeError\u001b[0m: Object type <class 'dict'> cannot be passed to C code"
     ]
    }
   ],
   "source": [
    "from Crypto.Hash import SHA256\n",
    "hash = SHA256.new(transaction) # Sale un errorsaso."
   ]
  },
  {
   "cell_type": "markdown",
   "id": "f8b04a7e-c961-4dd8-88c1-2630d86800c5",
   "metadata": {},
   "source": [
    "El algoritmo SHA256 solo acepta valores tipo byte, por lo tanto necesitamos convertir nuestro diccionario en una cadena de bytes.\n",
    "\n",
    "Primero convertimos de dict -> str y después de str -> bytes."
   ]
  },
  {
   "cell_type": "code",
   "execution_count": 34,
   "id": "612c6eb3-4d33-4b39-8f19-5334dcd4d72e",
   "metadata": {},
   "outputs": [
    {
     "data": {
      "text/plain": [
       "bytes"
      ]
     },
     "execution_count": 34,
     "metadata": {},
     "output_type": "execute_result"
    }
   ],
   "source": [
    "transaction_str = str(transaction)\n",
    "# Ya lo convertimos a String, ahora necesitamos convertirlo a bites\n",
    "transaction_byte = transaction_str.encode()\n",
    "type(transaction_byte)"
   ]
  },
  {
   "cell_type": "markdown",
   "id": "ce224e4d-7ce3-49bb-9e71-2597428a7931",
   "metadata": {},
   "source": [
    "Una vez lo tenemos en bytes podemos pasarlo por un algoritmo SHA256 sin problema.\n",
    "\n"
   ]
  },
  {
   "cell_type": "code",
   "execution_count": 36,
   "id": "b0023f3c-2cc5-424e-83a8-b37748d557e7",
   "metadata": {},
   "outputs": [
    {
     "data": {
      "text/plain": [
       "'6a9519ccc6c7ecececf8801e699fe72544eccb46a37a7387bc416d4f347141a8'"
      ]
     },
     "execution_count": 36,
     "metadata": {},
     "output_type": "execute_result"
    }
   ],
   "source": [
    "tx_hashed = SHA256.new(transaction_byte)\n",
    "# Imprimimos el hash en su version hexadecimal\n",
    "tx_hashed.hexdigest()"
   ]
  },
  {
   "cell_type": "markdown",
   "id": "a6974deb-cb87-46c5-b9e0-fbb436d666a8",
   "metadata": {},
   "source": [
    "Ya que tenemos el contenido de nuestra transacción y su hash, podemos obtener su firma. Hagamos otro ejemplo.\n",
    "\n",
    "Pedro es el dueño de la transacción.\n",
    "Por lo tanto, Pedro tiene una cuenta con sus respectivas llaves, y puede firmarlas con su llave privada."
   ]
  },
  {
   "cell_type": "code",
   "execution_count": 49,
   "id": "9267fe7f-2b4c-423b-a6c3-21a7e081810b",
   "metadata": {},
   "outputs": [
    {
     "data": {
      "text/plain": [
       "b'i6\\xfb\\xfb\\xc6\\x03i\\xe3\\x1fX|\\xcf$\\xff\\xcf\\xab\\x1a\\xcb1}\\x16\\xeaH)T`,\\x07\\xcc\\x98\\xb8\\xc6r\\x9bf\\x10#\\x0b)\\xd3\\t\\xaf\\xfb\\xf3RoV\\xffP\\xd7\\x0c\\x03q\\'=\\\\\\x8f+\\xdc\\xfa\\tr\\xed\\xdc\\xc7O\\xf3\\xc9@\\xbbs\\xd7,|\\xb1@\\xbf\\x1c\"\\xa8\\x84K\\xf0\\xb9\\xc8\\xaa&\\x0ce\\xaa\\xf1\\x8fm^\\x1c\\x16\\x89\\xac\\xc4\\x81\\x1d\\xa5Y~S\\xf33\\x1d\\xe7e\\x12\\xad\\xe6\\x95\\xcb\\xe4\\xb9\\x94\\\\v\\x1ag\\xd7\\xb8\\xd7\\x82\\r\\x99'"
      ]
     },
     "execution_count": 49,
     "metadata": {},
     "output_type": "execute_result"
    }
   ],
   "source": [
    "from bin.account import Account\n",
    "pedro = Account(100, 'pedro')\n",
    "\n",
    "# Pedro procede a firmar la transacción\n",
    "signature = pedro.signer.sign(tx_hashed)\n",
    "\n",
    "# Nuestra firma se ve de la siguiente manera\n",
    "signature"
   ]
  },
  {
   "cell_type": "markdown",
   "id": "c617d1dd-eeb1-4adf-a673-9c720a7af63e",
   "metadata": {
    "tags": []
   },
   "source": [
    "#### Verificado"
   ]
  },
  {
   "cell_type": "markdown",
   "id": "f437cc8e-33fa-4bc9-afc6-8a55fe9dae37",
   "metadata": {
    "jp-MarkdownHeadingCollapsed": true,
    "tags": []
   },
   "source": [
    "Para verificar una transacción el proceso es muy similar. \n",
    "\n",
    "Primero hay que hacer el mismo proceso de pasar la transaccion a un algoritmo hash."
   ]
  },
  {
   "cell_type": "code",
   "execution_count": 43,
   "id": "190684d0-8ebe-49f2-8938-5fb96f5e6ede",
   "metadata": {},
   "outputs": [
    {
     "data": {
      "text/plain": [
       "<Crypto.Hash.SHA256.SHA256Hash at 0x1065165f0>"
      ]
     },
     "execution_count": 43,
     "metadata": {},
     "output_type": "execute_result"
    }
   ],
   "source": [
    "tx_hashed = SHA256.new(str(transaction).encode()) # Todo el hash en una sola linea de codigo\n",
    "tx_hashed"
   ]
  },
  {
   "cell_type": "markdown",
   "id": "bbbcd42c-75fb-44b6-8ba2-0e07bd8c4100",
   "metadata": {},
   "source": [
    "Solo que en vez de usar el firmador, vamos a usar el verificador. \n",
    "\n",
    "Para verificar necesitamos:\n",
    "- La firma de la transacción.\n",
    "- El hash de la transacción previamente obtenido.\n",
    "\n",
    "El verificador alza un error si la firma es inválida. Por eso utilizamos try/except."
   ]
  },
  {
   "cell_type": "code",
   "execution_count": 45,
   "id": "e91677da-b345-4c43-9a22-49f8468d8b4d",
   "metadata": {},
   "outputs": [
    {
     "name": "stdout",
     "output_type": "stream",
     "text": [
      "True\n"
     ]
    }
   ],
   "source": [
    "try:\n",
    "    pedro.verifier.verify(tx_hashed, signature)\n",
    "    print(True)\n",
    "except:\n",
    "    print(False)\n"
   ]
  },
  {
   "cell_type": "code",
   "execution_count": 50,
   "id": "c3c2a9aa-463f-4c60-a141-8731bf2d1d43",
   "metadata": {},
   "outputs": [
    {
     "name": "stdout",
     "output_type": "stream",
     "text": [
      "False\n"
     ]
    }
   ],
   "source": [
    "# Si lo intentaramos con una firma falsa el resultado seria distinto\n",
    "firma_falsa = SHA256.new('transaccion falsa'.encode())\n",
    "try:\n",
    "    pedro.verifier.verify(firma_falsa, signature)\n",
    "    print(True)\n",
    "except:\n",
    "    print(False)"
   ]
  },
  {
   "cell_type": "markdown",
   "id": "d84306be-744c-4117-af6c-837d9311acc6",
   "metadata": {},
   "source": [
    "Las condiciones para que salga error son:\n",
    "- El contenido de la transacción haya sido alterado.\n",
    "- La firma es incorrecta.\n",
    "- Quien firma no es el autor de la transacción."
   ]
  },
  {
   "cell_type": "markdown",
   "id": "b34d64ff-908f-4e78-bd27-5e7699fb6c76",
   "metadata": {},
   "source": [
    "Vamos a añadir estas funciones a los métodos de nuestra clase Transaction. Nuestro código completo quedaría así:"
   ]
  },
  {
   "cell_type": "code",
   "execution_count": null,
   "id": "0f2ebc67-c445-469b-a722-f02137dcef83",
   "metadata": {},
   "outputs": [],
   "source": [
    "from datetime import datetime\n",
    "from enum import Enum\n",
    "from account import Account\n",
    "from Crypto.Signature.pkcs1_15 import PKCS115_SigScheme\n",
    "from Crypto.Hash import SHA256\n",
    "\n",
    "class TxStatus(Enum):\n",
    "    PENDIENTE = 0\n",
    "    CONFIRMADA = 1\n",
    "    DECLINADA = 2\n",
    "\n",
    "class Transaction:\n",
    "    def __init__(self, sender: Account, value: int, recipient: Account):\n",
    "        self.sender = sender\n",
    "        self.value = value\n",
    "        self.recipient = recipient\n",
    "        self.time = datetime.now().strftime(\"%d/%m/%Y %H:%M:%S\")\n",
    "        self.block = None\n",
    "        self.signature = None\n",
    "        self.status = TxStatus.PENDIENTE\n",
    "        # Al instanciarse una tx, esta debe reflejarse en la cuenta que la envia. (Sender)\n",
    "        sender.list_of_all_transactions.append(self)\n",
    "\n",
    "\n",
    "    def to_dict(self):\n",
    "        \"\"\"Exporta la transaccion en formato: dict.\"\"\"\n",
    "        return {\n",
    "            'sender': self.sender.nickname,\n",
    "            'recipient': self.recipient.nickname,\n",
    "            'value': self.value,\n",
    "            'time' : self.time}\n",
    "\n",
    "    def sign_transaction(self): # (1)\n",
    "        \"\"\"Funcion que recibe un objeto transaccion y devuelve \n",
    "        la firma de la transaccion en bytes\"\"\"\n",
    "        print(\"Firmando transaccion...\")\n",
    "        msg = str(self.to_dict()).encode()\n",
    "        hash = SHA256.new(msg)\n",
    "        signer = self.sender.signer\n",
    "        signature = signer.sign(hash)\n",
    "        # print(\"Signature:\", binascii.hexlify(signature))\n",
    "        self.signature = signature\n",
    "\n",
    "    def verify_signature(self) -> bool: # (1)\n",
    "        \"\"\"Aqui se verifican las transacciones\"\"\"\n",
    "        print(\"Verificando la firma de la transaccion...\")\n",
    "        msg = str(self.to_dict()).encode()\n",
    "        hash = SHA256.new(msg)\n",
    "        verifier = self.sender.verifier\n",
    "        try:\n",
    "            verifier.verify(hash, self.signature)\n",
    "            print(\"La firma es valida.\")\n",
    "            return True\n",
    "        except:\n",
    "            print(\"La firma es invalida.\")\n",
    "            return False\n",
    "\n",
    "    def change_status(self, new_status): # (3)\n",
    "        if new_status == 'CONFIRMADA':\n",
    "            self.status = TxStatus.CONFIRMADA\n",
    "        elif new_status == 'PENDIENTE':\n",
    "            self.status = TxStatus.PENDIENTE\n",
    "        elif new_status == 'DECLINADA':\n",
    "            self.status = TxStatus.DECLINADA"
   ]
  },
  {
   "cell_type": "markdown",
   "id": "2e99cfac-9611-4935-a6c5-0ed19f7863ea",
   "metadata": {},
   "source": [
    "Lo que aplicamos se encuentra en las funciones sign_transaction, verify_signature() y to_dict. Por otro lado...\n",
    "\n",
    "Nuestro método change_status cambia el estado de una transacción. Hay que recordar que los estados cambian dependiendo del evento, por ejemplo:\n",
    "\n",
    "- Cuando una transacción se crea, empieza siendo Pendiente.\n",
    "- Cuando es parte de la cadena de bloques, pasa a estar confirmada.\n",
    "- Si la red tiene algún error, podría rechazar la transacción.\n",
    "\n",
    "Si ya vimos las cuentas, sus transacciones y el dónde se almacenan (bloques), solo nos queda ver como se anexa un bloque a la red."
   ]
  }
 ],
 "metadata": {
  "kernelspec": {
   "display_name": "Python 3 (ipykernel)",
   "language": "python",
   "name": "python3"
  },
  "language_info": {
   "codemirror_mode": {
    "name": "ipython",
    "version": 3
   },
   "file_extension": ".py",
   "mimetype": "text/x-python",
   "name": "python",
   "nbconvert_exporter": "python",
   "pygments_lexer": "ipython3",
   "version": "3.10.6"
  }
 },
 "nbformat": 4,
 "nbformat_minor": 5
}
