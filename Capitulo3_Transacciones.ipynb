{
 "cells": [
  {
   "cell_type": "markdown",
   "id": "5311c9e4-948b-4ee7-adc5-7c16a6585b45",
   "metadata": {
    "tags": []
   },
   "source": [
    "## Clase Transaction"
   ]
  },
  {
   "cell_type": "markdown",
   "id": "d86f303e-62cd-494b-8d76-a756df1c4414",
   "metadata": {},
   "source": [
    "Una transacción en el contexto de blockchain es un cambio de estado en la red. Las transacciones de nuestra blockchain permiten que dos usuarios puedan transferirse dinero virtual."
   ]
  },
  {
   "cell_type": "markdown",
   "id": "b6ae02c1-d7d0-4401-aac8-eb6d1444596d",
   "metadata": {},
   "source": [
    "Vamos a crear un archivo en nuestro directorio de trabajo llamado transaction.py. En él, vamos a instanciar una clase de nombre Transaction."
   ]
  },
  {
   "cell_type": "code",
   "execution_count": 1,
   "id": "53fb7307-3ff7-44d3-842d-797cea18db04",
   "metadata": {},
   "outputs": [],
   "source": [
    "class Transaction():\n",
    "    pass"
   ]
  },
  {
   "cell_type": "markdown",
   "id": "0cf08480-c688-4540-8b0e-517fc3ee604f",
   "metadata": {},
   "source": [
    "Cada transacción tiene 3 elementos principales.\n",
    "- ¿Quién manda la transaccion? (sender)\n",
    "- ¿Quién la recibe? (recipient)\n",
    "- ¿Cuánto dinero es? (value)\n",
    "\n",
    "Cada que se instancie una transaccion en local, la vamos a inicializar con sus elementos principales."
   ]
  },
  {
   "cell_type": "code",
   "execution_count": 3,
   "id": "874347bf-1668-4b72-9427-a3b23ef303db",
   "metadata": {},
   "outputs": [],
   "source": [
    "from bin.account import Account\n",
    "\n",
    "class Transaction():\n",
    "    def __init__(self, sender: Account, value: int, recipient: Account):\n",
    "        pass"
   ]
  },
  {
   "cell_type": "markdown",
   "id": "a7d9a4a3-9247-437f-9bfe-518250819ee1",
   "metadata": {},
   "source": [
    "Ademas, añadiremos atributos \"informativos\" que sirven para guardar informacion importante de la transaccion.\n",
    "\n",
    "- Timestamp: Hora en la que la transaccion fue añadida a la red.\n",
    "- Block: Bloque al que pertenece la transaccion.\n",
    "- Signature: Firma digital de la transaccion. \n",
    "- Status: Estado actual de la transaccion."
   ]
  },
  {
   "cell_type": "code",
   "execution_count": 67,
   "id": "505180e2-56da-4828-9b28-b0a343e1652d",
   "metadata": {},
   "outputs": [],
   "source": [
    "from account import Account \n",
    "\n",
    "class Transaction:\n",
    "    def __init__(self, sender: Account, value: int, recipient: Account):\n",
    "        self.sender = sender\n",
    "        self.value = value\n",
    "        self.recipient = recipient\n",
    "        # Hora en la que la transaccion se instancia\n",
    "        self.time = datetime.now().strftime(\"%d/%m/%Y %H:%M:%S\")\n",
    "        self.block = None\n",
    "        self.signature = None\n",
    "        self.status = TxStatus.PENDIENTE # (1)\n",
    "        # Al instanciarse una tx, esta debe reflejarse en la cuenta que la envia. (Sender)\n",
    "        sender.list_of_all_transactions.append(self) # (2)"
   ]
  },
  {
   "cell_type": "markdown",
   "id": "781f90c4-e54a-4a2c-827d-3a3b5b2d8e82",
   "metadata": {},
   "source": [
    "Del bloque de codigo anterior vamos a resaltar dos puntos:\n",
    "- (1) Vamos a desarrollar un Enum que nos permita ir haciendo **cambios de estado**.\n",
    "- (2) Esta linea de codigo anexa en la cuenta del remitente la transaccion que se esta realizando. "
   ]
  },
  {
   "cell_type": "markdown",
   "id": "9339bfd8-b94c-4356-ae22-7125e7a77939",
   "metadata": {},
   "source": [
    "#### Enum"
   ]
  },
  {
   "cell_type": "markdown",
   "id": "7c96971f-f327-45ba-9bb1-8e80657329ee",
   "metadata": {},
   "source": [
    "Un Enum nos ayuda a definir nuestros propios tipos de datos. En este caso, vamos a diseñar uno que nos de 3 casos de una transacción:\n",
    "- Completada\n",
    "- Rechazada\n",
    "- En espera"
   ]
  },
  {
   "cell_type": "code",
   "execution_count": 68,
   "id": "ae5f20be-75e1-4a3a-a667-5b22926605e7",
   "metadata": {},
   "outputs": [],
   "source": [
    "from enum import Enum\n",
    "class TxStatus(Enum):\n",
    "    PENDIENTE = 0\n",
    "    CONFIRMADA = 1\n",
    "    DECLINADA = 2"
   ]
  },
  {
   "cell_type": "markdown",
   "id": "f47b152e-4a7b-4fb6-9f54-6a4f1dec9161",
   "metadata": {},
   "source": [
    "El primer metodo de la clase Account es el siguiente:"
   ]
  },
  {
   "cell_type": "code",
   "execution_count": 69,
   "id": "ace1883f-b5f9-4e30-a892-f66811e192e4",
   "metadata": {},
   "outputs": [],
   "source": [
    "    def to_dict(self):\n",
    "        \"\"\"Exporta la transaccion en formato: dict.\"\"\"\n",
    "        return {\n",
    "            'sender': self.sender.nickname,\n",
    "            'recipient': self.recipient.nickname,\n",
    "            'value': self.value,\n",
    "            'time' : self.time}"
   ]
  },
  {
   "cell_type": "markdown",
   "id": "e2b2ab80-42ee-4494-8dd0-6bc45184d34d",
   "metadata": {},
   "source": [
    "Este metodo exporta un diccionario con el \"encabezado\" de la transaccion. Es la informacion que se codifica y pasa a ser el contenido de la transaccion."
   ]
  },
  {
   "cell_type": "markdown",
   "id": "88c2ed55-4d5e-42ea-a0bd-bd955ca3336d",
   "metadata": {},
   "source": [
    "### Firmado y Verificado de transacciones utilizando una cuenta "
   ]
  },
  {
   "cell_type": "markdown",
   "id": "7649a489-75a2-4f05-9d02-ce3e601c84ef",
   "metadata": {
    "tags": []
   },
   "source": [
    "#### Firmado"
   ]
  },
  {
   "cell_type": "markdown",
   "id": "348e5791-df51-4cd6-8eff-9080194ee5f1",
   "metadata": {},
   "source": [
    "Digamos que nuestra transaccion es lo siguiente:"
   ]
  },
  {
   "cell_type": "code",
   "execution_count": 70,
   "id": "fcd3313a-54f4-4993-9279-159c3f1216cb",
   "metadata": {},
   "outputs": [],
   "source": [
    "transaction = {\n",
    "    \"sender\": \"Pedro\",\n",
    "    \"receiver\": \"maria\",\n",
    "    \"amount\": 10\n",
    "}"
   ]
  },
  {
   "cell_type": "code",
   "execution_count": 71,
   "id": "612c6eb3-4d33-4b39-8f19-5334dcd4d72e",
   "metadata": {},
   "outputs": [
    {
     "data": {
      "text/plain": [
       "dict"
      ]
     },
     "execution_count": 71,
     "metadata": {},
     "output_type": "execute_result"
    }
   ],
   "source": [
    "# Si trataramos de ingresar en un hash este contenido pasaria lo siguiente:\n",
    "from Crypto.Hash import SHA256\n",
    "# hash = SHA256.new(transaction) # Sale un errorsaso.\n",
    "\n",
    "# SHA256 solo acepta valores alfanumericos, por lo tanto necesitamos convertir nuestro diccionario en una cadena de bites\n",
    "# Primero: dict -> str\n",
    "transaction_str = str(transaction)\n",
    "\n",
    "# Ya lo convertimos a String, ahora necesitamos convertirlo a bites\n",
    "transaction_byte = transaction_str.encode()\n",
    "type(transaction)"
   ]
  },
  {
   "cell_type": "code",
   "execution_count": 72,
   "id": "b0023f3c-2cc5-424e-83a8-b37748d557e7",
   "metadata": {},
   "outputs": [
    {
     "data": {
      "text/plain": [
       "'6a9519ccc6c7ecececf8801e699fe72544eccb46a37a7387bc416d4f347141a8'"
      ]
     },
     "execution_count": 72,
     "metadata": {},
     "output_type": "execute_result"
    }
   ],
   "source": [
    "# Una vez lo tenemos en bytes podemos pasarlo por un algoritmo SHA256 sin problema.\n",
    "tx_hashed = SHA256.new(transaction_byte)\n",
    "\n",
    "# Imprimimos el hash en su version hexadecimal\n",
    "tx_hashed.hexdigest()"
   ]
  },
  {
   "cell_type": "markdown",
   "id": "a6974deb-cb87-46c5-b9e0-fbb436d666a8",
   "metadata": {},
   "source": [
    "Ya que tenemos el contenido de nuestra transaccion y su hash, podemos obtener su firma."
   ]
  },
  {
   "cell_type": "code",
   "execution_count": 73,
   "id": "9267fe7f-2b4c-423b-a6c3-21a7e081810b",
   "metadata": {},
   "outputs": [
    {
     "ename": "TypeError",
     "evalue": "__init__() missing 1 required positional argument: 'nickname'",
     "output_type": "error",
     "traceback": [
      "\u001b[1;31m---------------------------------------------------------------------------\u001b[0m",
      "\u001b[1;31mTypeError\u001b[0m                                 Traceback (most recent call last)",
      "Cell \u001b[1;32mIn [73], line 5\u001b[0m\n\u001b[0;32m      1\u001b[0m \u001b[38;5;66;03m# Hagamos el ejemplo completo:\u001b[39;00m\n\u001b[0;32m      2\u001b[0m \u001b[38;5;66;03m# Pedro es el dueno de la transaccion.\u001b[39;00m\n\u001b[0;32m      3\u001b[0m \u001b[38;5;66;03m# Por lo tanto, Pedro tiene una cuenta con sus respectivas llaves.\u001b[39;00m\n\u001b[0;32m      4\u001b[0m \u001b[38;5;28;01mfrom\u001b[39;00m \u001b[38;5;21;01maccount\u001b[39;00m \u001b[38;5;28;01mimport\u001b[39;00m Account\n\u001b[1;32m----> 5\u001b[0m pedro \u001b[38;5;241m=\u001b[39m \u001b[43mAccount\u001b[49m\u001b[43m(\u001b[49m\u001b[38;5;124;43m'\u001b[39;49m\u001b[38;5;124;43mpedro\u001b[39;49m\u001b[38;5;124;43m'\u001b[39;49m\u001b[43m)\u001b[49m\n\u001b[0;32m      7\u001b[0m \u001b[38;5;66;03m# Gracias a que desarrollamos la clase cuenta, podemos utilizarla en este ejemplo.\u001b[39;00m\n\u001b[0;32m      8\u001b[0m \u001b[38;5;66;03m# Pedro tiene su llave privada y pubica, asi como su firmador y su verificador.\u001b[39;00m\n\u001b[0;32m      9\u001b[0m \u001b[38;5;66;03m# Pedro procede a firmar la transaccion\u001b[39;00m\n\u001b[0;32m     10\u001b[0m signature \u001b[38;5;241m=\u001b[39m pedro\u001b[38;5;241m.\u001b[39msigner\u001b[38;5;241m.\u001b[39msign(tx_hashed)\n",
      "\u001b[1;31mTypeError\u001b[0m: __init__() missing 1 required positional argument: 'nickname'"
     ]
    }
   ],
   "source": [
    "# Hagamos el ejemplo completo:\n",
    "# Pedro es el dueno de la transaccion.\n",
    "# Por lo tanto, Pedro tiene una cuenta con sus respectivas llaves.\n",
    "from account import Account\n",
    "pedro = Account('pedro')\n",
    "\n",
    "# Gracias a que desarrollamos la clase cuenta, podemos utilizarla en este ejemplo.\n",
    "# Pedro tiene su llave privada y pubica, asi como su firmador y su verificador.\n",
    "# Pedro procede a firmar la transaccion\n",
    "signature = pedro.signer.sign(tx_hashed)\n",
    "\n",
    "# Nuestra firma se ve de la siguiente manera\n",
    "signature"
   ]
  },
  {
   "cell_type": "markdown",
   "id": "c617d1dd-eeb1-4adf-a673-9c720a7af63e",
   "metadata": {
    "tags": []
   },
   "source": [
    "#### Verificado"
   ]
  },
  {
   "cell_type": "markdown",
   "id": "dc42cdb6-a065-4a69-8715-a74c82f19143",
   "metadata": {
    "jp-MarkdownHeadingCollapsed": true,
    "tags": []
   },
   "source": [
    "Para verificar una transaccion el proceso es muy similar. "
   ]
  },
  {
   "cell_type": "code",
   "execution_count": null,
   "id": "e91677da-b345-4c43-9a22-49f8468d8b4d",
   "metadata": {},
   "outputs": [],
   "source": [
    "# Necesitamos pasar por un hash el contenido de la transaccion.\n",
    "tx_hashed = SHA256.new(str(transaction).encode()) # Todo el hash en una sola linea de codigo\n",
    "\n",
    "# Ahora, en vez de usar el firmador, vamos a usar el verificador. \n",
    "try:\n",
    "    pedro.verifier.verify(tx_hashed, signature)\n",
    "    print(True)\n",
    "except:\n",
    "    print(False)\n"
   ]
  },
  {
   "cell_type": "markdown",
   "id": "5574cab2-d011-4990-8b47-ce7418fc96f3",
   "metadata": {},
   "source": [
    "El verificador alza un error si la firma es invalida. Por eso utilizamos try/except"
   ]
  },
  {
   "cell_type": "code",
   "execution_count": null,
   "id": "c3c2a9aa-463f-4c60-a141-8731bf2d1d43",
   "metadata": {},
   "outputs": [],
   "source": [
    "# Si lo intentaramos con una firma falsa el resultado seria distinto\n",
    "firma_falsa = SHA256.new('transaccion falsa'.encode())\n",
    "# Ahora, en vez de usar el firmador, vamos a usar el verificador. \n",
    "try:\n",
    "    pedro.verifier.verify(firma_falsa, signature)\n",
    "    print(True)\n",
    "except:\n",
    "    print(False)"
   ]
  },
  {
   "cell_type": "markdown",
   "id": "d84306be-744c-4117-af6c-837d9311acc6",
   "metadata": {},
   "source": [
    "Las condiciones para que salga error son:\n",
    "- El contenido de la transaccion haya sido alterado.\n",
    "- La firma es incorrecta.\n",
    "- Quien firma no es el autor de la transaccion."
   ]
  },
  {
   "cell_type": "markdown",
   "id": "b34d64ff-908f-4e78-bd27-5e7699fb6c76",
   "metadata": {},
   "source": [
    "Vamos a anadir estas funciones a los metodos de nuestra clase Transaction. Nuestro codigo completo quedaria asi:"
   ]
  },
  {
   "cell_type": "code",
   "execution_count": null,
   "id": "0f2ebc67-c445-469b-a722-f02137dcef83",
   "metadata": {},
   "outputs": [],
   "source": [
    "from datetime import datetime\n",
    "from enum import Enum\n",
    "from account import Account\n",
    "from Crypto.Signature.pkcs1_15 import PKCS115_SigScheme\n",
    "from Crypto.Hash import SHA256\n",
    "\n",
    "class TxStatus(Enum):\n",
    "    PENDIENTE = 0\n",
    "    CONFIRMADA = 1\n",
    "    DECLINADA = 2\n",
    "\n",
    "class Transaction:\n",
    "    def __init__(self, sender: Account, value: int, recipient: Account):\n",
    "        self.sender = sender\n",
    "        self.value = value\n",
    "        self.recipient = recipient\n",
    "        self.time = datetime.now().strftime(\"%d/%m/%Y %H:%M:%S\")\n",
    "        self.block = None\n",
    "        self.signature = None\n",
    "        self.status = TxStatus.PENDIENTE\n",
    "        # Al instanciarse una tx, esta debe reflejarse en la cuenta que la envia. (Sender)\n",
    "        sender.list_of_all_transactions.append(self)\n",
    "\n",
    "\n",
    "    def to_dict(self):\n",
    "        \"\"\"Exporta la transaccion en formato: dict.\"\"\"\n",
    "        return {\n",
    "            'sender': self.sender.nickname,\n",
    "            'recipient': self.recipient.nickname,\n",
    "            'value': self.value,\n",
    "            'time' : self.time}\n",
    "\n",
    "    def sign_transaction(self): # (1)\n",
    "        \"\"\"Funcion que recibe un objeto transaccion y devuelve \n",
    "        la firma de la transaccion en bytes\"\"\"\n",
    "        print(\"Firmando transaccion...\")\n",
    "        msg = str(self.to_dict()).encode()\n",
    "        hash = SHA256.new(msg)\n",
    "        signer = self.sender.signer\n",
    "        signature = signer.sign(hash)\n",
    "        # print(\"Signature:\", binascii.hexlify(signature))\n",
    "        self.signature = signature\n",
    "\n",
    "    def verify_signature(self) -> bool: # (1)\n",
    "        \"\"\"Aqui se verifican las transacciones\"\"\"\n",
    "        print(\"Verificando la firma de la transaccion...\")\n",
    "        msg = str(self.to_dict()).encode()\n",
    "        hash = SHA256.new(msg)\n",
    "        verifier = self.sender.verifier\n",
    "        try:\n",
    "            verifier.verify(hash, self.signature)\n",
    "            print(\"La firma es valida.\")\n",
    "            return True\n",
    "        except:\n",
    "            print(\"La firma es invalida.\")\n",
    "            return False\n",
    "\n",
    "    def change_status(self, new_status): # (3)\n",
    "        if new_status == 'CONFIRMADA':\n",
    "            self.status = TxStatus.CONFIRMADA\n",
    "        elif new_status == 'PENDIENTE':\n",
    "            self.status = TxStatus.PENDIENTE\n",
    "        elif new_status == 'DECLINADA':\n",
    "            self.status = TxStatus.DECLINADA"
   ]
  },
  {
   "cell_type": "markdown",
   "id": "6971a7f1-8a31-48e8-9143-3f816b7c5787",
   "metadata": {},
   "source": [
    "Lo que aplicamos se encuentra en las funciones sign_transaction(), verify_signature() y to_dict(). La unica funcion que nos falto comentar es change_status()"
   ]
  },
  {
   "cell_type": "markdown",
   "id": "3160d840-4362-44cf-8775-6603cb4e4f45",
   "metadata": {
    "tags": []
   },
   "source": [
    "#### Funcion change_status()"
   ]
  },
  {
   "cell_type": "markdown",
   "id": "2e05a933-545b-4962-9534-31b42d7ae5ef",
   "metadata": {},
   "source": [
    "Funcion que cambia el estado de una transaccion. Hay que recordar que los estados cambian dependiendo del evento, por ejemplo:\n",
    "- Cuando una transaccion se crea, empieza siendo Pendiente.\n",
    "- Cuando es parte de la cadena de bloques, pasa a estar confirmada.\n",
    "- Si la red tiene algun error, podria rechazar la transaccion."
   ]
  }
 ],
 "metadata": {
  "kernelspec": {
   "display_name": "Python 3 (ipykernel)",
   "language": "python",
   "name": "python3"
  },
  "language_info": {
   "codemirror_mode": {
    "name": "ipython",
    "version": 3
   },
   "file_extension": ".py",
   "mimetype": "text/x-python",
   "name": "python",
   "nbconvert_exporter": "python",
   "pygments_lexer": "ipython3",
   "version": "3.10.6"
  }
 },
 "nbformat": 4,
 "nbformat_minor": 5
}
