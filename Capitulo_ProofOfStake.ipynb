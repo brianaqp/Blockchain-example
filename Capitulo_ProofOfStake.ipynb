{
 "cells": [
  {
   "cell_type": "markdown",
   "id": "e8eb989f-426b-43bb-860c-4df74758b167",
   "metadata": {
    "tags": []
   },
   "source": [
    "# Proof of Stake"
   ]
  },
  {
   "cell_type": "markdown",
   "id": "8bb20e5b-0cc9-4a48-b0d4-ad39613b26f0",
   "metadata": {},
   "source": [
    "Proof of Stake renueva todo el sistema de \"carrera de mineros\" a \"grupo de validadores sin esperanzas.\" Proof of Stake fue creado para solventar la principal problematica de Proof of Work (Gasto energetico).\n",
    "\n",
    "Ya no existen los mineros, ahora los nodos seran \"validadores y forjadores\". En este consenso, \"minar un bloque\" pasa a ser \"forjar un bloque\", significan lo mismo. \n",
    "- El forjador se encarga de verificar las transacciones y agruparlas en un bloque, firmar ese bloque con su llave privada y enviarlo a la red.\n",
    "- Los Validadores se encargan de revisar que el trabajo del forjador este correcto.\n",
    "- Cuando le bloque haya sido validador. El forjador anexa el bloque a la Blockchain.\n",
    "\n",
    "Antes, los mineros provaban su validez en la red con su trabajo (de ahi viene su nombre). Ahora, prueban su validez con su \"liquidez\". Cada nodo pone su dinero en la red para provar que es de confianza; si el nodo llegara a querer danar la identidad de la red, su dinero (que no es una cantidad pequena) seria destruido.\n",
    "\n",
    "Se dice que son nodos Trustless, debido a que como nadie quiere ser un nodo corrupto y perder todo su dinero, nadie confia en nadie y se revisa el trabajo de todos."
   ]
  },
  {
   "cell_type": "markdown",
   "id": "e1099aea-d018-4a9b-984f-0ee218a16808",
   "metadata": {},
   "source": [
    "En este consenso, entre mas dinero tenga un nodo puesto como \"seguro\" en la red, mas probabilidad tiene de ser el siguiente forjador del bloque. \n",
    "\n",
    "Cada que se escoje un nuevo forjador, se escojen tambien un numero determinado de validadores. \n",
    "\n",
    "Nos vamos a centrar en todo este mecanismo, poniendo un ejemplo, para despues ver como se implementa en una funcion de nuestra cadena de bloques."
   ]
  },
  {
   "cell_type": "markdown",
   "id": "5f90c599-061f-4234-9e09-b2b3de37c75e",
   "metadata": {},
   "source": [
    "Vamos a ir desarrollando poco a poco, clase por clase"
   ]
  },
  {
   "cell_type": "markdown",
   "id": "7fecb927-5452-4c66-89ae-a22f50add56a",
   "metadata": {},
   "source": [
    " ## Nodos"
   ]
  },
  {
   "cell_type": "markdown",
   "id": "36ec89fa-5477-40b4-beaa-44c369e81ef8",
   "metadata": {},
   "source": [
    "Un nodo que esta participando para ser elegido como validador o como forjador, tiene que tener si o si una cuenta en la que recibiria las recompensas de la red. Una cuenta puede usar la red sin la necesidad de ser un validador. Un validor es un validador por dos motivos:\n",
    "1. Por que el usuario asi lo desea\n",
    "2. Por que cuenta con dinero suficiente para demostrar que es de confianza.\n",
    "\n",
    "En Proof of Stake, se necesita un \"minimo\" de dinero virtual para ser validor de la red.\n",
    "\n",
    "Podemos concluir que: Si tienes una cuenta en la Blockchain, y tienes minimo N cantidad de dinero virtual, puedes ser un validador."
   ]
  },
  {
   "cell_type": "markdown",
   "id": "e096c5de-38f8-4f5c-9afb-9b3c41009051",
   "metadata": {},
   "source": [
    "Para la blockchain que vamos a desarrollar, vamos a crear una nueva clase llamada Validator. Esta clase va a tener dos atributos:\n",
    "- \"Tokens\" por cuenta.\n",
    "- La direccion de la cuenta que es Validador."
   ]
  },
  {
   "cell_type": "code",
   "execution_count": null,
   "id": "40b08d07-20f9-4c77-b5db-e92bb6410e36",
   "metadata": {},
   "outputs": [],
   "source": [
    "from tokens import Token\n",
    "from account import Account\n",
    "\n",
    "class Validator():\n",
    "    def __init__(self, account):\n",
    "        self.account = account\n",
    "        self.tokens = []\n",
    "\n",
    "    def set_tokens(self, total_coins):\n",
    "        \"\"\"Funcion que por cada moneda en el balance, se instancia un nuevo token en la cuenta.\"\"\"\n",
    "        for every_coin in range(0, total_coins):\n",
    "            self.tokens.append(Token(self))\n",
    "\n",
    "    def get_tokens(self):\n",
    "        \"\"\"Funcion que devuelve el numero de tokens en la cuenta.\"\"\"\n",
    "        return len(self.tokens)"
   ]
  },
  {
   "cell_type": "markdown",
   "id": "eb0a4555-2cd1-4ede-a2a5-2097bf993232",
   "metadata": {},
   "source": [
    "Los **tokens** son objetos dentro de una blockchain que puede tener una utilidad dentro de la misma. En este caso, nos van a ayudar para resolver el algoritmo de seleccion de forjador dentro de un grupo de validadores. Vamos a crear una clase Token."
   ]
  },
  {
   "cell_type": "markdown",
   "id": "8f4fb9f5-b296-4412-a3dd-01f7218f0d6e",
   "metadata": {},
   "source": [
    "## Tokens"
   ]
  },
  {
   "cell_type": "code",
   "execution_count": 3,
   "id": "18abf0fe-b979-4478-a071-18ae13a6b13d",
   "metadata": {},
   "outputs": [],
   "source": [
    "class Token():\n",
    "    def __init__(self, owner):\n",
    "        self.owner = owner"
   ]
  },
  {
   "cell_type": "markdown",
   "id": "ca4167d5-9319-4abe-9737-0b8e092eea41",
   "metadata": {},
   "source": [
    "La clase Token va a tener una funcion muy sencilla, pero muy importante. Tener un dueno. "
   ]
  },
  {
   "cell_type": "markdown",
   "id": "95a0502d-5a32-48cf-8785-f235724ab593",
   "metadata": {
    "tags": []
   },
   "source": [
    "## Como se ve la clase Forjador y Testigo?"
   ]
  },
  {
   "cell_type": "markdown",
   "id": "9614b42f-f1c4-428d-ba2c-529d0579b304",
   "metadata": {},
   "source": [
    "### Clase Forger"
   ]
  },
  {
   "cell_type": "markdown",
   "id": "f901e854-06d6-4145-9b01-662229381dee",
   "metadata": {},
   "source": [
    "### Clase Attestor"
   ]
  },
  {
   "cell_type": "markdown",
   "id": "db5fadff-a536-4d18-9e84-6964e6d108cf",
   "metadata": {},
   "source": [
    "## Algoritmo de seleccion de Forjador y Testigos."
   ]
  },
  {
   "cell_type": "markdown",
   "id": "4cf66383-b5dc-42cc-beea-575d154b8331",
   "metadata": {},
   "source": [
    "Cada Blockchain que utilice el consenso Proof of Stake tiene un algoritmo distinto; algunos dan mas beneficio a los que casi no participan, algunas penalizan por ciertas acciones u otros dan prioridad por la antiguedad del nodo, pero en todos, la que mayor probabilidad da es tener mas dinero dentro de la red como asegurador de tu trabajo, asi que en esta blockchain unicamente vamos a tomar en cuenta ese."
   ]
  },
  {
   "cell_type": "code",
   "execution_count": 86,
   "id": "befb3fd8-d64a-489e-8dcd-4bc4e40d1204",
   "metadata": {},
   "outputs": [
    {
     "data": {
      "text/plain": [
       "({<account.Validator at 0x2cbb2d2f9d0>: 350,\n",
       "  <account.Validator at 0x2cbb2e7b250>: 500,\n",
       "  <account.Validator at 0x2cbb2e87130>: 200,\n",
       "  <account.Validator at 0x2cbb2e8bd90>: 275},\n",
       " 1325)"
      ]
     },
     "execution_count": 86,
     "metadata": {},
     "output_type": "execute_result"
    }
   ],
   "source": [
    "from account import Account, Validator\n",
    "\n",
    "validadores_del_bloque = {} # validadores del bloque confirmador\n",
    "total_stacked = 0 # dinero que se almacena de los validadores\n",
    "\n",
    "# Vamos a crear 5 cuentas. Cada una de ellas se va a instanciar como un validador.\n",
    "# Si bien sabemos que el dinero no sale de la nada, ponerles un balance nos ayuda para ejemplificar \n",
    "# algo mas adelante...\n",
    "\n",
    "charles = Account(350, 'charles')\n",
    "edwin = Account(500, 'edwin')\n",
    "oliver = Account(200, 'oliver')\n",
    "erick = Account(90, 'erick')\n",
    "sonia = Account(275, 'sonia')\n",
    "\n",
    "# Las juntamos en una variable\n",
    "lista_cuentas = [charles, edwin, oliver, erick, sonia]\n",
    "\n",
    "# Digamos que todos quieren ser validadores, solo van a pasar aquellos que tengan mas de 100 de balance en su cuenta.\n",
    "# Lo primero es hacer ese filto\n",
    "for cuenta in lista_cuentas: # Bucle for que recorre cada una de las cuentas\n",
    "    if cuenta.balance >= 100: # Si tiene 100 o mas de balance puede ser validador\n",
    "        # Instanciar un nuevo objeto Validator.\n",
    "        new_validator = Validator(cuenta) \n",
    "        \n",
    "        # Variable que almacena el dinero que se va a intercambiar por tokens\n",
    "        account_money = int(new_validator.account.balance)\n",
    "        \n",
    "        # A traves del objeto Validator, podemos acceder al objeto Account, y despues al atributo balance para restarle lo que gasto en tokens.\n",
    "        new_validator.account.balance -= account_money\n",
    "        \n",
    "        # Se utiliza al funcion set_tokens para instanciar un numero determinado de tokens en la cuenta.\n",
    "        # Si el usuario tiene 200 de balance, se van a intercambiar por 200 tokens.\n",
    "        new_validator.set_tokens(account_money) \n",
    "\n",
    "        # Se almacena en un diccionario el validador y la cuenta.\n",
    "        validadores_del_bloque.update({new_validator: account_money})\n",
    "        \n",
    "        # Se suma al total stackeado de la red el balance que se cambio por tokens\n",
    "        total_stacked += account_money\n",
    "\n",
    "# Al final vamos a tener una lista de validadores. (Menos Erick)\n",
    "validadores_del_bloque, total_stacked"
   ]
  },
  {
   "cell_type": "code",
   "execution_count": 87,
   "id": "20bc2dd4-908d-46af-800e-5f355a22bbe2",
   "metadata": {},
   "outputs": [
    {
     "name": "stdout",
     "output_type": "stream",
     "text": [
      "charles, 0\n",
      "edwin, 0\n",
      "oliver, 0\n",
      "sonia, 0\n"
     ]
    }
   ],
   "source": [
    "# Su balance tambien fue restado.\n",
    "for keys in validadores_del_bloque.keys():\n",
    "    print(f\"{keys.account.nickname}, {keys.account.balance}\")"
   ]
  },
  {
   "cell_type": "markdown",
   "id": "376976b1-06bb-4dba-a7ea-0bcb85c9b507",
   "metadata": {},
   "source": [
    "Una vez que tenemos la lista neta de los validadores que van a formar parte de la forja y validacion del bloque, toca hacer un sorteo.\n",
    "\n",
    "El mecanismo con el cual se escoje es por probabilidades y es muy similar a una tombola."
   ]
  },
  {
   "cell_type": "code",
   "execution_count": 92,
   "id": "085e2804-626a-4e75-a8cb-2294320bed0f",
   "metadata": {},
   "outputs": [
    {
     "name": "stdout",
     "output_type": "stream",
     "text": [
      "Acumulando los tokens de los validadores en el servidor actual...\n",
      "1325 - tokens acumulados.\n",
      "Revolviendo la lista...\n",
      "Lista revuelta!\n",
      "charles 350\n",
      "edwin 500\n",
      "oliver 200\n",
      "sonia 275\n",
      "El forjador del nuevo bloque sera... charles\n"
     ]
    },
    {
     "data": {
      "text/plain": [
       "{<account.Validator at 0x2cbb2e7b250>: 500,\n",
       " <account.Validator at 0x2cbb2e87130>: 200,\n",
       " <account.Validator at 0x2cbb2e8bd90>: 275}"
      ]
     },
     "execution_count": 92,
     "metadata": {},
     "output_type": "execute_result"
    }
   ],
   "source": [
    "from random import sample, choice\n",
    "from forge import Forge\n",
    "\n",
    "# Dentro de esta celda, se va a disenar un algoritmo que escoja al siguiente forger, el siguiente ejemplo fue una implementacion propia, pero cada blockchain puede variar. \n",
    "# Cada validador tiene una cantidad finita de tokens. \n",
    "# Se van a ingresar los tokens de todos en una sola lista.\n",
    "# Cada token tiene un dueno, por lo tanto, se sabe de quien es.\n",
    "# Cada ticket que ingresaron da una la posibilidad de ser el siguiente forjador del bloque.\n",
    "# La lista se revuelve y se escoje un elemento al azara.\n",
    "# El dueno del ticket ganador pasa a ser el forjador del nuevo bloque, y los no ganadores a ser los validadores.\n",
    "# 1.- Lista que almacenara todos los tickets de la \"rifa\".\n",
    "pool = []\n",
    "# 2.- Bucle que recorrera a cada validador, y añadara sus tokens a la lista general.\n",
    "for validator in validadores_del_bloque.keys():\n",
    "    pool += validator.tokens\n",
    "# 3.- Se revuelve la lista. (Como si fuera un sorteo.)\n",
    "print('Acumulando los tokens de los validadores en el servidor actual...')\n",
    "print(len(pool), '- tokens acumulados.')\n",
    "print('Revolviendo la lista...')\n",
    "pool = sample(pool, len(pool))\n",
    "print('Lista revuelta!')\n",
    "\n",
    "# Bucle que valida que los tokens se hayan incluido bien\n",
    "contador = 0\n",
    "for validator in validadores_del_bloque.keys():  # Por cada validador, en la lista de validadores\n",
    "    for token in pool: # Por cada ticken en el pool \n",
    "        if token.owner.account.nickname == validator.account.nickname: # Si el token pertenece al usuario, se suma uno en el contador\n",
    "            contador += 1\n",
    "    print(validator.account.nickname, contador) # Se imprimen los tickets de cada validador \n",
    "    contador = 0\n",
    "# Fin de la validacion\n",
    "\n",
    "ticket_winner = choice(pool)\n",
    "forger = Forge(ticket_winner.owner)\n",
    "print(f'El forjador del nuevo bloque sera... {forger.validator.account.nickname}')\n",
    "\n",
    "# los validadores no ganadores del sorteo pasan a ser testigos.\n",
    "# se remueve el forjador, asi solo quedan los testigos\n",
    "validadores_sin_el_forjador = validadores_del_bloque.copy() # Se hace una copia de la lista que contiene a los validadores de la red\n",
    "validadores_sin_el_forjador.pop(forger.validator) # Se elimina al forjador de esta transaccion\n",
    "validadores_sin_el_forjador # se imprime para ver que el forjador ya no esta "
   ]
  },
  {
   "cell_type": "code",
   "execution_count": 101,
   "id": "ba90aa67-64ff-4914-aea8-c7d5fe11a0d6",
   "metadata": {},
   "outputs": [
    {
     "data": {
      "text/plain": [
       "[<attestor.Attestor at 0x2cbb2e350d0>,\n",
       " <attestor.Attestor at 0x2cbb2e63b20>,\n",
       " <attestor.Attestor at 0x2cbb2e63af0>]"
      ]
     },
     "execution_count": 101,
     "metadata": {},
     "output_type": "execute_result"
    }
   ],
   "source": [
    "# Ya tenemos a nuestro forjador, solo nos falta crear objetos de clase Attestor.\n",
    "from attestor import Attestor\n",
    "testigos = [Attestor(validador) for validador in validadores_sin_el_forjador] # Bucle for que instancia dentro de una lista objetos de tipo Attestor.\n",
    "testigos"
   ]
  },
  {
   "cell_type": "code",
   "execution_count": null,
   "id": "f48df221-adc9-4fe1-b01b-3880811bae99",
   "metadata": {},
   "outputs": [],
   "source": [
    "# En proceso de verificar las tx...\n",
    "verified_tx = forger.verify_tx(self.holding_tx)\n",
    "forger.create_a_block(self.chain[-1].hash, verified_tx, _block_number)\n",
    "forger.sign_block()\n",
    "# el forjador manda el bloque a la red\n",
    "print('### Enviando el bloque a la red...')\n",
    "self.last_block = forger.broadcast_block()\n",
    "print('### Iniciando atestiguamiento del bloque...')\n",
    "if attestors.attest(self.last_block):\n",
    "self.chain.append(self.last_block)\n",
    "print(\"### Bloque creado. ###\\n\")\n",
    "self.holding_tx = []\n",
    "for tx in self.last_block.list_of_transactions:\n",
    "tx.block = _block_number\n",
    "self.verify_latest_tx()\n",
    "self.send_money_to_receivers()\n",
    "else:\n",
    "print('No se pudo incluir el bloque.')\n",
    "return\n",
    "# Cada testigo va a 'atestiguar' que el forjador verifico correctamente las transacciones y su bloque esta bien hecho.\n",
    "# Si esta correcto, daran su 'confirmacion'. \n",
    "# Se necesita que el 75% de los testigos den su confirmacion positiva para anexar el bloque a la cadena de bloques."
   ]
  }
 ],
 "metadata": {
  "kernelspec": {
   "display_name": "Python 3 (ipykernel)",
   "language": "python",
   "name": "python3"
  },
  "language_info": {
   "codemirror_mode": {
    "name": "ipython",
    "version": 3
   },
   "file_extension": ".py",
   "mimetype": "text/x-python",
   "name": "python",
   "nbconvert_exporter": "python",
   "pygments_lexer": "ipython3",
   "version": "3.9.13"
  }
 },
 "nbformat": 4,
 "nbformat_minor": 5
}
