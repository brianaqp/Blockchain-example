{
 "cells": [
  {
   "cell_type": "markdown",
   "id": "e8eb989f-426b-43bb-860c-4df74758b167",
   "metadata": {
    "tags": []
   },
   "source": [
    "# Proof of Stake"
   ]
  },
  {
   "cell_type": "markdown",
   "id": "a7e7bb6a-7079-49ee-a04a-93bf59487717",
   "metadata": {},
   "source": [
    "Proof of Stake renueva todo el sistema de \"carrera de mineros\" a \"grupo de validadores sin confianza.\" Proof of Stake fue creado para solventar la principal problemática de Proof of Work (Gasto energético).\n",
    "\n",
    "Ya no existen los mineros, ahora los nodos serán \"validadores\". En este consenso, \"minar un bloque\" pasa a ser \"forjar un bloque\", que significan lo mismo. Los Validadores pueden ejercer dos roles: Forjador y Testigo.\n",
    "- El forjador se encarga de verificar las transacciones y agruparlas en un bloque, firmar ese bloque con su llave privada y enviarlo a la red.\n",
    "- Los Testigos se encargan de revisar que el trabajo del forjador este correcto.\n",
    "- Cuando el bloque haya sido validador. El forjador anexa el bloque a la Blockchain.\n",
    "\n",
    "Antes, los mineros probaban su validez en la red con su trabajo. Ahora, prueban su validez con su \"liquidez\" (o stake). Cada nodo pone su dinero en la red para probar que es de confianza; si el nodo quisiera dañar la red, su dinero (que no es una cantidad pequeña) sería destruido.\n",
    "\n",
    "En este consenso, entre más dinero tenga un nodo puesto como \"seguro\" en la red, más probabilidad tiene de ser el siguiente forjador del bloque. \n",
    "\n",
    "Cada que se escoge un nuevo forjador, se escogen también un número determinado de validadores. \n",
    "\n",
    "Nos vamos a centrar en todo este mecanismo, poniendo un ejemplo, para después ver como se implementa en una función de nuestra cadena de bloques."
   ]
  },
  {
   "cell_type": "markdown",
   "id": "5f90c599-061f-4234-9e09-b2b3de37c75e",
   "metadata": {},
   "source": [
    "Vamos a ir desarrollando poco a poco, clase por clase"
   ]
  },
  {
   "cell_type": "markdown",
   "id": "7fecb927-5452-4c66-89ae-a22f50add56a",
   "metadata": {},
   "source": [
    " ## Nodos"
   ]
  },
  {
   "cell_type": "markdown",
   "id": "5e91b6ca-c08c-4d91-840e-7a43888bb7e1",
   "metadata": {},
   "source": [
    "Un nodo que está participando para ser elegido como validador o como forjador, tiene que tener si o si una cuenta en la que recibiría las recompensas de la red. Una cuenta puede usar la red sin la necesidad de ser un validador. Un nodo puede ser un validador por dos motivos:\n",
    "1. Porque el usuario así lo desea.\n",
    "2. Porque cuenta con dinero suficiente para demostrar que es de confianza.\n",
    "\n",
    "En Proof of Stake, se necesita un \"mínimo\" de dinero virtual para ser validador de la red.\n",
    "\n",
    "Podemos concluir que: Si tienes una cuenta en la Blockchain, y tienes mínimo N cantidad de dinero virtual, puedes ser un validador.\n",
    "\n",
    "Para la blockchain que vamos a desarrollar, vamos a crear una nueva clase llamada Validator en el mismo archivo en el que tenemos nuestra clase Account. \n",
    "\n",
    "Esta clase va a tener dos atributos:\n",
    "- \"Tokens\" por cuenta.\n",
    "- La dirección de la cuenta que es Validador."
   ]
  },
  {
   "cell_type": "code",
   "execution_count": null,
   "id": "40b08d07-20f9-4c77-b5db-e92bb6410e36",
   "metadata": {},
   "outputs": [],
   "source": [
    "from bin.tokens import Token\n",
    "from bin.account import Account\n",
    "\n",
    "class Validator():\n",
    "    def __init__(self, account):\n",
    "        self.account = account\n",
    "        self.tokens = []\n",
    "\n",
    "    def set_tokens(self, total_coins):\n",
    "        \"\"\"Funcion que por cada moneda en el balance, se instancia un nuevo token en la cuenta.\"\"\"\n",
    "        for every_coin in range(0, total_coins):\n",
    "            self.tokens.append(Token(self))\n",
    "\n",
    "    def get_tokens(self):\n",
    "        \"\"\"Funcion que devuelve el numero de tokens en la cuenta.\"\"\"\n",
    "        return len(self.tokens)"
   ]
  },
  {
   "cell_type": "markdown",
   "id": "eb0a4555-2cd1-4ede-a2a5-2097bf993232",
   "metadata": {},
   "source": [
    "Los **tokens** son objetos dentro de una blockchain que puede tener una utilidad dentro de la misma. En este caso, nos van a ayudar para resolver el algoritmo de selección de forjador dentro de un grupo de validadores. Vamos a crear una clase Token."
   ]
  },
  {
   "cell_type": "markdown",
   "id": "8f4fb9f5-b296-4412-a3dd-01f7218f0d6e",
   "metadata": {},
   "source": [
    "## Tokens"
   ]
  },
  {
   "cell_type": "code",
   "execution_count": null,
   "id": "18abf0fe-b979-4478-a071-18ae13a6b13d",
   "metadata": {},
   "outputs": [],
   "source": [
    "class Token():\n",
    "    def __init__(self, owner):\n",
    "        self.owner = owner"
   ]
  },
  {
   "cell_type": "markdown",
   "id": "ca4167d5-9319-4abe-9737-0b8e092eea41",
   "metadata": {},
   "source": [
    "La clase Token va a tener una función muy sencilla, pero muy importante. Tener un dueño al cual nombrar ganador (esto se ve mas adelante)."
   ]
  },
  {
   "cell_type": "markdown",
   "id": "95a0502d-5a32-48cf-8785-f235724ab593",
   "metadata": {
    "tags": []
   },
   "source": [
    "## ¿Cómo se ve la clase Forjador y Testigo?"
   ]
  },
  {
   "cell_type": "markdown",
   "id": "9614b42f-f1c4-428d-ba2c-529d0579b304",
   "metadata": {
    "tags": []
   },
   "source": [
    "### Clase Forger"
   ]
  },
  {
   "cell_type": "markdown",
   "id": "f805bc08-bb1d-49fd-8b3e-58a1124662f8",
   "metadata": {},
   "source": [
    "Un forjador es encargado de crear un bloque y anexarlo a red. Funciona de la siguiente manera:\n",
    "1. Primero agrupa las transacciones y las verifica.\n",
    "2. Crea un bloque y anexa las transacciones.\n",
    "3. Firma el bloque con su llave privada y lo envía a los validadores del bloque.\n",
    "4. Los demás validadores ahora serán testigos, y su trabajo será atestiguar que el nodo hizo bien su trabajo.\n",
    "4. Si todos llegan a un consenso, el forjador tendrá permiso para anexar el nodo a la red."
   ]
  },
  {
   "cell_type": "markdown",
   "id": "4bc9d906-a56e-4b39-8160-88b7f9d83d61",
   "metadata": {},
   "source": [
    "Dentro de nuestro directorio de trabajo vamos a crear un nuevo archivo python llamado forger.py. \n",
    "\n",
    "En el vamos a instanciar una clase llamada Forger."
   ]
  },
  {
   "cell_type": "code",
   "execution_count": null,
   "id": "5b1ec318-9f51-4d92-b859-56d587ccaf07",
   "metadata": {},
   "outputs": [],
   "source": [
    "class Forger():\n",
    "    pass"
   ]
  },
  {
   "cell_type": "markdown",
   "id": "f526e45c-7fef-4a25-8a3b-8a917ffcc325",
   "metadata": {},
   "source": [
    "Para crear a un forjador, se tiene que inicializar con el validador que ejercerá ese rol."
   ]
  },
  {
   "cell_type": "code",
   "execution_count": null,
   "id": "51bcdf1e-7036-4afd-9283-8ee5518ed4c1",
   "metadata": {},
   "outputs": [],
   "source": [
    "class Forger():\n",
    "    def __init__(self, validator):\n",
    "        pass"
   ]
  },
  {
   "cell_type": "markdown",
   "id": "b058567a-46a5-42ea-a1ed-dda62c094504",
   "metadata": {},
   "source": [
    "La clase que vamos a usar en nuestra Blockchain va a necesitar los siguientes atributos:\n",
    "- validator: Guarda la dirección de la cuenta que está realizando la transacción.\n",
    "- block: Variable que almacena el bloque que se crea.\n",
    "- block_signature: Variable que almacena la firma de bloque hecha por el forjador."
   ]
  },
  {
   "cell_type": "code",
   "execution_count": null,
   "id": "d523588c-d5de-42f9-8ff9-69f1afcb561b",
   "metadata": {},
   "outputs": [],
   "source": [
    "class Forger():\n",
    "    def __init__(self, validator):\n",
    "        self.validator = validator # Cuando se crea un Forger, se vincula con la cuenta del validador. \n",
    "        self.block = None # Bloque creado por el forjador\n",
    "        self.block_signature = None # Firma del bloque "
   ]
  },
  {
   "cell_type": "markdown",
   "id": "a90bac69-6e8d-4542-9dff-5dd356df1ef4",
   "metadata": {},
   "source": [
    "En cuanto a sus métodos...\n",
    "\n",
    "Lo primero que hace un forjador es agrupar las transacciones en espera y verificarlas.  "
   ]
  },
  {
   "cell_type": "code",
   "execution_count": null,
   "id": "8d0ae1d1-2060-46b4-b890-0fafb07600b0",
   "metadata": {},
   "outputs": [],
   "source": [
    "    def verify_tx(self, holding_tx):\n",
    "            \"\"\"Funcion en la que el forjador verifica que las transacciones en espera sean\n",
    "            validas para incluirlas en el bloque. La verificacion es igual que en PoW.\"\"\"\n",
    "            print('El forjador esta verificando las tx.')\n",
    "            verified_tx = []\n",
    "            for tx in holding_tx:\n",
    "                if tx.verify_signature(): # Utiliza el metodo de la clase Transaction para su propia firma.\n",
    "                    print(tx.to_dict())\n",
    "                    verified_tx.append(tx) # Si la firma se verifica, se anexa a una nueva lista llamada verified_tx\n",
    "            return verified_tx"
   ]
  },
  {
   "cell_type": "markdown",
   "id": "eed344d6-afb8-4eb4-a096-1c01d5b9d137",
   "metadata": {},
   "source": [
    "Una vez listas las transacciones, el forjador crea un objeto bloque."
   ]
  },
  {
   "cell_type": "code",
   "execution_count": null,
   "id": "72311fc5-a79c-4c0c-a94d-33e8dba40404",
   "metadata": {},
   "outputs": [],
   "source": [
    "    def create_a_block(self, _previous_hash, _verified_tx, _block_number):\n",
    "        self.block = Block(_previous_hash, _verified_tx, _block_number)"
   ]
  },
  {
   "cell_type": "markdown",
   "id": "cd485c01-ec97-4b28-ae2b-6a403098c2d6",
   "metadata": {},
   "source": [
    "Con el bloque creado, y con las transacciones verificadas y almacenadas, el forjador firma el bloque. El proceso es similar a cuando se firma una transacción."
   ]
  },
  {
   "cell_type": "code",
   "execution_count": null,
   "id": "287bc939-56d4-418c-8067-04a46cf0ea37",
   "metadata": {},
   "outputs": [],
   "source": [
    "    def sign_block(self) -> bool:\n",
    "        \"\"\"El forjador recibe un objeto bloque, lo firma con su llave privada.\"\"\"\n",
    "        print(\"### FIRMANDO EL BLOQUE\")\n",
    "        # Se añade el validador al bloque.\n",
    "        self.block.forger = self # Antes de firmarse el bloque, se guarda en el bloque la informacion de quien lo forjo.\n",
    "        block_header = json.dumps(self.block.get_block_header_pos()).encode() # Se obtiene el header del bloque para pasarlo a formato JSON\n",
    "        block_hashed = SHA256.new(block_header) # El bloque pasa por un algoritmo SHA256\n",
    "        #\n",
    "        signer = self.validator.account.signer # Cada forjador es una cuenta con el titulo de forjador, por lo tanto, tiene su propia llave privada \n",
    "        signature = signer.sign(block_hashed)\n",
    "        self.block.hash = block_hashed.hexdigest() # Se almacena dentro del bloque su propio hash\n",
    "        self.block_signature = signature # El forjado guarda consigo su firma del bloque\n",
    "        print('### BLOQUE FIRMADO Y CON SU HASH ---')\n",
    "\n",
    "    def broadcast_block(self):\n",
    "        \"\"\"Funcion que retorna el bloque creado del forjador.\"\"\"\n",
    "        return self.block"
   ]
  },
  {
   "cell_type": "markdown",
   "id": "f815d091-1f8c-4a05-9c1f-52d60156cbe3",
   "metadata": {},
   "source": [
    "Con la transacción firmada, se envía a la red."
   ]
  },
  {
   "cell_type": "code",
   "execution_count": null,
   "id": "b2e8b111-197e-4ef5-abfb-359267480ed1",
   "metadata": {},
   "outputs": [],
   "source": [
    "def broadcast_block(self):\n",
    "    return self.block"
   ]
  },
  {
   "cell_type": "markdown",
   "id": "f901e854-06d6-4145-9b01-662229381dee",
   "metadata": {
    "tags": []
   },
   "source": [
    "### Clase Attestor"
   ]
  },
  {
   "cell_type": "markdown",
   "id": "b9c3d9ba-f2c2-421d-aa52-efc94a2116b4",
   "metadata": {},
   "source": [
    "Los Attestors (Testigos en ingles) son los encargados de verificar el trabajo del forjador; \"atestiguan\" que todo esté bien. Su metodología iría algo así:\n",
    "- Reciben el bloque del forjador.\n",
    "- Revisan que la firma del bloque sea correcta.\n",
    "- Si no hay nada raro, y mas del 75% de los validadores estan de acuerdo, el bloque puede pasar a ser parte de la red."
   ]
  },
  {
   "cell_type": "markdown",
   "id": "1ca82985-95fa-4f3e-9c64-ea1e44559233",
   "metadata": {},
   "source": [
    "Dentro de nuestro directorio de trabajo vamos a crear un nuevo archivo python llamado attestor.py. \n",
    "\n",
    "En el vamos a instanciar una clase llamada Attestor."
   ]
  },
  {
   "cell_type": "code",
   "execution_count": null,
   "id": "f94ddc06-d04a-42b6-8856-1b552e6eb327",
   "metadata": {},
   "outputs": [],
   "source": [
    "class Attestor():\n",
    "    pass"
   ]
  },
  {
   "cell_type": "markdown",
   "id": "0c89e3d9-762a-468c-aca1-71719163e05b",
   "metadata": {},
   "source": [
    "Para crear a un testigo, se tiene que inicializar con el validador que ejercerá ese rol."
   ]
  },
  {
   "cell_type": "code",
   "execution_count": null,
   "id": "7a680fcf-8283-4486-a3f1-a5875d6d1d48",
   "metadata": {},
   "outputs": [],
   "source": [
    "class Attestor():\n",
    "    def __init__(self, validator):\n",
    "        pass"
   ]
  },
  {
   "cell_type": "markdown",
   "id": "e4932dd5-3c63-4437-b5e1-e1017b5de34f",
   "metadata": {},
   "source": [
    "Como métodos solo vamos a necesitar una función que revise el bloque."
   ]
  },
  {
   "cell_type": "code",
   "execution_count": null,
   "id": "1f990e9b-0ae3-41f0-bbd5-3d19ec777128",
   "metadata": {},
   "outputs": [],
   "source": [
    "    def check_block(self, block):\n",
    "        \"\"\"Funcion que recibe un bloque, lo verifica y retorna un valor booleano si la revision es exitosa.\"\"\"\n",
    "        # Asi como se hacian las verificaciones de transacciones, se vuelve a obtener el hash del contenido (bloque en este caso)\n",
    "        block_header = json.dumps(block.get_block_header_pos()).encode() \n",
    "        block_hashed = SHA256.new(block_header)\n",
    "        # recordemos que se usa el verificador quien forjo el bloque.\n",
    "        verifier = block.forger.validator.account.verifier\n",
    "        try:\n",
    "            verifier.verify(block_hashed, block.forger.block_signature)\n",
    "            print(f\"{self.validator.account.nickname}: Confirmo que la firma del bloque es correcta.\")\n",
    "            return True\n",
    "        except:\n",
    "            print(\"La firma es invalida.\")\n",
    "            return False\n",
    "        #"
   ]
  },
  {
   "cell_type": "markdown",
   "id": "401530ab-96bf-451e-87ea-184dcfb5b3ea",
   "metadata": {},
   "source": [
    "En el archivo attestor.py también vamos a desarrollar una clase Attestors (en plural.\n",
    "). Esta clase va a tomar a los validadores que no ganaron el sorteo, y juntarlos a todos como testigos."
   ]
  },
  {
   "cell_type": "code",
   "execution_count": null,
   "id": "29b207c6-1e62-422f-975e-37b6c4a49d6b",
   "metadata": {},
   "outputs": [],
   "source": [
    "class Attestor():\n",
    "    ...\n",
    "    \n",
    "class Attestors():\n",
    "    pass"
   ]
  },
  {
   "cell_type": "markdown",
   "id": "c25c33a4-8389-4c62-bd63-f54bdf569a29",
   "metadata": {},
   "source": [
    "Para crear un objeto de tipo Attestor, vamos a necesitar una lista de los validadores que pasarán a ser testigos."
   ]
  },
  {
   "cell_type": "code",
   "execution_count": null,
   "id": "61a6d573-cb4f-4971-8854-9d0e9a639f75",
   "metadata": {},
   "outputs": [],
   "source": [
    "class Attestors():\n",
    "    def __init__(self, validators: list):\n",
    "        pass"
   ]
  },
  {
   "cell_type": "markdown",
   "id": "3735edf2-c05a-4579-ab89-03bcd183f414",
   "metadata": {},
   "source": [
    "Como atributos solo tendremos una variable list llamada group, encargada de contener a los validadores e instanciarlos como un clase de tipo Attestor."
   ]
  },
  {
   "cell_type": "code",
   "execution_count": null,
   "id": "07f54296-fd18-49b4-a6d6-6ca2a996fc2b",
   "metadata": {},
   "outputs": [],
   "source": [
    "class Attestors():\n",
    "    def __init__(self, validators):\n",
    "        self.group = [Attestor(validator) for validator in validators] "
   ]
  },
  {
   "cell_type": "markdown",
   "id": "9ea562a3-4f6f-454d-ac8a-b4a7aa37e4bf",
   "metadata": {},
   "source": [
    "Esta clase va a contar con un método llamado Attest, el cual pone a cada testigo a revisar el trabajo del forjador y juntar sus confirmaciones. Si la mayoría de testigos están de acuerdo, el bloque puede ser añadido a la red."
   ]
  },
  {
   "cell_type": "code",
   "execution_count": 4,
   "id": "990b5de8-08dc-47e1-83eb-2bb45c245065",
   "metadata": {},
   "outputs": [],
   "source": [
    "    def attest(self, block):\n",
    "        \"\"\"Funcion que recibe un bloque, y va pasando a cada attestor a revisar el bloque. Si las confirmaciones son suficientes, regresa un valor True.\"\"\"\n",
    "        confirmations = [] # Variable que almacena las confirmaciones de los testigos\n",
    "        for attestor in self.group: # Por cada testigos en el grupo de todos los testigos\n",
    "            confirmations.append(attestor.check_block(block)) # Anexa su respuesta a las confirmaciones\n",
    "        print('-----------------')\n",
    "        # Se hace una division para cononcer cuantos votos minimos necesitamos, si el objetivo es superar el 75%\n",
    "        minimun_votes = len(self.group) // 1.25\n",
    "        if sum(confirmations) > minimun_votes: # Si las confirmaciones son mayores a un porcentaje designado...\n",
    "            print('Confirmaciones suficientes para anadir el bloque.')\n",
    "            return True\n",
    "        else:\n",
    "            print('Confirmaciones insuficientes para anadir el bloque.')\n",
    "            return False"
   ]
  },
  {
   "cell_type": "markdown",
   "id": "db5fadff-a536-4d18-9e84-6964e6d108cf",
   "metadata": {
    "tags": []
   },
   "source": [
    "## Algoritmo de selección de Forjador y Testigos."
   ]
  },
  {
   "cell_type": "markdown",
   "id": "4cf66383-b5dc-42cc-beea-575d154b8331",
   "metadata": {},
   "source": [
    "La Blockchain que utilizan el consenso Proof of Stake tiene un algoritmo que escoge al forjador y sus testigos por diversos factores. En este ejemplo, vamos a desarrollar un algoritmo de tómbola que beneficie a los nodos con más tokens en stacking."
   ]
  },
  {
   "cell_type": "code",
   "execution_count": 5,
   "id": "befb3fd8-d64a-489e-8dcd-4bc4e40d1204",
   "metadata": {},
   "outputs": [
    {
     "data": {
      "text/plain": [
       "({<bin.account.Validator at 0x106446620>: 350,\n",
       "  <bin.account.Validator at 0x106445420>: 500,\n",
       "  <bin.account.Validator at 0x10647cca0>: 200,\n",
       "  <bin.account.Validator at 0x1064ece50>: 275},\n",
       " 1325)"
      ]
     },
     "execution_count": 5,
     "metadata": {},
     "output_type": "execute_result"
    }
   ],
   "source": [
    "from bin.account import Account, Validator\n",
    "\n",
    "validadores_del_bloque = {} # validadores del bloque confirmados\n",
    "total_stacked = 0 # dinero que se almacena de los validadores\n",
    "\n",
    "# Vamos a crear 5 cuentas. Cada una de ellas se va a instanciar como un validador.\n",
    "# Si bien sabemos que el dinero no sale de la nada, ponerles un balance nos ayuda para ejemplificar \n",
    "# efectos de práctica...\n",
    "\n",
    "charles = Account(350, 'charles')\n",
    "edwin = Account(500, 'edwin')\n",
    "oliver = Account(200, 'oliver')\n",
    "erick = Account(90, 'erick')\n",
    "sonia = Account(275, 'sonia')\n",
    "\n",
    "# Las juntamos en una variable\n",
    "lista_cuentas = [charles, edwin, oliver, erick, sonia]\n",
    "\n",
    "# Digamos que todos quieren ser validadores, solo van a pasar aquellos \n",
    "# que tengan mas de 100 de balance en su cuenta.\n",
    "\n",
    "# Lo primero es hacer ese filto\n",
    "for cuenta in lista_cuentas: # Bucle for que recorre cada una de las cuentas\n",
    "    if cuenta.balance >= 100: # Si tiene 100 o mas de balance puede ser validador\n",
    "        # Instanciar un nuevo objeto Validator.\n",
    "        new_validator = Validator(cuenta) \n",
    "        \n",
    "        # Variable que almacena el dinero que se va a intercambiar por tokens\n",
    "        account_money = int(new_validator.account.balance)\n",
    "        \n",
    "        # A traves del objeto Validator, podemos acceder al objeto Account, y \n",
    "        # despues al atributo balance para restarle lo que gasto en tokens.\n",
    "        new_validator.account.balance -= account_money\n",
    "        \n",
    "        # Se utiliza al funcion set_tokens para instanciar un numero \n",
    "        # determinado de tokens en la cuenta. Si el usuario tiene 200 \n",
    "        # de balance, se van a intercambiar por 200 tokens.\n",
    "        new_validator.set_tokens(account_money) \n",
    "\n",
    "        # Se almacena en un diccionario el validador y la cuenta.\n",
    "        validadores_del_bloque.update({new_validator: account_money})\n",
    "        \n",
    "        # Se suma al total stackeado de la red el balance que se cambio por tokens\n",
    "        total_stacked += account_money\n",
    "\n",
    "# Al final vamos a tener una lista de validadores. (Menos Erick)\n",
    "validadores_del_bloque, total_stacked"
   ]
  },
  {
   "cell_type": "code",
   "execution_count": 6,
   "id": "20bc2dd4-908d-46af-800e-5f355a22bbe2",
   "metadata": {},
   "outputs": [
    {
     "name": "stdout",
     "output_type": "stream",
     "text": [
      "charles, 0\n",
      "edwin, 0\n",
      "oliver, 0\n",
      "sonia, 0\n"
     ]
    }
   ],
   "source": [
    "# Su balance tambien fue restado.\n",
    "for keys in validadores_del_bloque.keys():\n",
    "    print(f\"{keys.account.nickname}, {keys.account.balance}\")"
   ]
  },
  {
   "cell_type": "markdown",
   "id": "376976b1-06bb-4dba-a7ea-0bcb85c9b507",
   "metadata": {},
   "source": [
    "Una vez que tenemos la lista neta de los validadores que van a formar parte de la forja y validación del bloque, haremos el sorteo."
   ]
  },
  {
   "cell_type": "markdown",
   "id": "f4dcedc9-d82b-491d-a3d1-a90533c93f9f",
   "metadata": {
    "tags": []
   },
   "source": [
    "#### ¿Cómo desarrollar el algoritmo?\n",
    "Dentro de esta celda, se va a diseñar un algoritmo que escoja al siguiente forger, el siguiente ejemplo fue una implementación propia, pero cada blockchain puede variar.  Veámoslo:\n",
    "- Cada validador tiene una cantidad finita de tokens. \n",
    "- Se van a ingresar los tokens de todos los validadores que van a participar en el sorteo en una sola lista.\n",
    "- Cada token tiene un dueño, por lo tanto, se sabe de quién es.\n",
    "- Cada ticket que ingresaron da una la posibilidad de ser el siguiente forjador del bloque.\n",
    "- La lista se revuelve y se escoge un elemento al azar.\n",
    "- El dueño del ticket ganador pasa a ser el forjador del nuevo bloque, y los no ganadores a ser los validadores."
   ]
  },
  {
   "cell_type": "code",
   "execution_count": 7,
   "id": "085e2804-626a-4e75-a8cb-2294320bed0f",
   "metadata": {},
   "outputs": [
    {
     "name": "stdout",
     "output_type": "stream",
     "text": [
      "Acumulando los tokens de los validadores en el servidor actual...\n",
      "1325 - tokens acumulados.\n",
      "Revolviendo la lista...\n",
      "Lista revuelta!\n",
      "charles 350\n",
      "edwin 500\n",
      "oliver 200\n",
      "sonia 275\n",
      "El forjador del nuevo bloque sera... charles\n"
     ]
    },
    {
     "data": {
      "text/plain": [
       "('no ganadores', ['edwin', 'oliver', 'sonia'])"
      ]
     },
     "execution_count": 7,
     "metadata": {},
     "output_type": "execute_result"
    }
   ],
   "source": [
    "from random import sample, choice\n",
    "from bin.forger import Forger\n",
    "\n",
    "\n",
    "# 1.- Lista que almacenara todos los tickets de la \"rifa\".\n",
    "pool = []\n",
    "# 2.- Bucle que recorrera a cada validador, y añadara sus tokens a la lista general.\n",
    "for validator in validadores_del_bloque.keys():\n",
    "    pool += validator.tokens\n",
    "# 3.- Se revuelve la lista. (Como si fuera un sorteo.)\n",
    "print('Acumulando los tokens de los validadores en el servidor actual...')\n",
    "print(len(pool), '- tokens acumulados.')\n",
    "print('Revolviendo la lista...')\n",
    "pool = sample(pool, len(pool))\n",
    "print('Lista revuelta!')\n",
    "\n",
    "# Bucle que valida que los tokens se hayan incluido bien\n",
    "contador = 0\n",
    "for validator in validadores_del_bloque.keys():  # Por cada validador, en la lista de validadores\n",
    "    for token in pool: # Por cada ticken en el pool \n",
    "        if token.owner.account.nickname == validator.account.nickname: # Si el token pertenece al usuario, se suma uno en el contador\n",
    "            contador += 1\n",
    "    print(validator.account.nickname, contador) # Se imprimen los tickets de cada validador \n",
    "    contador = 0\n",
    "# Fin de la validacion\n",
    "\n",
    "ticket_winner = choice(pool)\n",
    "forger = Forger(ticket_winner.owner)\n",
    "print(f'El forjador del nuevo bloque sera... {forger.validator.account.nickname}')\n",
    "\n",
    "# los validadores no ganadores del sorteo pasan a ser testigos.\n",
    "# se remueve el forjador, asi solo quedan los testigos\n",
    "validadores_sin_el_forjador = validadores_del_bloque.copy() # Se hace una copia de la lista que contiene a los validadores de la red\n",
    "validadores_sin_el_forjador.pop(forger.validator) # Se elimina al forjador de esta transaccion\n",
    "\"no ganadores\",[validator.account.nickname for validator in validadores_sin_el_forjador]"
   ]
  },
  {
   "cell_type": "markdown",
   "id": "c5c7fffc-7ad0-4b11-b10b-3271cfde3954",
   "metadata": {},
   "source": [
    "Aquellos que no ganaron el sorteo, pasan a ser \"testigos\"."
   ]
  },
  {
   "cell_type": "code",
   "execution_count": 8,
   "id": "ba90aa67-64ff-4914-aea8-c7d5fe11a0d6",
   "metadata": {},
   "outputs": [],
   "source": [
    "from bin.attestor import Attestor, Attestors\n",
    "\n",
    "# Para instanciar al grupo de testigos, necesitamos usar la clase Attestors\n",
    "attestors = Attestors(validadores_sin_el_forjador)"
   ]
  },
  {
   "cell_type": "markdown",
   "id": "a417be25-72f1-419b-a94c-1d31de8a799b",
   "metadata": {},
   "source": [
    "Ya tenemos a nuestro forjador y nuestro testigo, ¿Qué seguiria?\n",
    "\n",
    "#### Procedimiento del Forjador y del Testigo"
   ]
  },
  {
   "cell_type": "markdown",
   "id": "88e966cf-a3f1-4d59-9109-604f576ed049",
   "metadata": {},
   "source": [
    "Lo primero que sucede es que el Forjador recibe un bloque y verifica sus transacciones.\n",
    "\n"
   ]
  },
  {
   "cell_type": "code",
   "execution_count": 19,
   "id": "dbf54a84-0f1f-4908-88d5-dc045842f14a",
   "metadata": {},
   "outputs": [
    {
     "name": "stdout",
     "output_type": "stream",
     "text": [
      "Firmando transaccion...\n",
      "El forjador esta verificando las tx.\n",
      "Verificando la firma de la transaccion...\n",
      "La firma es valida.\n",
      "{'sender': 'pedro', 'recipient': 'maria', 'value': 10, 'time': '24/09/2022 17:20:20'}\n",
      "### FIRMANDO EL BLOQUE\n",
      "### BLOQUE FIRMADO Y CON SU HASH ---\n",
      "edwin: Confirmo que la firma del bloque es correcta.\n",
      "oliver: Confirmo que la firma del bloque es correcta.\n",
      "sonia: Confirmo que la firma del bloque es correcta.\n",
      "-----------------\n",
      "Confirmaciones suficientes para anadir el bloque.\n",
      "TODO CORRECTO, LLEGAMOS A UN ACUERDO\n"
     ]
    },
    {
     "data": {
      "text/plain": [
       "1"
      ]
     },
     "execution_count": 19,
     "metadata": {},
     "output_type": "execute_result"
    }
   ],
   "source": [
    "from bin.account import Account\n",
    "from bin.transaction import Transaction\n",
    "from bin.block import Block\n",
    "\n",
    "# Instanciamos un bloque previo al actual para efectos de práctica\n",
    "cadena_de_bloques = [Block('0', [], 0)]\n",
    "\n",
    "# Vamos a crear una transaccion entre dos cuentas.\n",
    "tx = Transaction(Account(100, 'pedro'), 10, Account(100, 'maria'))\n",
    "\n",
    "# Cada transaccion se firma con la llave privada del que envia la transaccion.\n",
    "tx.sign_transaction()\n",
    "\n",
    "# Se anade la tx a una lista de espera\n",
    "holding_tx = [tx]\n",
    "\n",
    "# El forjador verifica las transacciones en la lista\n",
    "verified_tx = forger.verify_tx(holding_tx)\n",
    "\n",
    "# El forjador crea un bloque \n",
    "forger.create_a_block(cadena_de_bloques[-1].hash, verified_tx, len(cadena_de_bloques))\n",
    "\n",
    "# El forjador firma el bloque\n",
    "forger.sign_block()\n",
    "\n",
    "# El forjador envia el bloque a la red\n",
    "bloque_firmado = forger.broadcast_block()\n",
    "\n",
    "if attestors.attest(bloque_firmado):\n",
    "    print('TODO CORRECTO, LLEGAMOS A UN ACUERDO')\n",
    "    cadena_de_bloques.append(bloque_firmado)\n",
    "cadena_de_bloques[1].block_number"
   ]
  },
  {
   "cell_type": "markdown",
   "id": "d577caf8-6e72-4b0f-b368-b9973448e02a",
   "metadata": {},
   "source": [
    "Ya abarcamos todas las clases que se desarrollan dentro de la clase Blockchain. Llego la hora de ir a nuestra clase principal y ver cómo podemos integrar todo lo anterior."
   ]
  }
 ],
 "metadata": {
  "kernelspec": {
   "display_name": "Python 3 (ipykernel)",
   "language": "python",
   "name": "python3"
  },
  "language_info": {
   "codemirror_mode": {
    "name": "ipython",
    "version": 3
   },
   "file_extension": ".py",
   "mimetype": "text/x-python",
   "name": "python",
   "nbconvert_exporter": "python",
   "pygments_lexer": "ipython3",
   "version": "3.9.13"
  }
 },
 "nbformat": 4,
 "nbformat_minor": 5
}
