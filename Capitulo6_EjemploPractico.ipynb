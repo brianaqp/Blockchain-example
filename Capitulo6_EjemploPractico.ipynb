{
 "cells": [
  {
   "cell_type": "markdown",
   "id": "1eaf3490-328a-4a2a-97c3-64907da32e5a",
   "metadata": {
    "tags": []
   },
   "source": [
    "# Ejemplo práctico "
   ]
  },
  {
   "cell_type": "markdown",
   "id": "507c4df2-17b0-4f4b-b62d-53e6cb485eff",
   "metadata": {
    "tags": []
   },
   "source": [
    "## Caso: Proof of Work"
   ]
  },
  {
   "cell_type": "markdown",
   "id": "71599737-a315-4ab2-b39d-89244c93dcb0",
   "metadata": {},
   "source": [
    "Importamos la clase Account y Blockchain\n"
   ]
  },
  {
   "cell_type": "code",
   "execution_count": 2,
   "id": "b06f75ef-8b57-4282-9b04-7c667b51b319",
   "metadata": {},
   "outputs": [],
   "source": [
    "from bin.account import Account\n",
    "from bin.blockchain import Blockchain"
   ]
  },
  {
   "cell_type": "markdown",
   "id": "ddb88a79-ae18-4de0-aa1d-033d1339130d",
   "metadata": {},
   "source": [
    "Inicializar nuestra blockchain conlleva dos cosas:\n",
    "1. Escoger el consenso con el que vamos a trabajar.\n",
    "2. Inicializar el bloque génesis."
   ]
  },
  {
   "cell_type": "code",
   "execution_count": 3,
   "id": "853c0f57-c62f-47a2-b8ec-bc6bace331e0",
   "metadata": {},
   "outputs": [
    {
     "name": "stdout",
     "output_type": "stream",
     "text": [
      "### Inicializamos nuestra blockchain\n",
      "Inicializando bloque genesis...\n",
      "Dentro de funcion mine...\n",
      "Nonce Guess:  46378\n",
      "Resultant Hash: 00001e6acd1d86b401d687712d322ab80a5af8f8f74214d7575cf629c52e135e\n",
      "Decimal value of hash: 209931745916594597554099974976852832762162364941953807153725092211331934\n",
      "\n"
     ]
    }
   ],
   "source": [
    "# Inicializamos nuestra cadena de bloques\n",
    "print(\"### Inicializamos nuestra blockchain\")\n",
    "blockchain = Blockchain()  # Tambien se crea el bloque genesis.\n",
    "\n",
    "# Escojemos que protocolo queremos en nuestra blockchain\n",
    "blockchain.set_consensus('PoW')\n",
    "\n",
    "# Inicializamos el bloque genes\n",
    "blockchain.generate_genesis_block()"
   ]
  },
  {
   "cell_type": "markdown",
   "id": "6c8c58d8-0407-4e18-a1b9-1e7fcc1bc08d",
   "metadata": {},
   "source": [
    "Imprimimos el bloque génesis para revisar su creación."
   ]
  },
  {
   "cell_type": "code",
   "execution_count": 4,
   "id": "9b52bbf2-09d8-4ae3-9abb-1aa0af99560c",
   "metadata": {},
   "outputs": [
    {
     "name": "stdout",
     "output_type": "stream",
     "text": [
      "-------------\n",
      "Bloque No:  0\n",
      "Transacciones: \n",
      "- Genesis0 send 0 to Genesis01\n",
      "Hash anterior:  0\n",
      "Hash actual:  00001e6acd1d86b401d687712d322ab80a5af8f8f74214d7575cf629c52e135e\n",
      "Time stamp:  25/09/2022 17:21:29\n"
     ]
    }
   ],
   "source": [
    "blockchain.chain[0].print_block_info()"
   ]
  },
  {
   "cell_type": "markdown",
   "id": "1f23b042-bf5f-47b2-8a01-b4a61a00b107",
   "metadata": {},
   "source": [
    "Instanciaremos dos objetos Account que van a interactuar con la blockchain."
   ]
  },
  {
   "cell_type": "code",
   "execution_count": 6,
   "id": "7785ee64-a682-4a3e-a282-62ae2def97d0",
   "metadata": {},
   "outputs": [],
   "source": [
    "brian = Account(100, \"Brian\")\n",
    "aaron = Account(100, \"Aaron\")"
   ]
  },
  {
   "cell_type": "markdown",
   "id": "f04f0afe-1f8b-4408-bc80-707a8740acfa",
   "metadata": {},
   "source": [
    "Con dos cuentas, podemos empezar a generar transacciones."
   ]
  },
  {
   "cell_type": "code",
   "execution_count": 7,
   "id": "6d6163c8-5792-45d5-91a5-16e079cbdae2",
   "metadata": {},
   "outputs": [
    {
     "name": "stdout",
     "output_type": "stream",
     "text": [
      "\n",
      "No tienes suficiente balance en tu cuenta.\n"
     ]
    }
   ],
   "source": [
    "# Cada cuenta se instancio con 100 de balance, si nos pasamos, la transaccion no pasa.\n",
    "blockchain.new_tx(brian, 120, aaron)"
   ]
  },
  {
   "cell_type": "code",
   "execution_count": 8,
   "id": "45db414c-0d0b-4be4-ac35-983f607a26e0",
   "metadata": {},
   "outputs": [
    {
     "name": "stdout",
     "output_type": "stream",
     "text": [
      "Nueva transaccion detectada... Balance suficiente.\n",
      "Estado: PENDIENTE\n",
      "Firmando transaccion...\n",
      "Verificando la firma de la transaccion...\n",
      "La firma es valida.\n",
      "Transaccion añadida a la espera.\n",
      "### Creando nuevo bloque ###\n",
      "### Bloque No.  1\n",
      "En PoW\n",
      "Dentro de funcion mine...\n",
      "Nonce Guess:  175806\n",
      "Resultant Hash: 0000972ca1031af0bbaff6eb93dab0aaaece8ee6923984d704ec489ce7566d55\n",
      "Decimal value of hash: 1043366892575108311399515003889798176689747802152098353737331169186704725\n",
      "\n",
      "### Bloque creado. ###\n",
      "\n"
     ]
    }
   ],
   "source": [
    "# Cada cuenta se instancio con 100 de balance, si nos pasamos, la transaccion no pasa.\n",
    "blockchain.new_tx(brian, 20, aaron)"
   ]
  },
  {
   "cell_type": "markdown",
   "id": "5c7fee9a-742d-4234-b470-19e83969b381",
   "metadata": {},
   "source": [
    "La transaccion pasa por un mar de funciones dentro de la red. \n",
    "1. La transacción se verifica.\n",
    "2. Se añade a la espera.\n",
    "3. Un nuevo bloque se mina y se adjuntan las transacciones en espera.\n",
    "4. Se anexa a la red."
   ]
  },
  {
   "cell_type": "markdown",
   "id": "0a775b61-f8e6-46cd-9874-f2fa5739fd55",
   "metadata": {},
   "source": [
    "#### Observemos los cambios en la red."
   ]
  },
  {
   "cell_type": "code",
   "execution_count": 52,
   "id": "9e4d7828-6d4f-488e-a2f0-1ea14d7c178d",
   "metadata": {},
   "outputs": [
    {
     "data": {
      "text/plain": [
       "(80, 120)"
      ]
     },
     "execution_count": 52,
     "metadata": {},
     "output_type": "execute_result"
    }
   ],
   "source": [
    "# ¿Sí se transfierieron los activos?\n",
    "brian.balance, aaron.balance "
   ]
  },
  {
   "cell_type": "code",
   "execution_count": 11,
   "id": "95f1336c-1c86-4c08-9b84-7306f444390e",
   "metadata": {},
   "outputs": [
    {
     "data": {
      "text/plain": [
       "<TxStatus.CONFIRMADA: 1>"
      ]
     },
     "execution_count": 46,
     "metadata": {},
     "output_type": "execute_result"
    }
   ],
   "source": [
    "# Status de la transacción\n",
    "last_transaction = brian.list_of_all_transactions[0]\n",
    "last_transaction.status"
   ]
  },
  {
   "cell_type": "code",
   "execution_count": 53,
   "id": "467f54cf-aad1-40c6-8874-b9c5efe942eb",
   "metadata": {},
   "outputs": [
    {
     "data": {
      "text/plain": [
       "{'sender': 'Brian',\n",
       " 'recipient': 'Aaron',\n",
       " 'value': 20,\n",
       " 'time': '25/09/2022 17:23:44'}"
      ]
     },
     "execution_count": 53,
     "metadata": {},
     "output_type": "execute_result"
    }
   ],
   "source": [
    "# Información de la transacción\n",
    "last_transaction.to_dict()"
   ]
  },
  {
   "cell_type": "code",
   "execution_count": 55,
   "id": "ecbc0a79-e223-4933-aa14-0e05cd111a24",
   "metadata": {},
   "outputs": [
    {
     "data": {
      "text/plain": [
       "{'sender': 'Brian',\n",
       " 'recipient': 'Aaron',\n",
       " 'value': 20,\n",
       " 'time': '25/09/2022 17:23:44'}"
      ]
     },
     "execution_count": 55,
     "metadata": {},
     "output_type": "execute_result"
    }
   ],
   "source": [
    "# También podemos acceder a la transacción desde los bloques\n",
    "blockchain.chain[last_transaction.block].list_of_transactions[0].to_dict()"
   ]
  },
  {
   "cell_type": "markdown",
   "id": "afba1c86-550f-4fe3-8b0f-66c12b9c3bb1",
   "metadata": {},
   "source": [
    "#### Veamos la información del bloque a detalle."
   ]
  },
  {
   "cell_type": "code",
   "execution_count": 58,
   "id": "a60b0630-03f8-4058-9448-7c7c10cdd5f5",
   "metadata": {},
   "outputs": [
    {
     "name": "stdout",
     "output_type": "stream",
     "text": [
      "-------------\n",
      "Bloque No:  1\n",
      "Transacciones: \n",
      "- Brian send 20 to Aaron\n",
      "Hash anterior:  00001e6acd1d86b401d687712d322ab80a5af8f8f74214d7575cf629c52e135e\n",
      "Hash actual:  0000972ca1031af0bbaff6eb93dab0aaaece8ee6923984d704ec489ce7566d55\n",
      "Time stamp:  25/09/2022 17:23:44\n"
     ]
    }
   ],
   "source": [
    "blockchain.chain[-1].print_block_info()"
   ]
  },
  {
   "cell_type": "markdown",
   "id": "8f91ff10-56b8-42ab-982f-65e57416e4dd",
   "metadata": {},
   "source": [
    "También podemos ver las firmas digitales hechas por las cuentas. Asi como, sus llaves, balance, etc."
   ]
  },
  {
   "cell_type": "code",
   "execution_count": 57,
   "id": "43c59bc3-8e14-4627-b309-de4878302f78",
   "metadata": {},
   "outputs": [
    {
     "data": {
      "text/plain": [
       "b'YqI\\x83\\xe2\\x13\\x94Z~\\xa9\\x0e2\\xa14\\x7f\\xcb\\x0f\\xb6{\\xea%\\x07\\xbb\\xac\\xa4\\x17\\x1c\\xca\\xdfQ3y\\xca\\xd0\\xe3g\\x03\\x0f\\xe3\\xf6\\xa8\\x81=\\x0bV)\\xd4\\xa7FIe!\\xf4W\\x90\\xa6\\x9d1\\x9b\\x90~\\xfb\\xd3\\xd5/\\x9b|\\x95b\\xe4\\x86\\x95\\x8c\\x88\\x19\\xdc\\xeb\\xa2\\x80\\xca\\xc4K\\x94j\\xce#\\x7fh\\x04\\x81EKJ$lXX3g\\xc9%\\x16\\xd5\\nk\\x99\\xc4}\\xec\\x81\\xc6\\xf5\\t]>\\x15\\xa8jSc\\xfe\\xe0\\x0e\\x89\\xb4\\xb9\\xaaz'"
      ]
     },
     "execution_count": 57,
     "metadata": {},
     "output_type": "execute_result"
    }
   ],
   "source": [
    "blockchain.chain[-1].list_of_transactions[0].signature"
   ]
  },
  {
   "cell_type": "markdown",
   "id": "f5aa0a57-88cb-4a40-b8c4-7c5abe039b91",
   "metadata": {},
   "source": [
    "Es posible tambien ajustar el numero de transacciones que mantiene la blockchain en espera antes de ser ejecutadas."
   ]
  },
  {
   "cell_type": "code",
   "execution_count": 59,
   "id": "5751a3f7-0dcc-4b44-9e9c-c151e46b04e0",
   "metadata": {},
   "outputs": [],
   "source": [
    "blockchain.tx_limit_per_block = 3"
   ]
  },
  {
   "cell_type": "code",
   "execution_count": 60,
   "id": "6c565fdb-e286-4a62-b5bf-1906bfabd3bc",
   "metadata": {},
   "outputs": [
    {
     "name": "stdout",
     "output_type": "stream",
     "text": [
      "Nueva transaccion detectada... Balance suficiente.\n",
      "Estado: PENDIENTE\n",
      "Firmando transaccion...\n",
      "Verificando la firma de la transaccion...\n",
      "La firma es valida.\n",
      "Transaccion añadida a la espera.\n",
      "Nueva transaccion detectada... Balance suficiente.\n",
      "Estado: PENDIENTE\n",
      "Firmando transaccion...\n",
      "Verificando la firma de la transaccion...\n",
      "La firma es valida.\n",
      "Transaccion añadida a la espera.\n",
      "Nueva transaccion detectada... Balance suficiente.\n",
      "Estado: PENDIENTE\n",
      "Firmando transaccion...\n",
      "Verificando la firma de la transaccion...\n",
      "La firma es valida.\n",
      "Transaccion añadida a la espera.\n",
      "### Creando nuevo bloque ###\n",
      "### Bloque No.  2\n",
      "En PoW\n",
      "Dentro de funcion mine...\n",
      "Nonce Guess:  66743\n",
      "Resultant Hash: 0000deebda7dd1c06da7f1c5390cf966403d77a9c04e78c7fa20b02bea8f45c4\n",
      "Decimal value of hash: 1538546286292944666458077248177711950710705178402765840629971981844825540\n",
      "\n",
      "### Bloque creado. ###\n",
      "\n"
     ]
    }
   ],
   "source": [
    "blockchain.new_tx(aaron, 10, brian)\n",
    "blockchain.new_tx(aaron, 30, brian)\n",
    "blockchain.new_tx(brian, 10, aaron)"
   ]
  },
  {
   "cell_type": "code",
   "execution_count": 61,
   "id": "d451aaf2-1961-4693-9c82-7339ad93c9f7",
   "metadata": {},
   "outputs": [
    {
     "name": "stdout",
     "output_type": "stream",
     "text": [
      "-------------\n",
      "Bloque No:  2\n",
      "Transacciones: \n",
      "- Aaron send 10 to Brian\n",
      "- Aaron send 30 to Brian\n",
      "- Brian send 10 to Aaron\n",
      "Hash anterior:  0000972ca1031af0bbaff6eb93dab0aaaece8ee6923984d704ec489ce7566d55\n",
      "Hash actual:  0000deebda7dd1c06da7f1c5390cf966403d77a9c04e78c7fa20b02bea8f45c4\n",
      "Time stamp:  25/09/2022 17:38:04\n"
     ]
    }
   ],
   "source": [
    "blockchain.chain[-1].print_block_info()"
   ]
  },
  {
   "cell_type": "markdown",
   "id": "5088a408-a107-4d78-837d-3d8ae55894b2",
   "metadata": {
    "tags": []
   },
   "source": [
    "## Proof of stake"
   ]
  },
  {
   "cell_type": "markdown",
   "id": "2782c6f3-ce8a-492c-a9b7-050fcfcebe33",
   "metadata": {},
   "source": [
    "Igual que en Proof of Work, hay que inicializar nuestra blockchain."
   ]
  },
  {
   "cell_type": "markdown",
   "id": "2469ca8c-8156-471e-9ef7-f58ca2f1a313",
   "metadata": {},
   "source": [
    "El siguiente comando lo podemos utilizar para resetear las variables locales en Jupyter."
   ]
  },
  {
   "cell_type": "code",
   "execution_count": 66,
   "id": "83d18ed3-5be5-4adb-8763-a6a20857e85a",
   "metadata": {},
   "outputs": [
    {
     "name": "stdin",
     "output_type": "stream",
     "text": [
      "Once deleted, variables cannot be recovered. Proceed (y/[n])?  y\n"
     ]
    }
   ],
   "source": [
    "%reset"
   ]
  },
  {
   "cell_type": "code",
   "execution_count": 68,
   "id": "c78f7091-852d-4280-b238-527193c76b56",
   "metadata": {},
   "outputs": [
    {
     "name": "stdout",
     "output_type": "stream",
     "text": [
      "Inicializando bloque genesis...\n",
      "Dentro de funcion mine...\n",
      "Hash añadido al bloque genesis...\n",
      "-------------\n",
      "Bloque No:  0\n",
      "Transacciones: \n",
      "- Genesis0 send 0 to Genesis01\n",
      "Hash anterior:  0\n",
      "Hash actual:  7b36a0972430bcd8ee49cf3525d4ed88a7ce83e3c20097501fd086c7be62d3a5\n",
      "Time stamp:  25/09/2022 17:39:44\n"
     ]
    }
   ],
   "source": [
    "from bin.blockchain import Blockchain\n",
    "from bin.account import Account, Validator\n",
    "blockchain = Blockchain() \n",
    "\n",
    "# Escojemos que protocolo queremos en nuestra blockchain\n",
    "blockchain.set_consensus('PoS')\n",
    "\n",
    "# inicializamos el bloque genesis\n",
    "blockchain.generate_genesis_block()\n",
    "\n",
    "blockchain.chain[0].print_block_info()"
   ]
  },
  {
   "cell_type": "code",
   "execution_count": 69,
   "id": "a5cc4ff8-5a30-4c30-a88f-cb7a896efc45",
   "metadata": {},
   "outputs": [],
   "source": [
    "# Creamos dos cuenta que interactuaran con la blockchain.\n",
    "brian = Account(300, \"Brian\")\n",
    "aaron = Account(300, \"Aaron\")"
   ]
  },
  {
   "cell_type": "code",
   "execution_count": 70,
   "id": "92c88dcc-0d23-4c2e-a09b-7616edde08a3",
   "metadata": {},
   "outputs": [],
   "source": [
    "# Inicializamos 5 cuentas que quieran ser validadores\n",
    "charles = Account(350, 'charles')\n",
    "edwin = Account(500, 'edwin')\n",
    "oliver = Account(200, 'oliver')\n",
    "erick = Account(90, 'erick')\n",
    "sonia = Account(275, 'sonia')"
   ]
  },
  {
   "cell_type": "code",
   "execution_count": 71,
   "id": "913b6cf9-f025-477f-a3f3-7b47f31d700d",
   "metadata": {
    "tags": []
   },
   "outputs": [],
   "source": [
    "# Los incluimos en nuestra BlockChain\n",
    "blockchain.set_validators((charles, edwin, oliver, erick, sonia))"
   ]
  },
  {
   "cell_type": "code",
   "execution_count": 72,
   "id": "e9c3811b-80e2-48f8-943c-d51b7f488e37",
   "metadata": {
    "tags": []
   },
   "outputs": [
    {
     "name": "stdout",
     "output_type": "stream",
     "text": [
      "Nueva transaccion detectada... Balance suficiente.\n",
      "Estado: PENDIENTE\n",
      "Firmando transaccion...\n",
      "Verificando la firma de la transaccion...\n",
      "La firma es valida.\n",
      "Transaccion añadida a la espera.\n",
      "### Creando nuevo bloque ###\n",
      "### Bloque No.  1\n",
      "En PoS:\n",
      "Acumulando los tokens de los validadores en el servidor actual...\n",
      "1325 - tokens acumulados.\n",
      "Revolviendo la lista...\n",
      "Lista revuelta!\n",
      "charles 350\n",
      "edwin 500\n",
      "oliver 200\n",
      "sonia 275\n",
      "El forjador del nuevo bloque sera... edwin\n",
      "Testigos:  ['charles', 'oliver', 'sonia']\n",
      "Forjador:  ['edwin']\n",
      "El forjador esta verificando las tx.\n",
      "Verificando la firma de la transaccion...\n",
      "La firma es valida.\n",
      "{'sender': 'Brian', 'recipient': 'Aaron', 'value': 50, 'time': '25/09/2022 17:42:58'}\n",
      "### FIRMANDO EL BLOQUE\n",
      "### BLOQUE FIRMADO Y CON SU HASH ---\n",
      "### Enviando el bloque a la red...\n",
      "### Iniciando atestiguamiento del bloque...\n",
      "charles: Confirmo que la firma del bloque es correcta.\n",
      "oliver: Confirmo que la firma del bloque es correcta.\n",
      "sonia: Confirmo que la firma del bloque es correcta.\n",
      "-----------------\n",
      "Confirmaciones suficientes para anadir el bloque.\n",
      "### Bloque creado. ###\n",
      "\n"
     ]
    }
   ],
   "source": [
    "# generamos y subimos las transacciones a la blockchain\n",
    "blockchain.new_tx(brian, 50, aaron)"
   ]
  },
  {
   "cell_type": "markdown",
   "id": "01f97427-22ce-408f-8ca0-ce3a09541a4b",
   "metadata": {},
   "source": [
    "La transacción pasa por aun más mar de transacciones.\n",
    "1. Se verifica la firma de la transacción.\n",
    "2. La transacción se añade a la espera.\n",
    "3. Si no hay validadores, se crean.\n",
    "4. Con validadores, se selecciona al forjador y a los testigos.\n",
    "5. El forjador crea un bloque y adjunta las transacciones verificándolas. Lo firma con su llave privada y lo envía a los testigos.\n",
    "6. Los testigos lo reciben, y revisan que el trabajo realizado por el forjador este bien.\n",
    "7. Si la mayoría esta de acuerdo, si llega a una acuerdo y el bloque pasa a ser anexado a la red.\n",
    "8. Se confirman las transacciones en la red."
   ]
  },
  {
   "cell_type": "markdown",
   "id": "0d237a81-82e8-49d2-95e8-ac8a289d26ea",
   "metadata": {},
   "source": [
    "Vamos a explorar un poco lo que obtuvimos."
   ]
  },
  {
   "cell_type": "code",
   "execution_count": 73,
   "id": "2f9a8f21-7183-4994-8e71-1550b6115baa",
   "metadata": {},
   "outputs": [
    {
     "data": {
      "text/plain": [
       "(250, 350)"
      ]
     },
     "execution_count": 73,
     "metadata": {},
     "output_type": "execute_result"
    }
   ],
   "source": [
    "# Si se transfierieron los activos?\n",
    "brian.balance, aaron.balance "
   ]
  },
  {
   "cell_type": "code",
   "execution_count": 74,
   "id": "93c95299-a122-4fc8-89a7-186c5f2e1db7",
   "metadata": {},
   "outputs": [
    {
     "data": {
      "text/plain": [
       "<TxStatus.CONFIRMADA: 1>"
      ]
     },
     "execution_count": 74,
     "metadata": {},
     "output_type": "execute_result"
    }
   ],
   "source": [
    "# Status de la transaccion\n",
    "last_transaction = brian.list_of_all_transactions[0]\n",
    "last_transaction.status"
   ]
  },
  {
   "cell_type": "code",
   "execution_count": 75,
   "id": "ceae9b29-c9e2-41e0-a371-7342226e7649",
   "metadata": {},
   "outputs": [
    {
     "data": {
      "text/plain": [
       "{'sender': 'Brian',\n",
       " 'recipient': 'Aaron',\n",
       " 'value': 50,\n",
       " 'time': '25/09/2022 17:42:58'}"
      ]
     },
     "execution_count": 75,
     "metadata": {},
     "output_type": "execute_result"
    }
   ],
   "source": [
    "# Informacion de la transaccion\n",
    "last_transaction.to_dict()"
   ]
  },
  {
   "cell_type": "markdown",
   "id": "7a5e5098-64d7-415d-af8d-26139d4ef345",
   "metadata": {},
   "source": [
    "Veamos la informacion del bloque a detalle."
   ]
  },
  {
   "cell_type": "code",
   "execution_count": 77,
   "id": "e90ca68f-c0fe-4ada-903d-b2bf7c0e738f",
   "metadata": {},
   "outputs": [
    {
     "name": "stdout",
     "output_type": "stream",
     "text": [
      "-------------\n",
      "Bloque No:  1\n",
      "Transacciones: \n",
      "- Brian send 50 to Aaron\n",
      "Hash anterior:  7b36a0972430bcd8ee49cf3525d4ed88a7ce83e3c20097501fd086c7be62d3a5\n",
      "Hash actual:  ecf72c08ef1ca765315abc4100cba8fa13875bf67713d5a02612489a9f7edbda\n",
      "Time stamp:  25/09/2022 17:42:58\n"
     ]
    }
   ],
   "source": [
    "blockchain.chain[-1].print_block_info()"
   ]
  },
  {
   "cell_type": "markdown",
   "id": "532eed74-df9e-4f98-a586-40da473000c1",
   "metadata": {},
   "source": [
    "Tambien podemos ver las firmas digitales hechas por las cuentas. Asi como, sus llaves, balance, etc."
   ]
  },
  {
   "cell_type": "code",
   "execution_count": 78,
   "id": "ad5f90e0-c9dc-440f-869c-a95acc157a35",
   "metadata": {},
   "outputs": [
    {
     "data": {
      "text/plain": [
       "b'\\xc1i\\n\\xfd%y\\xccojZ\\xb2\\x983`;\\xad\\xf6Z\\xa0\\x9aZX\\x86[\\x85\\xea\\xde\\x075\\xb3\"\\xd3\\x0b\\x82\\xfcr6\\xd9c+\\r\\x13KF\\x9c\\x9aO\\x9b\\xc4\\xc3,\\xe5>\\x1a)\\xdb#\\x15\\xa4\\x8c\\x01\\r5\\xaf\\xd9\\xb5\\xbe\\x0e\\x92\\x81\\xc5\\xec\\x941\\xe1\\x9eD\\x0e\"\\xec%>\\xd0\\xc6]\\'\\xa6\\xf1o\\x03\\xec\\rl\\xdb\\x9fxU\\xe2\\x04\\x10\\xcab\\xd5z\\x12\\x00\\xb0\\x08m\\x0c\\xa0\\xbb\\xb3>[z3\\xd6\\xb3\\\\\\x86iN\\xb7\\xdf7C\\x84'"
      ]
     },
     "execution_count": 78,
     "metadata": {},
     "output_type": "execute_result"
    }
   ],
   "source": [
    "blockchain.chain[-1].list_of_transactions[0].signature"
   ]
  },
  {
   "cell_type": "code",
   "execution_count": 79,
   "id": "4beeb7b7-6a26-4bb7-9733-ae4d96dcfd54",
   "metadata": {},
   "outputs": [
    {
     "name": "stdout",
     "output_type": "stream",
     "text": [
      "-------------\n",
      "Bloque No:  1\n",
      "Transacciones: \n",
      "- Brian send 50 to Aaron\n",
      "Hash anterior:  7b36a0972430bcd8ee49cf3525d4ed88a7ce83e3c20097501fd086c7be62d3a5\n",
      "Hash actual:  ecf72c08ef1ca765315abc4100cba8fa13875bf67713d5a02612489a9f7edbda\n",
      "Time stamp:  25/09/2022 17:42:58\n"
     ]
    }
   ],
   "source": [
    "blockchain.chain[-1].print_block_info()"
   ]
  },
  {
   "cell_type": "markdown",
   "id": "157221d4-18ca-4a5e-b357-2c41545e0f40",
   "metadata": {},
   "source": [
    "En este caso, podemos observar quien fue el forjador del bloque."
   ]
  },
  {
   "cell_type": "code",
   "execution_count": 80,
   "id": "2dd81f11-834f-4abd-90e1-62e8b415ba00",
   "metadata": {},
   "outputs": [
    {
     "data": {
      "text/plain": [
       "'edwin'"
      ]
     },
     "execution_count": 80,
     "metadata": {},
     "output_type": "execute_result"
    }
   ],
   "source": [
    "blockchain.chain[-1].forger.validator.account.nickname"
   ]
  },
  {
   "cell_type": "code",
   "execution_count": 88,
   "id": "3cf3c67f-224d-4660-8257-94d354ea3c6b",
   "metadata": {},
   "outputs": [
    {
     "data": {
      "text/plain": [
       "b'\\xad\\x18\\xd1\\xab\"8\\x9cn\\x13\\xcdK\\x06?kW=P>\\xc3\\xb7\\xd0yG\\xbf$\\xabep\\xad6\\x88\\xcfrLf\\xe9t\\x171\\xbc\\xea?\\x9b\\xae\\xb8E\\xcb\\xc5\\x14\\x0b\\xa3\\x90Xak\\xf9PU\\x8d\\x98\\x9b\\xd7\\xd8\\xed\\x9c#&\\xaa\\xb3|\\xfb\\x87\\x11\\xed\\x89\\xaeV5\\r\\x1d\\xb2Dy1\\x8e\\xd0Q\\\\\\x7f\\xc0\\xb6\\x8a{\\xfe\\xea\\x8e\\x83G4:\\x01\\x11\\x92-&o\\xfbC{t\\xfbp\\xa1\\xcb\\xdd\\x0e.\\xd8\\xfc%\\xd8\\xb9\\x8ac\\xa0V1u'"
      ]
     },
     "execution_count": 88,
     "metadata": {},
     "output_type": "execute_result"
    }
   ],
   "source": [
    "blockchain.chain[-1].forger.block_signature"
   ]
  },
  {
   "cell_type": "markdown",
   "id": "fdea992f-cecf-4405-84dd-010cc421ae96",
   "metadata": {},
   "source": [
    "Es posible tambien ajustar el numero de transacciones que mantiene la blockchain en espera antes de ser ejecutadas."
   ]
  },
  {
   "cell_type": "code",
   "execution_count": 89,
   "id": "f1e604b3-da75-4bab-b5f9-8669b63a69e3",
   "metadata": {},
   "outputs": [],
   "source": [
    "blockchain.tx_limit_per_block = 3"
   ]
  },
  {
   "cell_type": "code",
   "execution_count": 90,
   "id": "d826b7ce-08f3-452d-b1b0-86bafb4e3339",
   "metadata": {},
   "outputs": [
    {
     "name": "stdout",
     "output_type": "stream",
     "text": [
      "Nueva transaccion detectada... Balance suficiente.\n",
      "Estado: PENDIENTE\n",
      "Firmando transaccion...\n",
      "Verificando la firma de la transaccion...\n",
      "La firma es valida.\n",
      "Transaccion añadida a la espera.\n",
      "Nueva transaccion detectada... Balance suficiente.\n",
      "Estado: PENDIENTE\n",
      "Firmando transaccion...\n",
      "Verificando la firma de la transaccion...\n",
      "La firma es valida.\n",
      "Transaccion añadida a la espera.\n",
      "Nueva transaccion detectada... Balance suficiente.\n",
      "Estado: PENDIENTE\n",
      "Firmando transaccion...\n",
      "Verificando la firma de la transaccion...\n",
      "La firma es valida.\n",
      "Transaccion añadida a la espera.\n",
      "### Creando nuevo bloque ###\n",
      "### Bloque No.  2\n",
      "En PoS:\n",
      "Acumulando los tokens de los validadores en el servidor actual...\n",
      "1325 - tokens acumulados.\n",
      "Revolviendo la lista...\n",
      "Lista revuelta!\n",
      "charles 350\n",
      "edwin 500\n",
      "oliver 200\n",
      "sonia 275\n",
      "El forjador del nuevo bloque sera... sonia\n",
      "Testigos:  ['charles', 'edwin', 'oliver']\n",
      "Forjador:  ['sonia']\n",
      "El forjador esta verificando las tx.\n",
      "Verificando la firma de la transaccion...\n",
      "La firma es valida.\n",
      "{'sender': 'Aaron', 'recipient': 'Brian', 'value': 10, 'time': '25/09/2022 17:45:23'}\n",
      "Verificando la firma de la transaccion...\n",
      "La firma es valida.\n",
      "{'sender': 'Aaron', 'recipient': 'Brian', 'value': 30, 'time': '25/09/2022 17:45:23'}\n",
      "Verificando la firma de la transaccion...\n",
      "La firma es valida.\n",
      "{'sender': 'Brian', 'recipient': 'Aaron', 'value': 10, 'time': '25/09/2022 17:45:23'}\n",
      "### FIRMANDO EL BLOQUE\n",
      "### BLOQUE FIRMADO Y CON SU HASH ---\n",
      "### Enviando el bloque a la red...\n",
      "### Iniciando atestiguamiento del bloque...\n",
      "charles: Confirmo que la firma del bloque es correcta.\n",
      "edwin: Confirmo que la firma del bloque es correcta.\n",
      "oliver: Confirmo que la firma del bloque es correcta.\n",
      "-----------------\n",
      "Confirmaciones suficientes para anadir el bloque.\n",
      "### Bloque creado. ###\n",
      "\n"
     ]
    }
   ],
   "source": [
    "blockchain.new_tx(aaron, 10, brian)\n",
    "blockchain.new_tx(aaron, 30, brian)\n",
    "blockchain.new_tx(brian, 10, aaron)"
   ]
  },
  {
   "cell_type": "code",
   "execution_count": 91,
   "id": "6682fe16-d397-4b37-9ca8-ee0d3ca3d106",
   "metadata": {},
   "outputs": [
    {
     "name": "stdout",
     "output_type": "stream",
     "text": [
      "-------------\n",
      "Bloque No:  0\n",
      "Transacciones: \n",
      "- Genesis0 send 0 to Genesis01\n",
      "Hash anterior:  0\n",
      "Hash actual:  7b36a0972430bcd8ee49cf3525d4ed88a7ce83e3c20097501fd086c7be62d3a5\n",
      "Time stamp:  25/09/2022 17:39:44\n",
      "-------------\n",
      "Bloque No:  1\n",
      "Transacciones: \n",
      "- Brian send 50 to Aaron\n",
      "Hash anterior:  7b36a0972430bcd8ee49cf3525d4ed88a7ce83e3c20097501fd086c7be62d3a5\n",
      "Hash actual:  ecf72c08ef1ca765315abc4100cba8fa13875bf67713d5a02612489a9f7edbda\n",
      "Time stamp:  25/09/2022 17:42:58\n",
      "-------------\n",
      "Bloque No:  2\n",
      "Transacciones: \n",
      "- Aaron send 10 to Brian\n",
      "- Aaron send 30 to Brian\n",
      "- Brian send 10 to Aaron\n",
      "Hash anterior:  ecf72c08ef1ca765315abc4100cba8fa13875bf67713d5a02612489a9f7edbda\n",
      "Hash actual:  4e10a081c6594eed51c82bd49d71a47fb4343d180d6854d27d9943adbf7cb3e6\n",
      "Time stamp:  25/09/2022 17:45:23\n"
     ]
    }
   ],
   "source": [
    "blockchain.print_full_chain()"
   ]
  },
  {
   "cell_type": "markdown",
   "id": "e4e03dfb-59f6-4043-8d14-0dfb70b75d87",
   "metadata": {},
   "source": [
    "Llegamos al final de los ejercicios!"
   ]
  }
 ],
 "metadata": {
  "kernelspec": {
   "display_name": "Python 3 (ipykernel)",
   "language": "python",
   "name": "python3"
  },
  "language_info": {
   "codemirror_mode": {
    "name": "ipython",
    "version": 3
   },
   "file_extension": ".py",
   "mimetype": "text/x-python",
   "name": "python",
   "nbconvert_exporter": "python",
   "pygments_lexer": "ipython3",
   "version": "3.9.13"
  }
 },
 "nbformat": 4,
 "nbformat_minor": 5
}
