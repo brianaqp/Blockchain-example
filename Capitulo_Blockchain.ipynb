{
 "cells": [
  {
   "cell_type": "markdown",
   "id": "71d55173-ffc9-4a39-9bbd-4eda17d77a6c",
   "metadata": {},
   "source": [
    "# Capitulo. Blockchain"
   ]
  },
  {
   "cell_type": "code",
   "execution_count": null,
   "id": "0e6b76ac-7adc-4d19-a090-5e8d1a91ccde",
   "metadata": {},
   "outputs": [],
   "source": []
  },
  {
   "cell_type": "code",
   "execution_count": null,
   "id": "5cdd13b0-d07e-45a9-be15-8b521301bf37",
   "metadata": {},
   "outputs": [],
   "source": []
  }
 ],
 "metadata": {
  "kernelspec": {
   "display_name": "Python 3 (ipykernel)",
   "language": "python",
   "name": "python3"
  },
  "language_info": {
   "codemirror_mode": {
    "name": "ipython",
    "version": 3
   },
   "file_extension": ".py",
   "mimetype": "text/x-python",
   "name": "python",
   "nbconvert_exporter": "python",
   "pygments_lexer": "ipython3",
   "version": "3.9.13"
  }
 },
 "nbformat": 4,
 "nbformat_minor": 5
}
