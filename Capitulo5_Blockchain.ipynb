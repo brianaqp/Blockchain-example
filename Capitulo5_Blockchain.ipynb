{
 "cells": [
  {
   "cell_type": "markdown",
   "id": "71d55173-ffc9-4a39-9bbd-4eda17d77a6c",
   "metadata": {},
   "source": [
    "# Clase Blockchain"
   ]
  },
  {
   "cell_type": "markdown",
   "id": "4f630582-63d5-45f3-abcd-7354aca8282c",
   "metadata": {},
   "source": [
    "Vamos a desarrollar una blockchain que integre todos los capítulos anteriores.\n",
    "\n",
    "Una blockchain es una cadena de bloques que se van anexando, y cada bloque se vincula con el bloque anterior. Los bloques incluyen transacciones (cambios de estado en la red). Las transacciones son hechas por los usuarios. La forma en la que se anexan los bloques a la red es por medio de un consenso (Proof of Work y Proof of stake)\n",
    "\n",
    "Tenemos todo listo para hacer una Blockchain que integre todo lo que vimos con anterioridad.\n",
    "\n",
    "Crearemos un archivo llamado blockchain.py en nuestro directorio de trabajo. En él, vamos a crear una nueva clase llamada Blockchain."
   ]
  },
  {
   "cell_type": "code",
   "execution_count": 2,
   "id": "ac9ee4e4-6b95-44b3-bb15-e419a9b8be0b",
   "metadata": {},
   "outputs": [],
   "source": [
    "class Blockchain:\n",
    "    pass"
   ]
  },
  {
   "cell_type": "markdown",
   "id": "01cbb393-b955-47f2-847b-5e824da10572",
   "metadata": {},
   "source": [
    "A diferencia de las clases anteriores, no vamos a necesitar mandar ninguna variable al instanciar un nuevo objeto Blockchain. Los ajustes los vamos a ir anexando por aparte.\n",
    "\n",
    "Como atributos nuestra blockchain va a tener los siguientes atributos:\n",
    "- chain: Lista que almacenara la cadena de bloques de la blockchain.\n",
    "- tx_limit_per_block: Variable que define el límite de transacciones en espera antes de ser anexadas a la red.\n",
    "- holding_tx: Lista que almacenara las transacciones en lista de espera.\n",
    "\n",
    "Por parte del consenso Proof of Stake. Vamos a agregar atributos específicos.\n",
    "- total_stacked: Número entero que define el dinero total en stack de toda la red.\n",
    "- validators: Diccionario que almacena las direcciones de los validadores y su stack.\n",
    "- last_block: Variable que almacena el próximo bloque a ser anexado a la red."
   ]
  },
  {
   "cell_type": "code",
   "execution_count": 3,
   "id": "d862bd5f-bce4-4d0d-8204-eef2d7fca07b",
   "metadata": {},
   "outputs": [],
   "source": [
    "class Blockchain:\n",
    "    def __init__(self):\n",
    "        # Atributos\n",
    "        self.protocol = None\n",
    "        self.chain = [] \n",
    "        self.tx_limit_per_block = 1\n",
    "        self.holding_tx = [] \n",
    "        # Atributos propios de PoS\n",
    "        self.total_stacked = 0 \n",
    "        self.validators = {} \n",
    "        self.last_block = None"
   ]
  },
  {
   "cell_type": "markdown",
   "id": "3e64f367-a3f3-4f1e-985f-14cec287d646",
   "metadata": {},
   "source": [
    "## Métodos"
   ]
  },
  {
   "cell_type": "markdown",
   "id": "2813640f-3c5f-4c86-a9c8-1a3fe52a5f4a",
   "metadata": {},
   "source": [
    "En esta sección vamos a explicar cada método y el porqué de su implementación."
   ]
  },
  {
   "cell_type": "markdown",
   "id": "704cc23d-3f5a-49b0-aa82-33f80c529739",
   "metadata": {},
   "source": [
    "### Set Consensus"
   ]
  },
  {
   "cell_type": "markdown",
   "id": "117592cf-bac9-4ff0-8b77-40d0a899984e",
   "metadata": {},
   "source": [
    "Necesitamos implementar un método que cambie por completo el sistema en el que nuestra blockchain funciona cambiando de consenso."
   ]
  },
  {
   "cell_type": "code",
   "execution_count": 15,
   "id": "5b3f42db-e347-4ef0-a353-85b41b850321",
   "metadata": {},
   "outputs": [],
   "source": [
    "def set_consensus(self, protocol: str):\n",
    "        if protocol not in ('PoW', 'PoS'):\n",
    "            print('Seleccione un consenso de los dos disponibles.(PoW, PoS)')\n",
    "            sys.exit()\n",
    "        self.consensus = protocol"
   ]
  },
  {
   "cell_type": "markdown",
   "id": "94d5520d-8b21-4494-bc4e-45b805bc6853",
   "metadata": {
    "tags": []
   },
   "source": [
    "### Genesis Block"
   ]
  },
  {
   "cell_type": "markdown",
   "id": "1f254de3-3c7d-4639-8d0c-67b7a1bd77b9",
   "metadata": {},
   "source": [
    "Al momento de lanzar una blockchain a una red de prueba, lo primero es inicializarlo con un bloque génesis.\n",
    "\n",
    "Cada bloque cuenta con su propio hash y el hash del bloque anterior, esto sirve para vincularse entre sí y darle inmutabilidad a la red; pero, ¿Qué pasa cuando hablamos del bloque 0? ¿Qué procede cuando el bloque 0 no tiene un bloque por detrás? ¿Cómo se vincula?\n",
    "\n",
    "Hay que diseñar una función que nos ayude a resolver esta problemática."
   ]
  },
  {
   "cell_type": "code",
   "execution_count": 11,
   "id": "2d673b58-5b69-4d66-aff3-d35e0cca56db",
   "metadata": {},
   "outputs": [],
   "source": [
    "def generate_genesis_block(self):\n",
    "        \"\"\"Inicializa el bloque genesis.\"\"\"\n",
    "        print('asdfas') \n",
    "        if len(self.chain) == 0: # Comprueba que la blockchain este vacia.\n",
    "            tx = Transaction(Account(0, \"Genesis0\"), 0, Account(0, \"Genesis01\"))\n",
    "            block = Block('0', [tx], 0)\n",
    "            self.mine(block)\n",
    "            self.chain.append(block)\n",
    "            block.list_of_transactions[0].change_status('CONFIRMADA')\n",
    "        else:\n",
    "            raise \"Error: La Blockchain tiene que estar vacia.\""
   ]
  },
  {
   "cell_type": "markdown",
   "id": "a767b1d0-5fb6-42f9-bd48-8cc0071521be",
   "metadata": {},
   "source": [
    "Al comprobar que la blockchain esta vacía, puede procede a crear cuentas y transacciones que solo se usaran una vez para inicializar el bloque génesis."
   ]
  },
  {
   "cell_type": "markdown",
   "id": "b80583dd-6dfe-4858-9dcb-85028c0dafae",
   "metadata": {},
   "source": [
    "### ¿Cómo recibe la blockchain las transacciones?\n",
    "### New Tx\n",
    "\n"
   ]
  },
  {
   "cell_type": "markdown",
   "id": "ebd97c61-9791-4d2f-942f-e4db4e46d3e1",
   "metadata": {},
   "source": [
    "Implementaremos un método que reciba una transacción hecha en local y la mande a todos los procesos que necesita para ser anexada a un bloque."
   ]
  },
  {
   "cell_type": "code",
   "execution_count": 27,
   "id": "e32fca38-858f-48de-b6d2-cd0602d8adfb",
   "metadata": {},
   "outputs": [],
   "source": [
    "from account import Account\n",
    "\n",
    "# Recibe los parametros de la transaccion.\n",
    "\n",
    "def new_tx(self, _sender: Account, _value: int, _receiver: Account):\n",
    "        \"\"\"Recibe los parametros para instanciar un objeto de \n",
    "        tipo Transaction; verifica que sea una transacción válida\n",
    "        y lo añade a la holding list de la blockchain, \n",
    "        para luego ser parte de un bloque. \"\"\"\n",
    "        # 0.5. Se debe verificar que quien manda la tx, tenga suficiente balance en su cuenta.\n",
    "        if _value > _sender.balance: \n",
    "            print()\n",
    "            print('No tienes suficiente balance en tu cuenta.')\n",
    "            return\n",
    "        print('\\n','Nueva transaccion detectada... Balance suficiente.')\n",
    "        # 1. Instanciar un objeto transaccion.\n",
    "        tx = Transaction(_sender, _value, _receiver)\n",
    "        # 1.2 Al momento de instanciar el objeto, le restamos a la cuenta principal\n",
    "        # el dinero que envio.\n",
    "        _sender.balance -= _value\n",
    "        print(\"Estado: {}\".format(tx.status.name))\n",
    "        # 2. Esta transaccion necesita ser firmada (confirmada).\n",
    "        tx.sign_transaction()\n",
    "        # 3. La firma pasa a ser verificada, con la finalidad de comprobar que sea correcta.\n",
    "        # 3.1. Si es correcta signifa que puede agregarse a un bloque\n",
    "        if tx.verify_signature() == True:\n",
    "            if len(self.holding_tx) < self.tx_limit_per_block: # Revisa si aun cabe en la lista de espera\n",
    "                self.holding_tx.append(tx)\n",
    "                print(\"Transaccion añadida a la espera.\")\n",
    "            if len(self.holding_tx) >= self.tx_limit_per_block: # Revisa si la lista de espera puede proceder\n",
    "                self.add_tx_to_block()\n",
    "        else:\n",
    "            return "
   ]
  },
  {
   "cell_type": "markdown",
   "id": "f546e1a4-aea4-4bd0-a563-709ec7376411",
   "metadata": {
    "tags": []
   },
   "source": [
    "### ¿Qué pasa cuando las tx en lista de espera estan listas para ser anexadas a un bloque?"
   ]
  },
  {
   "cell_type": "markdown",
   "id": "1772e94d-3817-4128-a7d4-5de59655fcd1",
   "metadata": {
    "tags": []
   },
   "source": [
    "### Add tx to block"
   ]
  },
  {
   "cell_type": "markdown",
   "id": "da084bbb-67bd-478c-b005-4037f488f2a2",
   "metadata": {},
   "source": [
    "Nuestra blockchain va a tener un cierto número de transacciones límite, cuando el número de tx en lista de espera sea igual o mayor al límite, se llamara el método add_tx_to_block.\n",
    "\n",
    "Este método se implementa dentro de la función new_tx.\n",
    "\n",
    "Es el encargado de agrupar las transacciones en espera a un bloque, e implementar el bloque a la red. La preparación del bloque va a variar dependiendo del mecanismo de consenso actual de la blockchain."
   ]
  },
  {
   "cell_type": "markdown",
   "id": "b2efbdc2-42a6-4eec-a5de-7c3a9e1e5640",
   "metadata": {
    "tags": []
   },
   "source": [
    "### Caso: Proof of Work"
   ]
  },
  {
   "cell_type": "markdown",
   "id": "d9550df8-4aa3-417e-8dac-c13093281c01",
   "metadata": {},
   "source": [
    "En el caso de ser Proof of Work, la metodología es la siguiente:\n",
    "\n",
    "1. Instanciaremos un objeto Block, para ellos vamos a necesitar enviar:\n",
    "- El hash del bloque anterior.\n",
    "- La lista de transacciones que entraran al bloque.\n",
    "- El número del bloque.\n",
    "\n",
    "2. Enviar ese bloque a una función minado.\n",
    "\n",
    "3. Minar el bloque para encontrar el nonce y un hash que cumpla con el target deseado.\n",
    "\n",
    "4. Anexar el bloque a la cadena.\n",
    "\n",
    "5. Vaciar la lista de transacciones en espera.\n",
    "\n",
    "5. Agregar el block_number en las transacciones que ya forman parte de un bloque oficial en la cadena de bloques.\n",
    "\n",
    "6. Cambiar el estatus de las transacciones dentro del último bloque y \"enviar\" el dinero a quien corresponda."
   ]
  },
  {
   "cell_type": "code",
   "execution_count": 59,
   "id": "0ec3ae7f-d30f-4a6c-a705-523e1f60a788",
   "metadata": {},
   "outputs": [],
   "source": [
    "def add_tx_to_block(self):\n",
    "        \"\"\"Funcion que toma las transacciones en espera y procede a implementarlas en un bloque, \n",
    "        para su posterior adision en la cadena de bloques.\"\"\"\n",
    "        print(\"### Creando nuevo bloque ###\")\n",
    "        print('### Bloque No. ', len(self.chain))\n",
    "        _block_number = len(self.chain)\n",
    "        # Consenso Proof of Work\n",
    "        if self.consensus == 'PoW':\n",
    "            print('En PoW')\n",
    "            block = Block(previous_hash=self.chain[-1].hash,list_of_transactions=self.holding_tx, block_number=_block_number) # Crear un objeto bloque\n",
    "            self.mine(block) # Minar el bloque y hallar su nonce\n",
    "            self.chain.append(block) # Anexar ese bloque a la red\n",
    "            print(\"### Bloque creado. ###\\n\")\n",
    "            self.holding_tx = [] # Vaciar la lista de transacciones pendiente\n",
    "            for tx in block.list_of_transactions: # Bucle que asigna el block number a cada transaccion en el nuevo bloque\n",
    "                tx.block = _block_number\n",
    "            self.verify_latest_tx() # 6\n",
    "            self.send_money_to_receivers()"
   ]
  },
  {
   "cell_type": "markdown",
   "id": "3e4ee01d-5122-4de2-b3ca-fcb06ac098a5",
   "metadata": {
    "tags": []
   },
   "source": [
    "#### Mine "
   ]
  },
  {
   "cell_type": "markdown",
   "id": "b6743d1b-a851-4b54-82ce-fabc68fd63c1",
   "metadata": {
    "tags": []
   },
   "source": [
    "Minar un bloque significa anexarlo a la red, pero primero hay que encontrar el nonce para vencer la dificultad. Implementaremos un método que reciba un bloque y lo pase por un proceso de \"minado\".\n",
    "\n",
    "El proceso es idéntico a como lo vimos en el apartado de proof of work. Se obtiene el block header, se mina, se busca hash que venza al target, una vez encontrado se anexa el hash al bloque.\n",
    "\n",
    "Este método se implementa dentro de la función add_tx_to_block."
   ]
  },
  {
   "cell_type": "code",
   "execution_count": 5,
   "id": "bb4b72ea-ad25-4d99-948a-8e28a26c9c30",
   "metadata": {},
   "outputs": [],
   "source": [
    "def mine(self, block) -> None:\n",
    "        \"\"\"Funciona que mina el bloque.\n",
    "        Funciona segun el protocolo de Proof of Stake. \"\"\"\n",
    "        print('Dentro de funcion minado...')\n",
    "        # Primero obtenemos el string que contiene toda la informacion del bloque.\n",
    "        block_header = json.dumps(block.get_block_header()).encode()\n",
    "        block_hashed = SHA256.new(block_header)\n",
    "        block_hash = block_hashed.hexdigest()\n",
    "        # Proceso de minado\n",
    "        if self.consensus == 'PoW':\n",
    "        # 1. Dificultad\n",
    "            difficulty_hash = 0x0000FFFFFFFFFFFFFFFFFFFFFFFFFFFFFFFFFFFFFFFFFFFFFFFFFFFFFFFFFFFF\n",
    "            difficult_decimal = 1766847064778384329583297500742918515827483896875618958121606201292619775 # equivalencia de difficulty_hash en decimal\n",
    "            # Sigue hasta que el hash sea menor o igual a la dificultad\n",
    "            while int(block_hashed.hexdigest(), 16) >= difficulty_hash:\n",
    "                block.nonce += 1 # Incremento del Nonce \n",
    "                block_header = json.dumps(block.get_block_header()).encode() # Se convierte el valor a string.\n",
    "                block_hashed = SHA256.new(block_header) # Pdd. Va a salir distinto por el cambio de nonce!\n",
    "                print('Nonce Guess: ', block.nonce)\n",
    "                print('Resultant Hash: ' + str(block_hashed.hexdigest()))\n",
    "                print('Decimal value of hash: ' + str(int(block_hashed.hexdigest(), 16)) + '\\n')\n",
    "                block_hash = block_hashed.hexdigest() # El bloque guarda el hash en hexadecimal\n",
    "            print('Winner hash: ', block_hash)\n",
    "            block.hash = block_hash\n",
    "        if self.consensus == 'PoS':\n",
    "            # En Proof of Stake vamos a saltar el proceso de minado.\n",
    "            block.hash = block_hash"
   ]
  },
  {
   "cell_type": "markdown",
   "id": "e0d92d0a-25f5-4220-9d52-37a01f66e793",
   "metadata": {},
   "source": [
    "#### Verify latest tx"
   ]
  },
  {
   "cell_type": "markdown",
   "id": "744093a5-28e0-4699-bbf3-5e4db95396d6",
   "metadata": {},
   "source": [
    "Función que cambia el status de una transacción a \"confirmada\".\n",
    "\n",
    "Una transacción está confirmada cuando ya es parte de la cadena de bloques."
   ]
  },
  {
   "cell_type": "code",
   "execution_count": 52,
   "id": "61414573-631d-4339-97ff-9e1e182e3803",
   "metadata": {},
   "outputs": [],
   "source": [
    "def verify_latest_tx(self):\n",
    "        \"\"\"Pone como confirmadas las transacciones que ya forman parte de la cadena de\n",
    "        Bloques original.\"\"\"\n",
    "        latest_block = self.chain[-1]\n",
    "        block_transactions = latest_block.list_of_transactions\n",
    "        for tx in block_transactions:\n",
    "            tx.change_status('CONFIRMADA')"
   ]
  },
  {
   "cell_type": "markdown",
   "id": "7db67886-1355-44e9-b533-6922de06440b",
   "metadata": {},
   "source": [
    "#### Send money to receivers"
   ]
  },
  {
   "cell_type": "markdown",
   "id": "d050afa0-8fdd-4f71-af64-8b7b16e5ac33",
   "metadata": {},
   "source": [
    "Función que envía el dinero, dependiendo del estatus de la transaccion.\n",
    "\n",
    "- Si la transacción es confirmada, el dinero se envía al destinatario.\n",
    "- Si la transacción es rechazada, el dinero se regresa al remitente.\n",
    "\n",
    "En sí, en una blockchain el dinero no se envía. La blockchain cambia de \"estado\". Esta implementación funciona, pero no es exactamente la forma \"verdadera\"."
   ]
  },
  {
   "cell_type": "code",
   "execution_count": 6,
   "id": "ae8a24da-de12-44e3-8f0f-b873ed3d901e",
   "metadata": {},
   "outputs": [],
   "source": [
    "def send_money_to_receivers(self):\n",
    "        \"\"\"Funcion que envía el dinero a los recipientes.\"\"\"\n",
    "        latest_block = self.chain[-1]\n",
    "        block_transactions = latest_block.list_of_transactions\n",
    "        for tx in block_transactions:\n",
    "            # Condicional que cambia el estado de la transaccion a Declinada (Para objeto de practica)\n",
    "            # tx.change_status('DECLINADA')\n",
    "            if tx.status.name == 'CONFIRMADA':\n",
    "                tx.recipient.balance += tx.value\n",
    "            if tx.status.name == 'DECLINADA':\n",
    "                tx.sender.balance += tx.value"
   ]
  },
  {
   "cell_type": "markdown",
   "id": "233188fd-8816-43ff-b814-e6029c721940",
   "metadata": {
    "tags": []
   },
   "source": [
    "### Caso: Proof of Stake"
   ]
  },
  {
   "cell_type": "markdown",
   "id": "3a2a16df-6f0b-46fa-9f32-8a884ff99a76",
   "metadata": {
    "tags": []
   },
   "source": [
    "En un consenso Proof of Stake ya no hay mineros, hay validadores, que van interpretando dos roles, de Forjadores y Testigos, para anexar bloques a la red. Se desarrolla de la siguiente manera:\n",
    "\n",
    "1. La red debe de tener validadores. Si no los tiene, se tienen que crear antes de hacer transacciones.\n",
    "2. Llamar a la función select_the_forger() para seleccionar al nuevo forjador del bloque y a los no ganadores.\n",
    "3. Los no ganadores del algoritmo de selección de forjador pasan a ser los nuevos testigos.\n",
    "4. El forjador agrupa y verifica las transacciones que estén en espera.\n",
    "5. El forjador crea un bloque (incluye las transacciones verificadas).\n",
    "6. El forjador firma el bloque con su llave privada.\n",
    "7. El forjador envía el bloque a la red.\n",
    "8. Los testigos revisan que el trabajo que hizo el forjador sea válido. Si la mayor parte de los validadores están de acuerdo se llega a un acuerdo, y el bloque puede ser anexado a la red.\n",
    "9. El forjador anexa el bloque a la red.\n",
    "10. Se confirman las transacciones dentro del bloque y se \"envía\" el dinero a quien corresponda."
   ]
  },
  {
   "cell_type": "code",
   "execution_count": 12,
   "id": "dd80cedc-8d6a-4e5b-9f5d-359a7adccaff",
   "metadata": {},
   "outputs": [],
   "source": [
    "     def add_tx_to_block(self):\n",
    "        \"\"\"Funcion que toma las transacciones en espera y procede a implementarlas en un bloque, \n",
    "        para su posterior adision en la cadena de bloques.\"\"\"\n",
    "        print(\"### Creando nuevo bloque ###\")\n",
    "        print('### Bloque No. ', len(self.chain))\n",
    "        _block_number = len(self.chain)\n",
    "        if self.consensus == 'PoS':\n",
    "            print('En PoS:')\n",
    "            forger, validators_with_out_forger = self.select_the_forger()\n",
    "            # Los validadores no seleccionados pasan a ser objetos Attestors.\n",
    "            attestors = Attestors(validators_with_out_forger)\n",
    "            print('Testigos: ', [attestor.validator.account.nickname for attestor in attestors.group])\n",
    "            print('Forjador: ', [forger.validator.account.nickname])\n",
    "            # En proceso de verificar las tx...\n",
    "            verified_tx = forger.verify_tx(self.holding_tx)\n",
    "            forger.create_a_block(self.chain[-1].hash, verified_tx, _block_number)\n",
    "            forger.sign_block()\n",
    "            # el forjador manda el bloque a la red\n",
    "            print('### Enviando el bloque a la red...')\n",
    "            self.last_block = forger.broadcast_block()\n",
    "            print('### Iniciando atestiguamiento del bloque...')\n",
    "            if attestors.attest(self.last_block):\n",
    "                self.chain.append(self.last_block)\n",
    "                print(\"### Bloque creado. ###\\n\")\n",
    "                self.holding_tx = []\n",
    "                for tx in self.last_block.list_of_transactions:\n",
    "                    tx.block = _block_number\n",
    "                self.verify_latest_tx()\n",
    "                self.send_money_to_receivers()\n",
    "            else:\n",
    "                print('No se pudo incluir el bloque.')\n",
    "                return"
   ]
  },
  {
   "cell_type": "markdown",
   "id": "ec3c0409-71a2-46f9-879b-138fabbc683b",
   "metadata": {
    "tags": []
   },
   "source": [
    "#### 1. La red debe de tener validadores. Si no los tiene, se tienen que crear antes de hacer transacciones."
   ]
  },
  {
   "cell_type": "markdown",
   "id": "ff7cab8b-59b1-44da-963e-6dbcf30427aa",
   "metadata": {},
   "source": [
    "#### Set Validators"
   ]
  },
  {
   "cell_type": "markdown",
   "id": "8262db36-7b5a-4e34-b414-ab922dd638f7",
   "metadata": {},
   "source": [
    "Implementaremos un método que recibe una lista de cuentas interesadas en ser validadores y las instancíe como una clase Validator.\n",
    "- Su balance es restado de sus cuentas, y guardado en la red.\n",
    "- Se les otorga sus tokens correspondientes.\n",
    "- Son agregados a los validores disponibles de la red."
   ]
  },
  {
   "cell_type": "code",
   "execution_count": 138,
   "id": "e62a815b-5f85-47c8-b3c7-2a42364eb1ed",
   "metadata": {},
   "outputs": [],
   "source": [
    "def set_validators(self, accounts):\n",
    "        \"\"\"Funcion que determina los validadores de la red.\"\"\"\n",
    "        for account in accounts:\n",
    "            if account.balance >= 100: # Si tiene igual o mas de 100 en balance, puede ser un validador.\n",
    "                new_validator = Validator(account) # Se crea un validador mandando la cuenta\n",
    "                self.total_stacked += new_validator.account.balance # Se anade el balance de la cuenta como al stack total de la red\n",
    "                new_validator.set_tokens(new_validator.account.balance) # Se anaden tokens por cuenta\n",
    "                self.validators.update({new_validator: new_validator.account.balance}) # se anade en un diccionario un registro de {cuenta: balance ingresado}\n",
    "                new_validator.account.balance -= new_validator.account.balance # Se resta el balance de la cuenta"
   ]
  },
  {
   "cell_type": "markdown",
   "id": "047bea3e-c3ea-4e51-9792-5f32e9875eb5",
   "metadata": {
    "tags": []
   },
   "source": [
    "#### 2. Llamar a la función select_the_forger() para seleccionar al nuevo forjador del bloque y a los no ganadores."
   ]
  },
  {
   "cell_type": "markdown",
   "id": "e616ce6d-46ef-4ca6-9143-ee546c13d322",
   "metadata": {},
   "source": [
    "Esta implementación ya la vimos en el capítulo de proof of stake. Recordemos que es una función qué implementa un algoritmo de tómbola, los participantes compran tickets, o en su caso Tokens, los Tokens entran a una lista, la lista se revuelve y se escoge al azar a un forjador, los no-ganadores pasan a ser los testigos. Se retorna el forjador y a los validadores no-ganadores."
   ]
  },
  {
   "cell_type": "code",
   "execution_count": 139,
   "id": "a414a40d-a356-4594-881b-fe249d794414",
   "metadata": {},
   "outputs": [],
   "source": [
    " def select_the_forger(self):\n",
    "        \"\"\"Funcion que selecciona que validador va a ser el forjador del nuevo bloque.\"\"\"\n",
    "        # Dentro de esta funcion, se va a disenar un algoritmo que escoja al siguiente forger, el siguiente ejemplo fue una implementacion propia, pero cada blockchain puede variar.\n",
    "        # \n",
    "        # Cada validador tiene un 'stack' dentro del total en la blockchain. Cada\n",
    "        # moneda que ingresaron es un 'ticket' que les puede dar la posibilidad de ser\n",
    "        # el siguiente forjador del bloque.\n",
    "        # La cantidad de tickets va a depender de la cantidad de monedas que ingresaron. ejemplo: Si el usuario stackeo 100 monedas, tiene 100 tickets dentro de la rifa.\n",
    "        \n",
    "        # Este algoritmo escojera un ticket al azar. El dueno del ticker sera el nuevo forger.\n",
    "        # 1.- Lista que almacenara todos los tickets de la rifa\n",
    "        pool = []\n",
    "        # 2.- Bucle que recorrera a cada validador, y añadara sus tokens a la lista general.\n",
    "        for validator in self.validators:\n",
    "            pool += validator.tokens\n",
    "        # 3.- Se revuelve la lista. (Como si fuera un sorteo.)\n",
    "        print('Acumulando los tokens de los validadores en el servidor actual...')\n",
    "        print(len(pool), '- tokens acumulados.')\n",
    "        print('Revolviendo la lista...')\n",
    "        pool = sample(pool, len(pool))\n",
    "        print('Lista revuelta!')\n",
    "        # Funcion que revisa los tokens de cada quien. Estaria chido ponerla como funcion aparte.\n",
    "        contador = 0\n",
    "        for validator in self.validators.keys():\n",
    "            for token in pool:\n",
    "                if token.owner.account.nickname == validator.account.nickname:\n",
    "                    contador += 1\n",
    "            print(validator.account.nickname, contador)\n",
    "            contador = 0\n",
    "        # Fin de la validacion\n",
    "        # Aqui deberia de ir algo estilo, escojer el ticket ganador.\n",
    "        ticket_winner = choice(pool)\n",
    "        forger = Forger(ticket_winner.owner)\n",
    "        print(f'El forjador del nuevo bloque sera... {forger.validator.account.nickname}')\n",
    "        # los validadores no ganadores del sorteo pasan a ser testigos.\n",
    "        # los testigos estan encargados de revisar que el forjador haga lo correcto\n",
    "        validators_with_out_forger = [validator for validator in self.validators]\n",
    "        # se remueve el forjador, asi solo quedan los testigos\n",
    "        validators_with_out_forger.remove(forger.validator)\n",
    "        return forger, validators_with_out_forger"
   ]
  },
  {
   "cell_type": "markdown",
   "id": "a0274085-6f25-462e-9a89-a8592b49c00f",
   "metadata": {
    "tags": []
   },
   "source": [
    "#### 3. Los no ganadores del algoritmo de selección de forjador pasan a ser los nuevos testigos."
   ]
  },
  {
   "cell_type": "code",
   "execution_count": 140,
   "id": "8297b0d9-2696-4466-a946-2629bf48044b",
   "metadata": {},
   "outputs": [],
   "source": [
    " def add_tx_to_block(self):\n",
    "        if self.consensus == 'PoS':\n",
    "            ...\n",
    "            attestors = Attestors(validators_with_out_forger)"
   ]
  },
  {
   "cell_type": "markdown",
   "id": "512bc5e7-84d9-49c5-895e-90fcc0ce38d0",
   "metadata": {
    "tags": []
   },
   "source": [
    "#### 4. El forjador agrupa y verifica las transacciones que estén en espera."
   ]
  },
  {
   "cell_type": "markdown",
   "id": "92576b4f-e27a-4669-b61d-cc4a07c90356",
   "metadata": {},
   "source": [
    "Para este proceso el forjado utiliza el método verify_tx:"
   ]
  },
  {
   "cell_type": "code",
   "execution_count": 141,
   "id": "433ddc4c-39c7-4e6f-b676-178d6d7e7d37",
   "metadata": {},
   "outputs": [],
   "source": [
    " def add_tx_to_block(self):\n",
    "        if self.consensus == 'PoS':\n",
    "            ...\n",
    "            verified_tx = forger.verify_tx(self.holding_tx)"
   ]
  },
  {
   "cell_type": "markdown",
   "id": "bbfae262-ab57-4e73-b6bf-71f640137a6c",
   "metadata": {},
   "source": [
    "#### 5. El forjador crea un bloque (incluye las transacciones verificadas)."
   ]
  },
  {
   "cell_type": "code",
   "execution_count": 142,
   "id": "18ecbf07-4974-4e45-a23f-e1b4227ffad2",
   "metadata": {},
   "outputs": [],
   "source": [
    " def add_tx_to_block(self):\n",
    "        if self.consensus == 'PoS':\n",
    "            ...\n",
    "            forger.create_a_block(self.chain[-1].hash, verified_tx, _block_number)"
   ]
  },
  {
   "cell_type": "markdown",
   "id": "e2823ad7-186d-4469-a4e6-329bb1bf9582",
   "metadata": {},
   "source": [
    "#### 6. El forjador firma el bloque con su llave privada."
   ]
  },
  {
   "cell_type": "code",
   "execution_count": 143,
   "id": "11e1ac2e-11c2-4889-b208-a8b855ba259f",
   "metadata": {},
   "outputs": [],
   "source": [
    " def add_tx_to_block(self):\n",
    "        if self.consensus == 'PoS':\n",
    "            ...\n",
    "            forger.sign_block()"
   ]
  },
  {
   "cell_type": "markdown",
   "id": "f9241b7e-e568-4101-abd1-db78c311f57b",
   "metadata": {},
   "source": [
    "#### 7. El forjador envía el bloque a la red."
   ]
  },
  {
   "cell_type": "code",
   "execution_count": 144,
   "id": "93a1414f-c3d5-48ba-a6e4-3cf9a9e64fa5",
   "metadata": {},
   "outputs": [],
   "source": [
    " def add_tx_to_block(self):\n",
    "        if self.consensus == 'PoS':\n",
    "            ...\n",
    "            self.last_block = forger.broadcast_block()"
   ]
  },
  {
   "cell_type": "markdown",
   "id": "e53a8484-9218-4004-9de5-0ebb2c706b56",
   "metadata": {},
   "source": [
    "#### 8. Los testigos revisan que el trabajo que hizo el forjador sea válido. Si la mayor parte de los validadores están de acuerdo se llega a un acuerdo, y el bloque puede ser anexado a la red.\n"
   ]
  },
  {
   "cell_type": "code",
   "execution_count": 145,
   "id": "1e5bec15-342c-46d8-b097-11b80613498e",
   "metadata": {},
   "outputs": [],
   "source": [
    " def add_tx_to_block(self):\n",
    "        if self.consensus == 'PoS':\n",
    "            ...\n",
    "            if attestors.attest(self.last_block):\n",
    "                print(\"Acuerdo concretado. El bloque puede anexarse a la red\")\n",
    "            \n",
    "            else:\n",
    "                print('No se pudo incluir el bloque.')\n",
    "                return"
   ]
  },
  {
   "cell_type": "markdown",
   "id": "67de4d10-529e-4c7b-abd9-63654d9e2801",
   "metadata": {
    "tags": []
   },
   "source": [
    "#### 9. El forjador anexa el bloque a la red."
   ]
  },
  {
   "cell_type": "code",
   "execution_count": 146,
   "id": "30840cda-cea3-4866-8172-6e730e68f500",
   "metadata": {},
   "outputs": [],
   "source": [
    " def add_tx_to_block(self):\n",
    "        if self.consensus == 'PoS':\n",
    "            ...\n",
    "            if attestors.attest(self.last_block):\n",
    "                print(\"Acuerdo concretado. El bloque puede anexarse a la red\")\n",
    "                self.chain.append(self.last_block)\n",
    "                print(\"### Bloque creado. ###\\n\")\n",
    "            else:\n",
    "                print('No se pudo incluir el bloque.')\n",
    "                return"
   ]
  },
  {
   "cell_type": "markdown",
   "id": "8b3aceca-d055-48ba-a88c-fe52cd7500e1",
   "metadata": {},
   "source": [
    "#### 10. Se confirman las transacciones dentro del bloque y se \"envía\" el dinero a quien corresponda."
   ]
  },
  {
   "cell_type": "code",
   "execution_count": 147,
   "id": "8b56ffd9-3f26-40d3-bc91-74f8cedd0214",
   "metadata": {},
   "outputs": [],
   "source": [
    " def add_tx_to_block(self):\n",
    "        if self.consensus == 'PoS':\n",
    "            ...\n",
    "            if attestors.attest(self.last_block):\n",
    "                print(\"Acuerdo concretado. El bloque puede anexarse a la red\")\n",
    "                self.chain.append(self.last_block)\n",
    "                print(\"### Bloque creado. ###\\n\")\n",
    "                \n",
    "                # Se vacia la lista de tx pendientes\n",
    "                self.holding_tx = []\n",
    "                \n",
    "                # se agrega el numero del bloque a la transacicon\n",
    "                for tx in self.last_block.list_of_transactions:\n",
    "                    tx.block = _block_number\n",
    "                    \n",
    "                # se verifican las transacciones dentro del bloque\n",
    "                self.verify_latest_tx()\n",
    "                \n",
    "                # el dinero se envia dependiendo del estado de las transacciones\n",
    "                self.send_money_to_receivers()\n",
    "            else:\n",
    "                print('No se pudo incluir el bloque.')\n",
    "                return"
   ]
  },
  {
   "cell_type": "markdown",
   "id": "a718870e-0e23-45c3-9c15-1b6ec5e3f630",
   "metadata": {},
   "source": [
    "Esto seria todo de la clase Blockchain. Pasemos al siguiente capítulo para poner en práctica todo lo que hemos visto."
   ]
  }
 ],
 "metadata": {
  "kernelspec": {
   "display_name": "Python 3 (ipykernel)",
   "language": "python",
   "name": "python3"
  },
  "language_info": {
   "codemirror_mode": {
    "name": "ipython",
    "version": 3
   },
   "file_extension": ".py",
   "mimetype": "text/x-python",
   "name": "python",
   "nbconvert_exporter": "python",
   "pygments_lexer": "ipython3",
   "version": "3.9.13"
  }
 },
 "nbformat": 4,
 "nbformat_minor": 5
}
