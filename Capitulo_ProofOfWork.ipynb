{
 "cells": [
  {
   "cell_type": "markdown",
   "id": "025a4b70-64f9-4921-ba52-c67abe78eb07",
   "metadata": {
    "tags": []
   },
   "source": [
    "### Proof of Work"
   ]
  },
  {
   "cell_type": "markdown",
   "id": "44afddae-c824-4e7a-b1f9-2a8a87c36d5e",
   "metadata": {},
   "source": [
    "Recordemos que Proof of Work, a groso modo, son varios nodos utilizando su poder computacional para ganar una carrera. La carrera se gana resolviendo un \"acertijo matematico\" encontrando un numero llamado \"nonce\". Los bloques pasan a ser parte de la red cuando el nonce es encontrado y los demas nodos llegan a un acuerdo.\n",
    "\n",
    "Nos vamos a centrar en acertijo que hay que resolver y el como se haya la solucion."
   ]
  },
  {
   "cell_type": "markdown",
   "id": "025b7fae-3f8f-47f7-a712-631988bfb985",
   "metadata": {},
   "source": [
    "#### El acertijo"
   ]
  },
  {
   "cell_type": "markdown",
   "id": "a9933b84-ef3a-4848-8f14-78319c5280b9",
   "metadata": {},
   "source": [
    "Vamos a desarrollar un pequeno ejemplo para visualizar como se resuelve un acertijo en Proof of Work."
   ]
  },
  {
   "cell_type": "code",
   "execution_count": 3,
   "id": "9f696658-1bba-42e8-93f7-a7c17f885122",
   "metadata": {},
   "outputs": [
    {
     "data": {
      "text/plain": [
       "'ebd510e521801dc7ab91d89dcbbcd7aa30fd31ff8bb591401b2f8c87f1c2dd4a'"
      ]
     },
     "execution_count": 3,
     "metadata": {},
     "output_type": "execute_result"
    }
   ],
   "source": [
    "from Crypto.Hash import SHA256\n",
    "contenido_a_cifrar = \"ultra secreto\"\n",
    "\n",
    "# De manera normal, si hacemos un hash de lo de arriba se ve asi.\n",
    "hash_normal = SHA256.new(contenido_a_cifrar.encode())\n",
    "hash_normal.hexdigest()"
   ]
  },
  {
   "cell_type": "markdown",
   "id": "614ae697-fefa-4bd9-aef3-043beaa63f8e",
   "metadata": {},
   "source": [
    "El acertijo en Blockchain suele ser encontrar un hash que cumpla ciertas condiciones:\n",
    "1. Que los primeros \"n\" caracteres del hash sea 0. \"n\" podrian ser 3, 5 o 7 ceros.\n",
    "2. Que el valor Hash en decimal, sea mayor a un target.\n",
    "\n",
    "Veamoslo"
   ]
  },
  {
   "cell_type": "code",
   "execution_count": 6,
   "id": "c80fbf83-a70a-490e-9c3b-ffd1a80f6e55",
   "metadata": {},
   "outputs": [
    {
     "name": "stdout",
     "output_type": "stream",
     "text": [
      "0000882567fe350c0c382ee3d5dd3bf34478069b8508a0e84f6124096949abae , nonce:  159043\n"
     ]
    }
   ],
   "source": [
    "# Si solo hacemos un hash no vamos a resolver nada.\n",
    "\n",
    "# Necesitamos iterar muchas veces para encontrar un HASH que cumpla las condiciones. Para ello, existe el nonce.\n",
    "from Crypto.Hash import SHA256\n",
    "\n",
    "contenido_a_cifrar = { \n",
    "    \"contenido\": \"ultra secreto\",\n",
    "    \"nonce\": 0} # Incluimos el nonce en el contenido a cifrar\n",
    "\n",
    "# Definimos una dificultad \"target\". \n",
    "difficulty_hash = 0x0000FFFFFFFFFFFFFFFFFFFFFFFFFFFFFFFFFFFFFFFFFFFFFFFFFFFFFFFFFFFF\n",
    "difficult_decimal = 1766847064778384329583297500742918515827483896875618958121606201292619775 # Esto equivale a lo mismo que arriba\n",
    "\n",
    "# Se saca un primer hash con el nonce en 0\n",
    "hash_resultante = SHA256.new(str(contenido_a_cifrar).encode())\n",
    "\n",
    "# Solo Si el hash resultante es mayor o igual a el target de dificultad, puedes salir del bucle.\n",
    "# Si no cumple la condicion, se aumenta el valor del nonce, y se vuelve a cifrar el contenido \n",
    "while int(hash_resultante.hexdigest(), 16) >= difficulty_hash: # En vez de difficulty_decimal, podria usarse difficulty_hash\n",
    "    contenido_a_cifrar[\"nonce\"] += 1\n",
    "    hash_resultante = SHA256.new(str(contenido_a_cifrar).encode())\n",
    "print(hash_resultante.hexdigest(), \", nonce: \", contenido_a_cifrar[\"nonce\"]) # El nonce, en este caso, tambien nos indica su propio numero de iteraciones."
   ]
  },
  {
   "cell_type": "markdown",
   "id": "705790c5-e70a-4d4e-a8b8-600089f20b2f",
   "metadata": {},
   "source": [
    "Con el acertijo resuelto, un bloque esta listo para ser anexado a la red.\n",
    "\n",
    "El nonce se encuentra despues de varias iteraciones. Todos los nodos que estan compitiendo para ser los primeros en ganar la carrera estan buscando este valor, puede que algunos lo intenten con algun algoritmo distinto, pero en esencia es lo mismo. \n",
    "\n",
    "En cadenas de bloques que contienen a muchos mineros en su red (Bitcoin), cuentan con un sistema en el que cada que se mina un bloque se ajusta la dificultad en relacion a los mineros trabajando. Por ejemplo, Bitcoin ajusta su dificultad para que cada bloque se mine en aproximados 10 minutos."
   ]
  },
  {
   "cell_type": "code",
   "execution_count": null,
   "id": "f2bd1fe7-2bc5-45e3-a5e1-a011a0f3b413",
   "metadata": {},
   "outputs": [],
   "source": []
  }
 ],
 "metadata": {
  "kernelspec": {
   "display_name": "Python 3 (ipykernel)",
   "language": "python",
   "name": "python3"
  },
  "language_info": {
   "codemirror_mode": {
    "name": "ipython",
    "version": 3
   },
   "file_extension": ".py",
   "mimetype": "text/x-python",
   "name": "python",
   "nbconvert_exporter": "python",
   "pygments_lexer": "ipython3",
   "version": "3.9.13"
  }
 },
 "nbformat": 4,
 "nbformat_minor": 5
}
