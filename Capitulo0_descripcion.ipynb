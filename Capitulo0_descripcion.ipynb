{
 "cells": [
  {
   "cell_type": "markdown",
   "id": "7f34ef30-6071-457a-90f7-6a7ab5a26c29",
   "metadata": {},
   "source": [
    "# ¿Qué se va a desarrollar?"
   ]
  },
  {
   "cell_type": "markdown",
   "id": "d2940b50-976a-4543-a8f8-32838498cdd1",
   "metadata": {},
   "source": [
    "Vamos a desarrollar desde cero una cadena de bloques, utilizando el lenguaje de programación Python y principalmente el paradigma orientado a objetos.\n",
    "\n",
    "La blockchain que desarrollemos necesita cumplir con los siguientes requisitos para considerarse un funcional:\n",
    "- Incluya transacciones entre dos usuarios en la red.\n",
    "- Trabaje con el consenso Proof of Work y Proof of Stake.\n",
    "- Incluya cifrado asimétrico de un solo camino.\n",
    "\n",
    "Para desarrollarlo primero necesitamos tener las siguientes clases en archivos distintos:\n",
    "1. Transaction\n",
    "2. Account\n",
    "3. Block\n",
    "4. Consesos \n",
    "    - 4.1 Proof of Work\n",
    "    - 4.2 Proof of Stake\n",
    "5. Blockchain"
   ]
  },
  {
   "cell_type": "markdown",
   "id": "1cdaf3be-0ade-41a1-bef3-678e3d8488d2",
   "metadata": {
    "tags": []
   },
   "source": [
    "# Requerimientos"
   ]
  },
  {
   "cell_type": "markdown",
   "id": "3e820054-0e01-4e56-a054-89b77d513c5f",
   "metadata": {},
   "source": [
    "Lo primero es haber tomado nota de los conceptos vistos en los temas previos por escrito para entender con más facilidad el porqué se hacen las cosas."
   ]
  },
  {
   "cell_type": "markdown",
   "id": "54650a4c-d846-4799-b402-043ce9d2ef10",
   "metadata": {},
   "source": [
    "Vamos a necesitar instalar una dependencia llamada pycryptodome. Gracias a ella podremos trabajar con cifrados asimétricos, hashes, firmas y otras funciones importantes"
   ]
  },
  {
   "cell_type": "code",
   "execution_count": 2,
   "id": "0335c1c9",
   "metadata": {},
   "outputs": [
    {
     "name": "stdout",
     "output_type": "stream",
     "text": [
      "Requirement already satisfied: pip in c:\\users\\brian\\appdata\\local\\packages\\pythonsoftwarefoundation.python.3.9_qbz5n2kfra8p0\\localcache\\local-packages\\python39\\site-packages (22.3)\n",
      "Requirement already satisfied: pycryptodome in c:\\users\\brian\\appdata\\local\\packages\\pythonsoftwarefoundation.python.3.9_qbz5n2kfra8p0\\localcache\\local-packages\\python39\\site-packages (3.14.1)\n"
     ]
    }
   ],
   "source": [
    "import sys\n",
    "!{sys.executable} -m pip install --upgrade pip\n",
    "!{sys.executable} -m pip install pycryptodome"
   ]
  },
  {
   "cell_type": "markdown",
   "id": "b9d29e13-a890-4ebb-a860-201d380be74b",
   "metadata": {},
   "source": [
    "Con los requerimientos instalados, podemos pasar al primer capitulo: Bloques."
   ]
  }
 ],
 "metadata": {
  "kernelspec": {
   "display_name": "Python 3 (ipykernel)",
   "language": "python",
   "name": "python3"
  },
  "language_info": {
   "codemirror_mode": {
    "name": "ipython",
    "version": 3
   },
   "file_extension": ".py",
   "mimetype": "text/x-python",
   "name": "python",
   "nbconvert_exporter": "python",
   "pygments_lexer": "ipython3",
   "version": "3.9.13"
  }
 },
 "nbformat": 4,
 "nbformat_minor": 5
}
